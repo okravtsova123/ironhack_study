{
 "cells": [
  {
   "cell_type": "code",
   "execution_count": 1,
   "id": "d2951de9",
   "metadata": {},
   "outputs": [],
   "source": [
    "#dictionaries and lists\n",
    "\n",
    "#disctionary for keys\n",
    "keys_doors={'piano_key':'Door A', 'queen_bad_key':'Door B', 'Double_bed_key':'Door C', 'dresser_key':'Door D'}\n",
    "\n",
    "#dictonary for Game room\n",
    "game_room={'couch':['go back to sleep', 'explore'], \"piano\":['play', 'explore'], 'door':['unlock', 'kick']} #if explore is choosen you get a question about piano\n",
    "\n",
    "#dictionary for Bedroom1\n",
    "bedroom1={'Queen Bad':['go to rest', 'explore'], 'Door A':['go back through', 'lock'], 'Door B':['unlock', 'kick'], 'Door C':['unlock','kick']}\n",
    "\n",
    "#dictionary for Bedroom2\n",
    "bedroom1={'double bad':['go to rest','explore'], 'dresser':['thow it against the door','explore']}\n",
    "\n",
    "#dictionary for Living room\n",
    "Living_room={'dining table'=['have a nice meal', 'sit and chill', 'explore'], 'door D':['unlock','kick']}\n",
    "\n"
   ]
  }
 ],
 "metadata": {
  "kernelspec": {
   "display_name": "Python 3 (ipykernel)",
   "language": "python",
   "name": "python3"
  },
  "language_info": {
   "codemirror_mode": {
    "name": "ipython",
    "version": 3
   },
   "file_extension": ".py",
   "mimetype": "text/x-python",
   "name": "python",
   "nbconvert_exporter": "python",
   "pygments_lexer": "ipython3",
   "version": "3.11.5"
  }
 },
 "nbformat": 4,
 "nbformat_minor": 5
}
