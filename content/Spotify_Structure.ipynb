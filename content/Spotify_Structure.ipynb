{
 "cells": [
  {
   "cell_type": "markdown",
   "metadata": {
    "id": "-M3QFIFrKdPt"
   },
   "source": [
    "# Installing Spotipy"
   ]
  },
  {
   "cell_type": "code",
   "execution_count": 4,
   "metadata": {
    "colab": {
     "base_uri": "https://localhost:8080/"
    },
    "executionInfo": {
     "elapsed": 5245,
     "status": "ok",
     "timestamp": 1623745902730,
     "user": {
      "displayName": "Ignacio Soteras",
      "photoUrl": "",
      "userId": "02050793736257155229"
     },
     "user_tz": -120
    },
    "id": "tis_6tTpKY1Z",
    "outputId": "adfb4763-04d9-4b55-b0d8-c5e317263072"
   },
   "outputs": [
    {
     "name": "stdout",
     "output_type": "stream",
     "text": [
      "\n",
      "Note: you may need to restart the kernel to use updated packages.\n",
      "Retrieving notices: ...working... done\n",
      "Collecting package metadata (current_repodata.json): ...working... done\n",
      "Solving environment: ...working... done\n",
      "\n",
      "# All requested packages already installed.\n",
      "\n"
     ]
    },
    {
     "name": "stderr",
     "output_type": "stream",
     "text": [
      "\n",
      "\n",
      "==> WARNING: A newer version of conda exists. <==\n",
      "  current version: 23.7.4\n",
      "  latest version: 24.1.1\n",
      "\n",
      "Please update conda by running\n",
      "\n",
      "    $ conda update -n base -c defaults conda\n",
      "\n",
      "Or to minimize the number of packages updated during conda update use\n",
      "\n",
      "     conda install conda=24.1.1\n",
      "\n",
      "\n"
     ]
    }
   ],
   "source": [
    "## conda install -c conda-forge spotipy"
   ]
  },
  {
   "cell_type": "markdown",
   "metadata": {
    "id": "fnhh4ayEOKz4"
   },
   "source": [
    "## Loading credentials from the config file"
   ]
  },
  {
   "cell_type": "code",
   "execution_count": 1,
   "metadata": {
    "ExecuteTime": {
     "end_time": "2022-11-23T08:53:19.773334Z",
     "start_time": "2022-11-23T08:53:19.511876Z"
    },
    "colab": {
     "base_uri": "https://localhost:8080/"
    },
    "executionInfo": {
     "elapsed": 23559,
     "status": "ok",
     "timestamp": 1623745938174,
     "user": {
      "displayName": "Ignacio Soteras",
      "photoUrl": "",
      "userId": "02050793736257155229"
     },
     "user_tz": -120
    },
    "id": "5j1kqPOoN_I5",
    "outputId": "23c4b5dd-b94b-425d-e2b9-e5647cb055df"
   },
   "outputs": [],
   "source": [
    "import config"
   ]
  },
  {
   "cell_type": "markdown",
   "metadata": {
    "id": "0fpGWmsCOSx0"
   },
   "source": [
    "## Starting with Spotify API"
   ]
  },
  {
   "cell_type": "code",
   "execution_count": 2,
   "metadata": {
    "ExecuteTime": {
     "end_time": "2022-11-23T08:53:27.060562Z",
     "start_time": "2022-11-23T08:53:26.974725Z"
    },
    "colab": {
     "base_uri": "https://localhost:8080/"
    },
    "executionInfo": {
     "elapsed": 313,
     "status": "ok",
     "timestamp": 1623747121467,
     "user": {
      "displayName": "Ignacio Soteras",
      "photoUrl": "",
      "userId": "02050793736257155229"
     },
     "user_tz": -120
    },
    "id": "-0qiqFTZqqE2",
    "outputId": "c532baae-8ff5-4abc-b70e-0bda934d25b1"
   },
   "outputs": [
    {
     "data": {
      "text/plain": [
       "{'tracks': {'href': 'https://api.spotify.com/v1/search?query=daddy+cool&type=track&market=GB&offset=0&limit=5',\n",
       "  'items': [{'album': {'album_type': 'album',\n",
       "     'artists': [{'external_urls': {'spotify': 'https://open.spotify.com/artist/54R6Y0I7jGUCveDTtI21nb'},\n",
       "       'href': 'https://api.spotify.com/v1/artists/54R6Y0I7jGUCveDTtI21nb',\n",
       "       'id': '54R6Y0I7jGUCveDTtI21nb',\n",
       "       'name': 'Boney M.',\n",
       "       'type': 'artist',\n",
       "       'uri': 'spotify:artist:54R6Y0I7jGUCveDTtI21nb'}],\n",
       "     'external_urls': {'spotify': 'https://open.spotify.com/album/1KQUrny9y5zGpktF6hAGd4'},\n",
       "     'href': 'https://api.spotify.com/v1/albums/1KQUrny9y5zGpktF6hAGd4',\n",
       "     'id': '1KQUrny9y5zGpktF6hAGd4',\n",
       "     'images': [{'height': 640,\n",
       "       'url': 'https://i.scdn.co/image/ab67616d0000b273dafd1cd6e9537ec8463ea691',\n",
       "       'width': 640},\n",
       "      {'height': 300,\n",
       "       'url': 'https://i.scdn.co/image/ab67616d00001e02dafd1cd6e9537ec8463ea691',\n",
       "       'width': 300},\n",
       "      {'height': 64,\n",
       "       'url': 'https://i.scdn.co/image/ab67616d00004851dafd1cd6e9537ec8463ea691',\n",
       "       'width': 64}],\n",
       "     'is_playable': True,\n",
       "     'name': 'Take The Heat Off Me',\n",
       "     'release_date': '1976',\n",
       "     'release_date_precision': 'year',\n",
       "     'total_tracks': 10,\n",
       "     'type': 'album',\n",
       "     'uri': 'spotify:album:1KQUrny9y5zGpktF6hAGd4'},\n",
       "    'artists': [{'external_urls': {'spotify': 'https://open.spotify.com/artist/54R6Y0I7jGUCveDTtI21nb'},\n",
       "      'href': 'https://api.spotify.com/v1/artists/54R6Y0I7jGUCveDTtI21nb',\n",
       "      'id': '54R6Y0I7jGUCveDTtI21nb',\n",
       "      'name': 'Boney M.',\n",
       "      'type': 'artist',\n",
       "      'uri': 'spotify:artist:54R6Y0I7jGUCveDTtI21nb'}],\n",
       "    'disc_number': 1,\n",
       "    'duration_ms': 208600,\n",
       "    'explicit': False,\n",
       "    'external_ids': {'isrc': 'DEC737600002'},\n",
       "    'external_urls': {'spotify': 'https://open.spotify.com/track/3WMbD1OyfKuwWDWMNbPQ4g'},\n",
       "    'href': 'https://api.spotify.com/v1/tracks/3WMbD1OyfKuwWDWMNbPQ4g',\n",
       "    'id': '3WMbD1OyfKuwWDWMNbPQ4g',\n",
       "    'is_local': False,\n",
       "    'is_playable': True,\n",
       "    'name': 'Daddy Cool',\n",
       "    'popularity': 77,\n",
       "    'preview_url': 'https://p.scdn.co/mp3-preview/03e2b60a6a5c101dc0d41866f2e079d8de4a663b?cid=2e4ff68e7f1545909d5ff8bfe6928158',\n",
       "    'track_number': 1,\n",
       "    'type': 'track',\n",
       "    'uri': 'spotify:track:3WMbD1OyfKuwWDWMNbPQ4g'},\n",
       "   {'album': {'album_type': 'compilation',\n",
       "     'artists': [{'external_urls': {'spotify': 'https://open.spotify.com/artist/54R6Y0I7jGUCveDTtI21nb'},\n",
       "       'href': 'https://api.spotify.com/v1/artists/54R6Y0I7jGUCveDTtI21nb',\n",
       "       'id': '54R6Y0I7jGUCveDTtI21nb',\n",
       "       'name': 'Boney M.',\n",
       "       'type': 'artist',\n",
       "       'uri': 'spotify:artist:54R6Y0I7jGUCveDTtI21nb'}],\n",
       "     'external_urls': {'spotify': 'https://open.spotify.com/album/155cebHEGGBqYJAXKWJw6D'},\n",
       "     'href': 'https://api.spotify.com/v1/albums/155cebHEGGBqYJAXKWJw6D',\n",
       "     'id': '155cebHEGGBqYJAXKWJw6D',\n",
       "     'images': [{'height': 640,\n",
       "       'url': 'https://i.scdn.co/image/ab67616d0000b273d792d961638fd28f8d281947',\n",
       "       'width': 640},\n",
       "      {'height': 300,\n",
       "       'url': 'https://i.scdn.co/image/ab67616d00001e02d792d961638fd28f8d281947',\n",
       "       'width': 300},\n",
       "      {'height': 64,\n",
       "       'url': 'https://i.scdn.co/image/ab67616d00004851d792d961638fd28f8d281947',\n",
       "       'width': 64}],\n",
       "     'is_playable': True,\n",
       "     'name': 'Daddy Cool',\n",
       "     'release_date': '1994-03-14',\n",
       "     'release_date_precision': 'day',\n",
       "     'total_tracks': 16,\n",
       "     'type': 'album',\n",
       "     'uri': 'spotify:album:155cebHEGGBqYJAXKWJw6D'},\n",
       "    'artists': [{'external_urls': {'spotify': 'https://open.spotify.com/artist/54R6Y0I7jGUCveDTtI21nb'},\n",
       "      'href': 'https://api.spotify.com/v1/artists/54R6Y0I7jGUCveDTtI21nb',\n",
       "      'id': '54R6Y0I7jGUCveDTtI21nb',\n",
       "      'name': 'Boney M.',\n",
       "      'type': 'artist',\n",
       "      'uri': 'spotify:artist:54R6Y0I7jGUCveDTtI21nb'}],\n",
       "    'disc_number': 1,\n",
       "    'duration_ms': 220666,\n",
       "    'explicit': False,\n",
       "    'external_ids': {'isrc': 'DED160000010'},\n",
       "    'external_urls': {'spotify': 'https://open.spotify.com/track/5lWSa1rmuSL6OBPOnkAqoa'},\n",
       "    'href': 'https://api.spotify.com/v1/tracks/5lWSa1rmuSL6OBPOnkAqoa',\n",
       "    'id': '5lWSa1rmuSL6OBPOnkAqoa',\n",
       "    'is_local': False,\n",
       "    'is_playable': True,\n",
       "    'name': 'Rasputin',\n",
       "    'popularity': 72,\n",
       "    'preview_url': 'https://p.scdn.co/mp3-preview/99129129d46b1937b0897e38d561110e1cd319f4?cid=2e4ff68e7f1545909d5ff8bfe6928158',\n",
       "    'track_number': 3,\n",
       "    'type': 'track',\n",
       "    'uri': 'spotify:track:5lWSa1rmuSL6OBPOnkAqoa'},\n",
       "   {'album': {'album_type': 'single',\n",
       "     'artists': [{'external_urls': {'spotify': 'https://open.spotify.com/artist/12A83CWwFiyXy90ScLWPIe'},\n",
       "       'href': 'https://api.spotify.com/v1/artists/12A83CWwFiyXy90ScLWPIe',\n",
       "       'id': '12A83CWwFiyXy90ScLWPIe',\n",
       "       'name': 'LIZOT',\n",
       "       'type': 'artist',\n",
       "       'uri': 'spotify:artist:12A83CWwFiyXy90ScLWPIe'},\n",
       "      {'external_urls': {'spotify': 'https://open.spotify.com/artist/54R6Y0I7jGUCveDTtI21nb'},\n",
       "       'href': 'https://api.spotify.com/v1/artists/54R6Y0I7jGUCveDTtI21nb',\n",
       "       'id': '54R6Y0I7jGUCveDTtI21nb',\n",
       "       'name': 'Boney M.',\n",
       "       'type': 'artist',\n",
       "       'uri': 'spotify:artist:54R6Y0I7jGUCveDTtI21nb'}],\n",
       "     'external_urls': {'spotify': 'https://open.spotify.com/album/7fXtm0TpLRIJhxobKDjxRp'},\n",
       "     'href': 'https://api.spotify.com/v1/albums/7fXtm0TpLRIJhxobKDjxRp',\n",
       "     'id': '7fXtm0TpLRIJhxobKDjxRp',\n",
       "     'images': [{'height': 640,\n",
       "       'url': 'https://i.scdn.co/image/ab67616d0000b273da8ce498bc7d441e6d841d25',\n",
       "       'width': 640},\n",
       "      {'height': 300,\n",
       "       'url': 'https://i.scdn.co/image/ab67616d00001e02da8ce498bc7d441e6d841d25',\n",
       "       'width': 300},\n",
       "      {'height': 64,\n",
       "       'url': 'https://i.scdn.co/image/ab67616d00004851da8ce498bc7d441e6d841d25',\n",
       "       'width': 64}],\n",
       "     'is_playable': True,\n",
       "     'name': 'Daddy Cool',\n",
       "     'release_date': '2021-12-03',\n",
       "     'release_date_precision': 'day',\n",
       "     'total_tracks': 1,\n",
       "     'type': 'album',\n",
       "     'uri': 'spotify:album:7fXtm0TpLRIJhxobKDjxRp'},\n",
       "    'artists': [{'external_urls': {'spotify': 'https://open.spotify.com/artist/12A83CWwFiyXy90ScLWPIe'},\n",
       "      'href': 'https://api.spotify.com/v1/artists/12A83CWwFiyXy90ScLWPIe',\n",
       "      'id': '12A83CWwFiyXy90ScLWPIe',\n",
       "      'name': 'LIZOT',\n",
       "      'type': 'artist',\n",
       "      'uri': 'spotify:artist:12A83CWwFiyXy90ScLWPIe'},\n",
       "     {'external_urls': {'spotify': 'https://open.spotify.com/artist/54R6Y0I7jGUCveDTtI21nb'},\n",
       "      'href': 'https://api.spotify.com/v1/artists/54R6Y0I7jGUCveDTtI21nb',\n",
       "      'id': '54R6Y0I7jGUCveDTtI21nb',\n",
       "      'name': 'Boney M.',\n",
       "      'type': 'artist',\n",
       "      'uri': 'spotify:artist:54R6Y0I7jGUCveDTtI21nb'}],\n",
       "    'disc_number': 1,\n",
       "    'duration_ms': 154858,\n",
       "    'explicit': False,\n",
       "    'external_ids': {'isrc': 'DEE862102870'},\n",
       "    'external_urls': {'spotify': 'https://open.spotify.com/track/50rcUhHimavzT1qq6QrgMG'},\n",
       "    'href': 'https://api.spotify.com/v1/tracks/50rcUhHimavzT1qq6QrgMG',\n",
       "    'id': '50rcUhHimavzT1qq6QrgMG',\n",
       "    'is_local': False,\n",
       "    'is_playable': True,\n",
       "    'name': 'Daddy Cool',\n",
       "    'popularity': 59,\n",
       "    'preview_url': 'https://p.scdn.co/mp3-preview/857d68f8f69125e431cea3e5e89e653440600762?cid=2e4ff68e7f1545909d5ff8bfe6928158',\n",
       "    'track_number': 1,\n",
       "    'type': 'track',\n",
       "    'uri': 'spotify:track:50rcUhHimavzT1qq6QrgMG'},\n",
       "   {'album': {'album_type': 'album',\n",
       "     'artists': [{'external_urls': {'spotify': 'https://open.spotify.com/artist/4dn4KQgTE4P3jrwa3iIVzQ'},\n",
       "       'href': 'https://api.spotify.com/v1/artists/4dn4KQgTE4P3jrwa3iIVzQ',\n",
       "       'id': '4dn4KQgTE4P3jrwa3iIVzQ',\n",
       "       'name': 'Baccara',\n",
       "       'type': 'artist',\n",
       "       'uri': 'spotify:artist:4dn4KQgTE4P3jrwa3iIVzQ'}],\n",
       "     'external_urls': {'spotify': 'https://open.spotify.com/album/5e6VPOPLw5cSXsVMvQEioq'},\n",
       "     'href': 'https://api.spotify.com/v1/albums/5e6VPOPLw5cSXsVMvQEioq',\n",
       "     'id': '5e6VPOPLw5cSXsVMvQEioq',\n",
       "     'images': [{'height': 640,\n",
       "       'url': 'https://i.scdn.co/image/ab67616d0000b273f9742033ffb15f5413898ef9',\n",
       "       'width': 640},\n",
       "      {'height': 300,\n",
       "       'url': 'https://i.scdn.co/image/ab67616d00001e02f9742033ffb15f5413898ef9',\n",
       "       'width': 300},\n",
       "      {'height': 64,\n",
       "       'url': 'https://i.scdn.co/image/ab67616d00004851f9742033ffb15f5413898ef9',\n",
       "       'width': 64}],\n",
       "     'is_playable': True,\n",
       "     'name': 'The Collection & Tracklisting',\n",
       "     'release_date': '1998',\n",
       "     'release_date_precision': 'year',\n",
       "     'total_tracks': 19,\n",
       "     'type': 'album',\n",
       "     'uri': 'spotify:album:5e6VPOPLw5cSXsVMvQEioq'},\n",
       "    'artists': [{'external_urls': {'spotify': 'https://open.spotify.com/artist/4dn4KQgTE4P3jrwa3iIVzQ'},\n",
       "      'href': 'https://api.spotify.com/v1/artists/4dn4KQgTE4P3jrwa3iIVzQ',\n",
       "      'id': '4dn4KQgTE4P3jrwa3iIVzQ',\n",
       "      'name': 'Baccara',\n",
       "      'type': 'artist',\n",
       "      'uri': 'spotify:artist:4dn4KQgTE4P3jrwa3iIVzQ'}],\n",
       "    'disc_number': 1,\n",
       "    'duration_ms': 273866,\n",
       "    'explicit': False,\n",
       "    'external_ids': {'isrc': 'DEC760000065'},\n",
       "    'external_urls': {'spotify': 'https://open.spotify.com/track/2LScqpywMqGcnum6nNaxXX'},\n",
       "    'href': 'https://api.spotify.com/v1/tracks/2LScqpywMqGcnum6nNaxXX',\n",
       "    'id': '2LScqpywMqGcnum6nNaxXX',\n",
       "    'is_local': False,\n",
       "    'is_playable': True,\n",
       "    'name': 'Yes Sir, I Can Boogie',\n",
       "    'popularity': 65,\n",
       "    'preview_url': 'https://p.scdn.co/mp3-preview/704fbc9b86f59da239d2de11d6d5baf808596856?cid=2e4ff68e7f1545909d5ff8bfe6928158',\n",
       "    'track_number': 6,\n",
       "    'type': 'track',\n",
       "    'uri': 'spotify:track:2LScqpywMqGcnum6nNaxXX'},\n",
       "   {'album': {'album_type': 'album',\n",
       "     'artists': [{'external_urls': {'spotify': 'https://open.spotify.com/artist/6RZUqkomCmb8zCRqc9eznB'},\n",
       "       'href': 'https://api.spotify.com/v1/artists/6RZUqkomCmb8zCRqc9eznB',\n",
       "       'id': '6RZUqkomCmb8zCRqc9eznB',\n",
       "       'name': 'Placebo',\n",
       "       'type': 'artist',\n",
       "       'uri': 'spotify:artist:6RZUqkomCmb8zCRqc9eznB'}],\n",
       "     'external_urls': {'spotify': 'https://open.spotify.com/album/7kTsa1wUFrahJJf1cJEOpZ'},\n",
       "     'href': 'https://api.spotify.com/v1/albums/7kTsa1wUFrahJJf1cJEOpZ',\n",
       "     'id': '7kTsa1wUFrahJJf1cJEOpZ',\n",
       "     'images': [{'height': 640,\n",
       "       'url': 'https://i.scdn.co/image/ab67616d0000b27362c995dbce6d7ffa4c097475',\n",
       "       'width': 640},\n",
       "      {'height': 300,\n",
       "       'url': 'https://i.scdn.co/image/ab67616d00001e0262c995dbce6d7ffa4c097475',\n",
       "       'width': 300},\n",
       "      {'height': 64,\n",
       "       'url': 'https://i.scdn.co/image/ab67616d0000485162c995dbce6d7ffa4c097475',\n",
       "       'width': 64}],\n",
       "     'is_playable': True,\n",
       "     'name': 'Covers',\n",
       "     'release_date': '2003-03-24',\n",
       "     'release_date_precision': 'day',\n",
       "     'total_tracks': 10,\n",
       "     'type': 'album',\n",
       "     'uri': 'spotify:album:7kTsa1wUFrahJJf1cJEOpZ'},\n",
       "    'artists': [{'external_urls': {'spotify': 'https://open.spotify.com/artist/6RZUqkomCmb8zCRqc9eznB'},\n",
       "      'href': 'https://api.spotify.com/v1/artists/6RZUqkomCmb8zCRqc9eznB',\n",
       "      'id': '6RZUqkomCmb8zCRqc9eznB',\n",
       "      'name': 'Placebo',\n",
       "      'type': 'artist',\n",
       "      'uri': 'spotify:artist:6RZUqkomCmb8zCRqc9eznB'}],\n",
       "    'disc_number': 1,\n",
       "    'duration_ms': 201706,\n",
       "    'explicit': False,\n",
       "    'external_ids': {'isrc': 'GBAAA0201215'},\n",
       "    'external_urls': {'spotify': 'https://open.spotify.com/track/6blKbRwYDoXl5fFvQY2U75'},\n",
       "    'href': 'https://api.spotify.com/v1/tracks/6blKbRwYDoXl5fFvQY2U75',\n",
       "    'id': '6blKbRwYDoXl5fFvQY2U75',\n",
       "    'is_local': False,\n",
       "    'is_playable': True,\n",
       "    'name': 'Daddy Cool',\n",
       "    'popularity': 47,\n",
       "    'preview_url': 'https://p.scdn.co/mp3-preview/4af3ad78f847b23200036e9cee4d5b06868aea6b?cid=2e4ff68e7f1545909d5ff8bfe6928158',\n",
       "    'track_number': 9,\n",
       "    'type': 'track',\n",
       "    'uri': 'spotify:track:6blKbRwYDoXl5fFvQY2U75'}],\n",
       "  'limit': 5,\n",
       "  'next': 'https://api.spotify.com/v1/search?query=daddy+cool&type=track&market=GB&offset=5&limit=5',\n",
       "  'offset': 0,\n",
       "  'previous': None,\n",
       "  'total': 825}}"
      ]
     },
     "execution_count": 2,
     "metadata": {},
     "output_type": "execute_result"
    }
   ],
   "source": [
    "import spotipy\n",
    "import pandas as pd\n",
    "import json\n",
    "from spotipy.oauth2 import SpotifyClientCredentials\n",
    "\n",
    "\n",
    "#Initialize SpotiPy with user credentials\n",
    "sp = spotipy.Spotify(auth_manager=SpotifyClientCredentials(client_id= config.client_id,\n",
    "                                                           client_secret= config.client_secret))\n",
    "\n",
    "\n",
    "\n",
    "results = sp.search(q=\"daddy cool\",limit=5,market=\"GB\")\n",
    "results\n"
   ]
  },
  {
   "cell_type": "code",
   "execution_count": 3,
   "metadata": {},
   "outputs": [],
   "source": [
    "import pprint"
   ]
  },
  {
   "cell_type": "code",
   "execution_count": 4,
   "metadata": {},
   "outputs": [
    {
     "name": "stdout",
     "output_type": "stream",
     "text": [
      "{'tracks': {'href': 'https://api.spotify.com/v1/search?query=daddy+cool&type=track&market=GB&offset=0&limit=5',\n",
      "            'items': [{'album': {'album_type': 'album',\n",
      "                                 'artists': [{'external_urls': {'spotify': 'https://open.spotify.com/artist/54R6Y0I7jGUCveDTtI21nb'},\n",
      "                                              'href': 'https://api.spotify.com/v1/artists/54R6Y0I7jGUCveDTtI21nb',\n",
      "                                              'id': '54R6Y0I7jGUCveDTtI21nb',\n",
      "                                              'name': 'Boney M.',\n",
      "                                              'type': 'artist',\n",
      "                                              'uri': 'spotify:artist:54R6Y0I7jGUCveDTtI21nb'}],\n",
      "                                 'external_urls': {'spotify': 'https://open.spotify.com/album/1KQUrny9y5zGpktF6hAGd4'},\n",
      "                                 'href': 'https://api.spotify.com/v1/albums/1KQUrny9y5zGpktF6hAGd4',\n",
      "                                 'id': '1KQUrny9y5zGpktF6hAGd4',\n",
      "                                 'images': [{'height': 640,\n",
      "                                             'url': 'https://i.scdn.co/image/ab67616d0000b273dafd1cd6e9537ec8463ea691',\n",
      "                                             'width': 640},\n",
      "                                            {'height': 300,\n",
      "                                             'url': 'https://i.scdn.co/image/ab67616d00001e02dafd1cd6e9537ec8463ea691',\n",
      "                                             'width': 300},\n",
      "                                            {'height': 64,\n",
      "                                             'url': 'https://i.scdn.co/image/ab67616d00004851dafd1cd6e9537ec8463ea691',\n",
      "                                             'width': 64}],\n",
      "                                 'is_playable': True,\n",
      "                                 'name': 'Take The Heat Off Me',\n",
      "                                 'release_date': '1976',\n",
      "                                 'release_date_precision': 'year',\n",
      "                                 'total_tracks': 10,\n",
      "                                 'type': 'album',\n",
      "                                 'uri': 'spotify:album:1KQUrny9y5zGpktF6hAGd4'},\n",
      "                       'artists': [{'external_urls': {'spotify': 'https://open.spotify.com/artist/54R6Y0I7jGUCveDTtI21nb'},\n",
      "                                    'href': 'https://api.spotify.com/v1/artists/54R6Y0I7jGUCveDTtI21nb',\n",
      "                                    'id': '54R6Y0I7jGUCveDTtI21nb',\n",
      "                                    'name': 'Boney M.',\n",
      "                                    'type': 'artist',\n",
      "                                    'uri': 'spotify:artist:54R6Y0I7jGUCveDTtI21nb'}],\n",
      "                       'disc_number': 1,\n",
      "                       'duration_ms': 208600,\n",
      "                       'explicit': False,\n",
      "                       'external_ids': {'isrc': 'DEC737600002'},\n",
      "                       'external_urls': {'spotify': 'https://open.spotify.com/track/3WMbD1OyfKuwWDWMNbPQ4g'},\n",
      "                       'href': 'https://api.spotify.com/v1/tracks/3WMbD1OyfKuwWDWMNbPQ4g',\n",
      "                       'id': '3WMbD1OyfKuwWDWMNbPQ4g',\n",
      "                       'is_local': False,\n",
      "                       'is_playable': True,\n",
      "                       'name': 'Daddy Cool',\n",
      "                       'popularity': 77,\n",
      "                       'preview_url': 'https://p.scdn.co/mp3-preview/03e2b60a6a5c101dc0d41866f2e079d8de4a663b?cid=2e4ff68e7f1545909d5ff8bfe6928158',\n",
      "                       'track_number': 1,\n",
      "                       'type': 'track',\n",
      "                       'uri': 'spotify:track:3WMbD1OyfKuwWDWMNbPQ4g'},\n",
      "                      {'album': {'album_type': 'compilation',\n",
      "                                 'artists': [{'external_urls': {'spotify': 'https://open.spotify.com/artist/54R6Y0I7jGUCveDTtI21nb'},\n",
      "                                              'href': 'https://api.spotify.com/v1/artists/54R6Y0I7jGUCveDTtI21nb',\n",
      "                                              'id': '54R6Y0I7jGUCveDTtI21nb',\n",
      "                                              'name': 'Boney M.',\n",
      "                                              'type': 'artist',\n",
      "                                              'uri': 'spotify:artist:54R6Y0I7jGUCveDTtI21nb'}],\n",
      "                                 'external_urls': {'spotify': 'https://open.spotify.com/album/155cebHEGGBqYJAXKWJw6D'},\n",
      "                                 'href': 'https://api.spotify.com/v1/albums/155cebHEGGBqYJAXKWJw6D',\n",
      "                                 'id': '155cebHEGGBqYJAXKWJw6D',\n",
      "                                 'images': [{'height': 640,\n",
      "                                             'url': 'https://i.scdn.co/image/ab67616d0000b273d792d961638fd28f8d281947',\n",
      "                                             'width': 640},\n",
      "                                            {'height': 300,\n",
      "                                             'url': 'https://i.scdn.co/image/ab67616d00001e02d792d961638fd28f8d281947',\n",
      "                                             'width': 300},\n",
      "                                            {'height': 64,\n",
      "                                             'url': 'https://i.scdn.co/image/ab67616d00004851d792d961638fd28f8d281947',\n",
      "                                             'width': 64}],\n",
      "                                 'is_playable': True,\n",
      "                                 'name': 'Daddy Cool',\n",
      "                                 'release_date': '1994-03-14',\n",
      "                                 'release_date_precision': 'day',\n",
      "                                 'total_tracks': 16,\n",
      "                                 'type': 'album',\n",
      "                                 'uri': 'spotify:album:155cebHEGGBqYJAXKWJw6D'},\n",
      "                       'artists': [{'external_urls': {'spotify': 'https://open.spotify.com/artist/54R6Y0I7jGUCveDTtI21nb'},\n",
      "                                    'href': 'https://api.spotify.com/v1/artists/54R6Y0I7jGUCveDTtI21nb',\n",
      "                                    'id': '54R6Y0I7jGUCveDTtI21nb',\n",
      "                                    'name': 'Boney M.',\n",
      "                                    'type': 'artist',\n",
      "                                    'uri': 'spotify:artist:54R6Y0I7jGUCveDTtI21nb'}],\n",
      "                       'disc_number': 1,\n",
      "                       'duration_ms': 220666,\n",
      "                       'explicit': False,\n",
      "                       'external_ids': {'isrc': 'DED160000010'},\n",
      "                       'external_urls': {'spotify': 'https://open.spotify.com/track/5lWSa1rmuSL6OBPOnkAqoa'},\n",
      "                       'href': 'https://api.spotify.com/v1/tracks/5lWSa1rmuSL6OBPOnkAqoa',\n",
      "                       'id': '5lWSa1rmuSL6OBPOnkAqoa',\n",
      "                       'is_local': False,\n",
      "                       'is_playable': True,\n",
      "                       'name': 'Rasputin',\n",
      "                       'popularity': 72,\n",
      "                       'preview_url': 'https://p.scdn.co/mp3-preview/99129129d46b1937b0897e38d561110e1cd319f4?cid=2e4ff68e7f1545909d5ff8bfe6928158',\n",
      "                       'track_number': 3,\n",
      "                       'type': 'track',\n",
      "                       'uri': 'spotify:track:5lWSa1rmuSL6OBPOnkAqoa'},\n",
      "                      {'album': {'album_type': 'single',\n",
      "                                 'artists': [{'external_urls': {'spotify': 'https://open.spotify.com/artist/12A83CWwFiyXy90ScLWPIe'},\n",
      "                                              'href': 'https://api.spotify.com/v1/artists/12A83CWwFiyXy90ScLWPIe',\n",
      "                                              'id': '12A83CWwFiyXy90ScLWPIe',\n",
      "                                              'name': 'LIZOT',\n",
      "                                              'type': 'artist',\n",
      "                                              'uri': 'spotify:artist:12A83CWwFiyXy90ScLWPIe'},\n",
      "                                             {'external_urls': {'spotify': 'https://open.spotify.com/artist/54R6Y0I7jGUCveDTtI21nb'},\n",
      "                                              'href': 'https://api.spotify.com/v1/artists/54R6Y0I7jGUCveDTtI21nb',\n",
      "                                              'id': '54R6Y0I7jGUCveDTtI21nb',\n",
      "                                              'name': 'Boney M.',\n",
      "                                              'type': 'artist',\n",
      "                                              'uri': 'spotify:artist:54R6Y0I7jGUCveDTtI21nb'}],\n",
      "                                 'external_urls': {'spotify': 'https://open.spotify.com/album/7fXtm0TpLRIJhxobKDjxRp'},\n",
      "                                 'href': 'https://api.spotify.com/v1/albums/7fXtm0TpLRIJhxobKDjxRp',\n",
      "                                 'id': '7fXtm0TpLRIJhxobKDjxRp',\n",
      "                                 'images': [{'height': 640,\n",
      "                                             'url': 'https://i.scdn.co/image/ab67616d0000b273da8ce498bc7d441e6d841d25',\n",
      "                                             'width': 640},\n",
      "                                            {'height': 300,\n",
      "                                             'url': 'https://i.scdn.co/image/ab67616d00001e02da8ce498bc7d441e6d841d25',\n",
      "                                             'width': 300},\n",
      "                                            {'height': 64,\n",
      "                                             'url': 'https://i.scdn.co/image/ab67616d00004851da8ce498bc7d441e6d841d25',\n",
      "                                             'width': 64}],\n",
      "                                 'is_playable': True,\n",
      "                                 'name': 'Daddy Cool',\n",
      "                                 'release_date': '2021-12-03',\n",
      "                                 'release_date_precision': 'day',\n",
      "                                 'total_tracks': 1,\n",
      "                                 'type': 'album',\n",
      "                                 'uri': 'spotify:album:7fXtm0TpLRIJhxobKDjxRp'},\n",
      "                       'artists': [{'external_urls': {'spotify': 'https://open.spotify.com/artist/12A83CWwFiyXy90ScLWPIe'},\n",
      "                                    'href': 'https://api.spotify.com/v1/artists/12A83CWwFiyXy90ScLWPIe',\n",
      "                                    'id': '12A83CWwFiyXy90ScLWPIe',\n",
      "                                    'name': 'LIZOT',\n",
      "                                    'type': 'artist',\n",
      "                                    'uri': 'spotify:artist:12A83CWwFiyXy90ScLWPIe'},\n",
      "                                   {'external_urls': {'spotify': 'https://open.spotify.com/artist/54R6Y0I7jGUCveDTtI21nb'},\n",
      "                                    'href': 'https://api.spotify.com/v1/artists/54R6Y0I7jGUCveDTtI21nb',\n",
      "                                    'id': '54R6Y0I7jGUCveDTtI21nb',\n",
      "                                    'name': 'Boney M.',\n",
      "                                    'type': 'artist',\n",
      "                                    'uri': 'spotify:artist:54R6Y0I7jGUCveDTtI21nb'}],\n",
      "                       'disc_number': 1,\n",
      "                       'duration_ms': 154858,\n",
      "                       'explicit': False,\n",
      "                       'external_ids': {'isrc': 'DEE862102870'},\n",
      "                       'external_urls': {'spotify': 'https://open.spotify.com/track/50rcUhHimavzT1qq6QrgMG'},\n",
      "                       'href': 'https://api.spotify.com/v1/tracks/50rcUhHimavzT1qq6QrgMG',\n",
      "                       'id': '50rcUhHimavzT1qq6QrgMG',\n",
      "                       'is_local': False,\n",
      "                       'is_playable': True,\n",
      "                       'name': 'Daddy Cool',\n",
      "                       'popularity': 59,\n",
      "                       'preview_url': 'https://p.scdn.co/mp3-preview/857d68f8f69125e431cea3e5e89e653440600762?cid=2e4ff68e7f1545909d5ff8bfe6928158',\n",
      "                       'track_number': 1,\n",
      "                       'type': 'track',\n",
      "                       'uri': 'spotify:track:50rcUhHimavzT1qq6QrgMG'},\n",
      "                      {'album': {'album_type': 'album',\n",
      "                                 'artists': [{'external_urls': {'spotify': 'https://open.spotify.com/artist/4dn4KQgTE4P3jrwa3iIVzQ'},\n",
      "                                              'href': 'https://api.spotify.com/v1/artists/4dn4KQgTE4P3jrwa3iIVzQ',\n",
      "                                              'id': '4dn4KQgTE4P3jrwa3iIVzQ',\n",
      "                                              'name': 'Baccara',\n",
      "                                              'type': 'artist',\n",
      "                                              'uri': 'spotify:artist:4dn4KQgTE4P3jrwa3iIVzQ'}],\n",
      "                                 'external_urls': {'spotify': 'https://open.spotify.com/album/5e6VPOPLw5cSXsVMvQEioq'},\n",
      "                                 'href': 'https://api.spotify.com/v1/albums/5e6VPOPLw5cSXsVMvQEioq',\n",
      "                                 'id': '5e6VPOPLw5cSXsVMvQEioq',\n",
      "                                 'images': [{'height': 640,\n",
      "                                             'url': 'https://i.scdn.co/image/ab67616d0000b273f9742033ffb15f5413898ef9',\n",
      "                                             'width': 640},\n",
      "                                            {'height': 300,\n",
      "                                             'url': 'https://i.scdn.co/image/ab67616d00001e02f9742033ffb15f5413898ef9',\n",
      "                                             'width': 300},\n",
      "                                            {'height': 64,\n",
      "                                             'url': 'https://i.scdn.co/image/ab67616d00004851f9742033ffb15f5413898ef9',\n",
      "                                             'width': 64}],\n",
      "                                 'is_playable': True,\n",
      "                                 'name': 'The Collection & Tracklisting',\n",
      "                                 'release_date': '1998',\n",
      "                                 'release_date_precision': 'year',\n",
      "                                 'total_tracks': 19,\n",
      "                                 'type': 'album',\n",
      "                                 'uri': 'spotify:album:5e6VPOPLw5cSXsVMvQEioq'},\n",
      "                       'artists': [{'external_urls': {'spotify': 'https://open.spotify.com/artist/4dn4KQgTE4P3jrwa3iIVzQ'},\n",
      "                                    'href': 'https://api.spotify.com/v1/artists/4dn4KQgTE4P3jrwa3iIVzQ',\n",
      "                                    'id': '4dn4KQgTE4P3jrwa3iIVzQ',\n",
      "                                    'name': 'Baccara',\n",
      "                                    'type': 'artist',\n",
      "                                    'uri': 'spotify:artist:4dn4KQgTE4P3jrwa3iIVzQ'}],\n",
      "                       'disc_number': 1,\n",
      "                       'duration_ms': 273866,\n",
      "                       'explicit': False,\n",
      "                       'external_ids': {'isrc': 'DEC760000065'},\n",
      "                       'external_urls': {'spotify': 'https://open.spotify.com/track/2LScqpywMqGcnum6nNaxXX'},\n",
      "                       'href': 'https://api.spotify.com/v1/tracks/2LScqpywMqGcnum6nNaxXX',\n",
      "                       'id': '2LScqpywMqGcnum6nNaxXX',\n",
      "                       'is_local': False,\n",
      "                       'is_playable': True,\n",
      "                       'name': 'Yes Sir, I Can Boogie',\n",
      "                       'popularity': 65,\n",
      "                       'preview_url': 'https://p.scdn.co/mp3-preview/704fbc9b86f59da239d2de11d6d5baf808596856?cid=2e4ff68e7f1545909d5ff8bfe6928158',\n",
      "                       'track_number': 6,\n",
      "                       'type': 'track',\n",
      "                       'uri': 'spotify:track:2LScqpywMqGcnum6nNaxXX'},\n",
      "                      {'album': {'album_type': 'album',\n",
      "                                 'artists': [{'external_urls': {'spotify': 'https://open.spotify.com/artist/6RZUqkomCmb8zCRqc9eznB'},\n",
      "                                              'href': 'https://api.spotify.com/v1/artists/6RZUqkomCmb8zCRqc9eznB',\n",
      "                                              'id': '6RZUqkomCmb8zCRqc9eznB',\n",
      "                                              'name': 'Placebo',\n",
      "                                              'type': 'artist',\n",
      "                                              'uri': 'spotify:artist:6RZUqkomCmb8zCRqc9eznB'}],\n",
      "                                 'external_urls': {'spotify': 'https://open.spotify.com/album/7kTsa1wUFrahJJf1cJEOpZ'},\n",
      "                                 'href': 'https://api.spotify.com/v1/albums/7kTsa1wUFrahJJf1cJEOpZ',\n",
      "                                 'id': '7kTsa1wUFrahJJf1cJEOpZ',\n",
      "                                 'images': [{'height': 640,\n",
      "                                             'url': 'https://i.scdn.co/image/ab67616d0000b27362c995dbce6d7ffa4c097475',\n",
      "                                             'width': 640},\n",
      "                                            {'height': 300,\n",
      "                                             'url': 'https://i.scdn.co/image/ab67616d00001e0262c995dbce6d7ffa4c097475',\n",
      "                                             'width': 300},\n",
      "                                            {'height': 64,\n",
      "                                             'url': 'https://i.scdn.co/image/ab67616d0000485162c995dbce6d7ffa4c097475',\n",
      "                                             'width': 64}],\n",
      "                                 'is_playable': True,\n",
      "                                 'name': 'Covers',\n",
      "                                 'release_date': '2003-03-24',\n",
      "                                 'release_date_precision': 'day',\n",
      "                                 'total_tracks': 10,\n",
      "                                 'type': 'album',\n",
      "                                 'uri': 'spotify:album:7kTsa1wUFrahJJf1cJEOpZ'},\n",
      "                       'artists': [{'external_urls': {'spotify': 'https://open.spotify.com/artist/6RZUqkomCmb8zCRqc9eznB'},\n",
      "                                    'href': 'https://api.spotify.com/v1/artists/6RZUqkomCmb8zCRqc9eznB',\n",
      "                                    'id': '6RZUqkomCmb8zCRqc9eznB',\n",
      "                                    'name': 'Placebo',\n",
      "                                    'type': 'artist',\n",
      "                                    'uri': 'spotify:artist:6RZUqkomCmb8zCRqc9eznB'}],\n",
      "                       'disc_number': 1,\n",
      "                       'duration_ms': 201706,\n",
      "                       'explicit': False,\n",
      "                       'external_ids': {'isrc': 'GBAAA0201215'},\n",
      "                       'external_urls': {'spotify': 'https://open.spotify.com/track/6blKbRwYDoXl5fFvQY2U75'},\n",
      "                       'href': 'https://api.spotify.com/v1/tracks/6blKbRwYDoXl5fFvQY2U75',\n",
      "                       'id': '6blKbRwYDoXl5fFvQY2U75',\n",
      "                       'is_local': False,\n",
      "                       'is_playable': True,\n",
      "                       'name': 'Daddy Cool',\n",
      "                       'popularity': 47,\n",
      "                       'preview_url': 'https://p.scdn.co/mp3-preview/4af3ad78f847b23200036e9cee4d5b06868aea6b?cid=2e4ff68e7f1545909d5ff8bfe6928158',\n",
      "                       'track_number': 9,\n",
      "                       'type': 'track',\n",
      "                       'uri': 'spotify:track:6blKbRwYDoXl5fFvQY2U75'}],\n",
      "            'limit': 5,\n",
      "            'next': 'https://api.spotify.com/v1/search?query=daddy+cool&type=track&market=GB&offset=5&limit=5',\n",
      "            'offset': 0,\n",
      "            'previous': None,\n",
      "            'total': 825}}\n"
     ]
    }
   ],
   "source": [
    "pprint.pprint(results)"
   ]
  },
  {
   "cell_type": "code",
   "execution_count": 5,
   "metadata": {},
   "outputs": [
    {
     "name": "stdout",
     "output_type": "stream",
     "text": [
      "'3WMbD1OyfKuwWDWMNbPQ4g'\n"
     ]
    }
   ],
   "source": [
    "pprint.pprint(results[\"tracks\"][\"items\"][0][\"id\"])"
   ]
  },
  {
   "cell_type": "markdown",
   "metadata": {
    "id": "wlYAUHZMGEPp"
   },
   "source": [
    "# Understanding the json"
   ]
  },
  {
   "cell_type": "code",
   "execution_count": 6,
   "metadata": {
    "colab": {
     "base_uri": "https://localhost:8080/"
    },
    "executionInfo": {
     "elapsed": 336,
     "status": "ok",
     "timestamp": 1623748232522,
     "user": {
      "displayName": "Ignacio Soteras",
      "photoUrl": "",
      "userId": "02050793736257155229"
     },
     "user_tz": -120
    },
    "id": "gQzoV9fjEbm6",
    "outputId": "0747fac5-b2f5-44a0-a9cd-393ed3196cbf",
    "scrolled": true
   },
   "outputs": [
    {
     "name": "stdout",
     "output_type": "stream",
     "text": [
      "The json file has the following keys:  ['tracks']\n",
      "The 'tracks' key has the following child keys:  ['href', 'items', 'limit', 'next', 'offset', 'previous', 'total']\n",
      "The query we made is:  https://api.spotify.com/v1/search?query=daddy+cool&type=track&market=GB&offset=0&limit=5\n",
      "The song's info is contained in:  [{'album': {'album_type': 'album', 'artists': [{'external_urls': {'spotify': 'https://open.spotify.com/artist/54R6Y0I7jGUCveDTtI21nb'}, 'href': 'https://api.spotify.com/v1/artists/54R6Y0I7jGUCveDTtI21nb', 'id': '54R6Y0I7jGUCveDTtI21nb', 'name': 'Boney M.', 'type': 'artist', 'uri': 'spotify:artist:54R6Y0I7jGUCveDTtI21nb'}], 'external_urls': {'spotify': 'https://open.spotify.com/album/1KQUrny9y5zGpktF6hAGd4'}, 'href': 'https://api.spotify.com/v1/albums/1KQUrny9y5zGpktF6hAGd4', 'id': '1KQUrny9y5zGpktF6hAGd4', 'images': [{'height': 640, 'url': 'https://i.scdn.co/image/ab67616d0000b273dafd1cd6e9537ec8463ea691', 'width': 640}, {'height': 300, 'url': 'https://i.scdn.co/image/ab67616d00001e02dafd1cd6e9537ec8463ea691', 'width': 300}, {'height': 64, 'url': 'https://i.scdn.co/image/ab67616d00004851dafd1cd6e9537ec8463ea691', 'width': 64}], 'is_playable': True, 'name': 'Take The Heat Off Me', 'release_date': '1976', 'release_date_precision': 'year', 'total_tracks': 10, 'type': 'album', 'uri': 'spotify:album:1KQUrny9y5zGpktF6hAGd4'}, 'artists': [{'external_urls': {'spotify': 'https://open.spotify.com/artist/54R6Y0I7jGUCveDTtI21nb'}, 'href': 'https://api.spotify.com/v1/artists/54R6Y0I7jGUCveDTtI21nb', 'id': '54R6Y0I7jGUCveDTtI21nb', 'name': 'Boney M.', 'type': 'artist', 'uri': 'spotify:artist:54R6Y0I7jGUCveDTtI21nb'}], 'disc_number': 1, 'duration_ms': 208600, 'explicit': False, 'external_ids': {'isrc': 'DEC737600002'}, 'external_urls': {'spotify': 'https://open.spotify.com/track/3WMbD1OyfKuwWDWMNbPQ4g'}, 'href': 'https://api.spotify.com/v1/tracks/3WMbD1OyfKuwWDWMNbPQ4g', 'id': '3WMbD1OyfKuwWDWMNbPQ4g', 'is_local': False, 'is_playable': True, 'name': 'Daddy Cool', 'popularity': 77, 'preview_url': 'https://p.scdn.co/mp3-preview/03e2b60a6a5c101dc0d41866f2e079d8de4a663b?cid=2e4ff68e7f1545909d5ff8bfe6928158', 'track_number': 1, 'type': 'track', 'uri': 'spotify:track:3WMbD1OyfKuwWDWMNbPQ4g'}, {'album': {'album_type': 'compilation', 'artists': [{'external_urls': {'spotify': 'https://open.spotify.com/artist/54R6Y0I7jGUCveDTtI21nb'}, 'href': 'https://api.spotify.com/v1/artists/54R6Y0I7jGUCveDTtI21nb', 'id': '54R6Y0I7jGUCveDTtI21nb', 'name': 'Boney M.', 'type': 'artist', 'uri': 'spotify:artist:54R6Y0I7jGUCveDTtI21nb'}], 'external_urls': {'spotify': 'https://open.spotify.com/album/155cebHEGGBqYJAXKWJw6D'}, 'href': 'https://api.spotify.com/v1/albums/155cebHEGGBqYJAXKWJw6D', 'id': '155cebHEGGBqYJAXKWJw6D', 'images': [{'height': 640, 'url': 'https://i.scdn.co/image/ab67616d0000b273d792d961638fd28f8d281947', 'width': 640}, {'height': 300, 'url': 'https://i.scdn.co/image/ab67616d00001e02d792d961638fd28f8d281947', 'width': 300}, {'height': 64, 'url': 'https://i.scdn.co/image/ab67616d00004851d792d961638fd28f8d281947', 'width': 64}], 'is_playable': True, 'name': 'Daddy Cool', 'release_date': '1994-03-14', 'release_date_precision': 'day', 'total_tracks': 16, 'type': 'album', 'uri': 'spotify:album:155cebHEGGBqYJAXKWJw6D'}, 'artists': [{'external_urls': {'spotify': 'https://open.spotify.com/artist/54R6Y0I7jGUCveDTtI21nb'}, 'href': 'https://api.spotify.com/v1/artists/54R6Y0I7jGUCveDTtI21nb', 'id': '54R6Y0I7jGUCveDTtI21nb', 'name': 'Boney M.', 'type': 'artist', 'uri': 'spotify:artist:54R6Y0I7jGUCveDTtI21nb'}], 'disc_number': 1, 'duration_ms': 220666, 'explicit': False, 'external_ids': {'isrc': 'DED160000010'}, 'external_urls': {'spotify': 'https://open.spotify.com/track/5lWSa1rmuSL6OBPOnkAqoa'}, 'href': 'https://api.spotify.com/v1/tracks/5lWSa1rmuSL6OBPOnkAqoa', 'id': '5lWSa1rmuSL6OBPOnkAqoa', 'is_local': False, 'is_playable': True, 'name': 'Rasputin', 'popularity': 72, 'preview_url': 'https://p.scdn.co/mp3-preview/99129129d46b1937b0897e38d561110e1cd319f4?cid=2e4ff68e7f1545909d5ff8bfe6928158', 'track_number': 3, 'type': 'track', 'uri': 'spotify:track:5lWSa1rmuSL6OBPOnkAqoa'}, {'album': {'album_type': 'single', 'artists': [{'external_urls': {'spotify': 'https://open.spotify.com/artist/12A83CWwFiyXy90ScLWPIe'}, 'href': 'https://api.spotify.com/v1/artists/12A83CWwFiyXy90ScLWPIe', 'id': '12A83CWwFiyXy90ScLWPIe', 'name': 'LIZOT', 'type': 'artist', 'uri': 'spotify:artist:12A83CWwFiyXy90ScLWPIe'}, {'external_urls': {'spotify': 'https://open.spotify.com/artist/54R6Y0I7jGUCveDTtI21nb'}, 'href': 'https://api.spotify.com/v1/artists/54R6Y0I7jGUCveDTtI21nb', 'id': '54R6Y0I7jGUCveDTtI21nb', 'name': 'Boney M.', 'type': 'artist', 'uri': 'spotify:artist:54R6Y0I7jGUCveDTtI21nb'}], 'external_urls': {'spotify': 'https://open.spotify.com/album/7fXtm0TpLRIJhxobKDjxRp'}, 'href': 'https://api.spotify.com/v1/albums/7fXtm0TpLRIJhxobKDjxRp', 'id': '7fXtm0TpLRIJhxobKDjxRp', 'images': [{'height': 640, 'url': 'https://i.scdn.co/image/ab67616d0000b273da8ce498bc7d441e6d841d25', 'width': 640}, {'height': 300, 'url': 'https://i.scdn.co/image/ab67616d00001e02da8ce498bc7d441e6d841d25', 'width': 300}, {'height': 64, 'url': 'https://i.scdn.co/image/ab67616d00004851da8ce498bc7d441e6d841d25', 'width': 64}], 'is_playable': True, 'name': 'Daddy Cool', 'release_date': '2021-12-03', 'release_date_precision': 'day', 'total_tracks': 1, 'type': 'album', 'uri': 'spotify:album:7fXtm0TpLRIJhxobKDjxRp'}, 'artists': [{'external_urls': {'spotify': 'https://open.spotify.com/artist/12A83CWwFiyXy90ScLWPIe'}, 'href': 'https://api.spotify.com/v1/artists/12A83CWwFiyXy90ScLWPIe', 'id': '12A83CWwFiyXy90ScLWPIe', 'name': 'LIZOT', 'type': 'artist', 'uri': 'spotify:artist:12A83CWwFiyXy90ScLWPIe'}, {'external_urls': {'spotify': 'https://open.spotify.com/artist/54R6Y0I7jGUCveDTtI21nb'}, 'href': 'https://api.spotify.com/v1/artists/54R6Y0I7jGUCveDTtI21nb', 'id': '54R6Y0I7jGUCveDTtI21nb', 'name': 'Boney M.', 'type': 'artist', 'uri': 'spotify:artist:54R6Y0I7jGUCveDTtI21nb'}], 'disc_number': 1, 'duration_ms': 154858, 'explicit': False, 'external_ids': {'isrc': 'DEE862102870'}, 'external_urls': {'spotify': 'https://open.spotify.com/track/50rcUhHimavzT1qq6QrgMG'}, 'href': 'https://api.spotify.com/v1/tracks/50rcUhHimavzT1qq6QrgMG', 'id': '50rcUhHimavzT1qq6QrgMG', 'is_local': False, 'is_playable': True, 'name': 'Daddy Cool', 'popularity': 59, 'preview_url': 'https://p.scdn.co/mp3-preview/857d68f8f69125e431cea3e5e89e653440600762?cid=2e4ff68e7f1545909d5ff8bfe6928158', 'track_number': 1, 'type': 'track', 'uri': 'spotify:track:50rcUhHimavzT1qq6QrgMG'}, {'album': {'album_type': 'album', 'artists': [{'external_urls': {'spotify': 'https://open.spotify.com/artist/4dn4KQgTE4P3jrwa3iIVzQ'}, 'href': 'https://api.spotify.com/v1/artists/4dn4KQgTE4P3jrwa3iIVzQ', 'id': '4dn4KQgTE4P3jrwa3iIVzQ', 'name': 'Baccara', 'type': 'artist', 'uri': 'spotify:artist:4dn4KQgTE4P3jrwa3iIVzQ'}], 'external_urls': {'spotify': 'https://open.spotify.com/album/5e6VPOPLw5cSXsVMvQEioq'}, 'href': 'https://api.spotify.com/v1/albums/5e6VPOPLw5cSXsVMvQEioq', 'id': '5e6VPOPLw5cSXsVMvQEioq', 'images': [{'height': 640, 'url': 'https://i.scdn.co/image/ab67616d0000b273f9742033ffb15f5413898ef9', 'width': 640}, {'height': 300, 'url': 'https://i.scdn.co/image/ab67616d00001e02f9742033ffb15f5413898ef9', 'width': 300}, {'height': 64, 'url': 'https://i.scdn.co/image/ab67616d00004851f9742033ffb15f5413898ef9', 'width': 64}], 'is_playable': True, 'name': 'The Collection & Tracklisting', 'release_date': '1998', 'release_date_precision': 'year', 'total_tracks': 19, 'type': 'album', 'uri': 'spotify:album:5e6VPOPLw5cSXsVMvQEioq'}, 'artists': [{'external_urls': {'spotify': 'https://open.spotify.com/artist/4dn4KQgTE4P3jrwa3iIVzQ'}, 'href': 'https://api.spotify.com/v1/artists/4dn4KQgTE4P3jrwa3iIVzQ', 'id': '4dn4KQgTE4P3jrwa3iIVzQ', 'name': 'Baccara', 'type': 'artist', 'uri': 'spotify:artist:4dn4KQgTE4P3jrwa3iIVzQ'}], 'disc_number': 1, 'duration_ms': 273866, 'explicit': False, 'external_ids': {'isrc': 'DEC760000065'}, 'external_urls': {'spotify': 'https://open.spotify.com/track/2LScqpywMqGcnum6nNaxXX'}, 'href': 'https://api.spotify.com/v1/tracks/2LScqpywMqGcnum6nNaxXX', 'id': '2LScqpywMqGcnum6nNaxXX', 'is_local': False, 'is_playable': True, 'name': 'Yes Sir, I Can Boogie', 'popularity': 65, 'preview_url': 'https://p.scdn.co/mp3-preview/704fbc9b86f59da239d2de11d6d5baf808596856?cid=2e4ff68e7f1545909d5ff8bfe6928158', 'track_number': 6, 'type': 'track', 'uri': 'spotify:track:2LScqpywMqGcnum6nNaxXX'}, {'album': {'album_type': 'album', 'artists': [{'external_urls': {'spotify': 'https://open.spotify.com/artist/6RZUqkomCmb8zCRqc9eznB'}, 'href': 'https://api.spotify.com/v1/artists/6RZUqkomCmb8zCRqc9eznB', 'id': '6RZUqkomCmb8zCRqc9eznB', 'name': 'Placebo', 'type': 'artist', 'uri': 'spotify:artist:6RZUqkomCmb8zCRqc9eznB'}], 'external_urls': {'spotify': 'https://open.spotify.com/album/7kTsa1wUFrahJJf1cJEOpZ'}, 'href': 'https://api.spotify.com/v1/albums/7kTsa1wUFrahJJf1cJEOpZ', 'id': '7kTsa1wUFrahJJf1cJEOpZ', 'images': [{'height': 640, 'url': 'https://i.scdn.co/image/ab67616d0000b27362c995dbce6d7ffa4c097475', 'width': 640}, {'height': 300, 'url': 'https://i.scdn.co/image/ab67616d00001e0262c995dbce6d7ffa4c097475', 'width': 300}, {'height': 64, 'url': 'https://i.scdn.co/image/ab67616d0000485162c995dbce6d7ffa4c097475', 'width': 64}], 'is_playable': True, 'name': 'Covers', 'release_date': '2003-03-24', 'release_date_precision': 'day', 'total_tracks': 10, 'type': 'album', 'uri': 'spotify:album:7kTsa1wUFrahJJf1cJEOpZ'}, 'artists': [{'external_urls': {'spotify': 'https://open.spotify.com/artist/6RZUqkomCmb8zCRqc9eznB'}, 'href': 'https://api.spotify.com/v1/artists/6RZUqkomCmb8zCRqc9eznB', 'id': '6RZUqkomCmb8zCRqc9eznB', 'name': 'Placebo', 'type': 'artist', 'uri': 'spotify:artist:6RZUqkomCmb8zCRqc9eznB'}], 'disc_number': 1, 'duration_ms': 201706, 'explicit': False, 'external_ids': {'isrc': 'GBAAA0201215'}, 'external_urls': {'spotify': 'https://open.spotify.com/track/6blKbRwYDoXl5fFvQY2U75'}, 'href': 'https://api.spotify.com/v1/tracks/6blKbRwYDoXl5fFvQY2U75', 'id': '6blKbRwYDoXl5fFvQY2U75', 'is_local': False, 'is_playable': True, 'name': 'Daddy Cool', 'popularity': 47, 'preview_url': 'https://p.scdn.co/mp3-preview/4af3ad78f847b23200036e9cee4d5b06868aea6b?cid=2e4ff68e7f1545909d5ff8bfe6928158', 'track_number': 9, 'type': 'track', 'uri': 'spotify:track:6blKbRwYDoXl5fFvQY2U75'}]\n",
      "The limit of the query we've made is:  5\n",
      "The next page if any:  https://api.spotify.com/v1/search?query=daddy+cool&type=track&market=GB&offset=5&limit=5\n",
      "The starting webpage:  0\n",
      "Starting webpage:  None\n",
      "Total number of results:  825\n"
     ]
    }
   ],
   "source": [
    "print(\"The json file has the following keys: \",list(results.keys())) # We can see that we only have tracks\n",
    "print(\"The 'tracks' key has the following child keys: \",list(results[\"tracks\"].keys())) # Let's check the values\n",
    "print(\"The query we made is: \",results[\"tracks\"][\"href\"]) # Query we have searched \n",
    "print(\"The song's info is contained in: \",results[\"tracks\"][\"items\"]) #items (actual tracks)\n",
    "print(\"The limit of the query we've made is: \",results[\"tracks\"][\"limit\"]) #Limit we have chosen\n",
    "print(\"The next page if any: \",results[\"tracks\"][\"next\"]) #link to the next page (next 50 tracks)\n",
    "print(\"The starting webpage: \",results[\"tracks\"][\"offset\"]) # Actual offset (starting point)\n",
    "print(\"Starting webpage: \",results[\"tracks\"][\"previous\"]) #Previous search\n",
    "print(\"Total number of results: \",results[\"tracks\"][\"total\"]) # Number of matches"
   ]
  },
  {
   "cell_type": "markdown",
   "metadata": {
    "id": "ma33RhJ3GyyD"
   },
   "source": [
    "## Other Info"
   ]
  },
  {
   "cell_type": "code",
   "execution_count": 7,
   "metadata": {
    "colab": {
     "base_uri": "https://localhost:8080/",
     "height": 35
    },
    "executionInfo": {
     "elapsed": 314,
     "status": "ok",
     "timestamp": 1623748532709,
     "user": {
      "displayName": "Ignacio Soteras",
      "photoUrl": "",
      "userId": "02050793736257155229"
     },
     "user_tz": -120
    },
    "id": "rpRcNkuhG1Ht",
    "outputId": "bb6cc417-17bd-404f-d31c-302a97bf9ffe"
   },
   "outputs": [
    {
     "data": {
      "text/plain": [
       "'spotify:track:3WMbD1OyfKuwWDWMNbPQ4g'"
      ]
     },
     "execution_count": 7,
     "metadata": {},
     "output_type": "execute_result"
    }
   ],
   "source": [
    "results[\"tracks\"][\"items\"][0][\"artists\"] # Track artists\n",
    "results[\"tracks\"][\"items\"][0][\"id\"] # Track ID\n",
    "results[\"tracks\"][\"items\"][0][\"name\"] # Track name\n",
    "results[\"tracks\"][\"items\"][0][\"popularity\"] # Popularity index\n",
    "results[\"tracks\"][\"items\"][0][\"uri\"] # Basically ID"
   ]
  },
  {
   "cell_type": "code",
   "execution_count": 8,
   "metadata": {
    "scrolled": true
   },
   "outputs": [
    {
     "data": {
      "text/plain": [
       "5"
      ]
     },
     "execution_count": 8,
     "metadata": {},
     "output_type": "execute_result"
    }
   ],
   "source": [
    "len(results['tracks'][\"items\"])"
   ]
  },
  {
   "cell_type": "markdown",
   "metadata": {},
   "source": [
    "## Getting the track_id"
   ]
  },
  {
   "cell_type": "code",
   "execution_count": 9,
   "metadata": {},
   "outputs": [
    {
     "data": {
      "text/plain": [
       "'3WMbD1OyfKuwWDWMNbPQ4g'"
      ]
     },
     "execution_count": 9,
     "metadata": {},
     "output_type": "execute_result"
    }
   ],
   "source": [
    "track_id=results[\"tracks\"][\"items\"][0][\"id\"]\n",
    "track_id"
   ]
  },
  {
   "cell_type": "code",
   "execution_count": 10,
   "metadata": {
    "colab": {
     "base_uri": "https://localhost:8080/"
    },
    "executionInfo": {
     "elapsed": 330,
     "status": "ok",
     "timestamp": 1623747443303,
     "user": {
      "displayName": "Ignacio Soteras",
      "photoUrl": "",
      "userId": "02050793736257155229"
     },
     "user_tz": -120
    },
    "id": "Pe8hlEUPYu3a",
    "outputId": "57786b5a-1877-44a6-9249-72cec7204733"
   },
   "outputs": [
    {
     "name": "stdout",
     "output_type": "stream",
     "text": [
      "The name of song is: 'Daddy Cool' and the id is: 3WMbD1OyfKuwWDWMNbPQ4g\n",
      "The name of song is: 'Rasputin' and the id is: 5lWSa1rmuSL6OBPOnkAqoa\n",
      "The name of song is: 'Daddy Cool' and the id is: 50rcUhHimavzT1qq6QrgMG\n",
      "The name of song is: 'Yes Sir, I Can Boogie' and the id is: 2LScqpywMqGcnum6nNaxXX\n",
      "The name of song is: 'Daddy Cool' and the id is: 6blKbRwYDoXl5fFvQY2U75\n"
     ]
    }
   ],
   "source": [
    "for item in results['tracks']['items']:\n",
    "    print(\"The name of song is: '{}' and the id is: {}\".format(item['name'],item[\"id\"]))"
   ]
  },
  {
   "cell_type": "markdown",
   "metadata": {},
   "source": [
    "## Embeded track player"
   ]
  },
  {
   "cell_type": "code",
   "execution_count": 11,
   "metadata": {},
   "outputs": [
    {
     "data": {
      "text/html": [
       "\n",
       "        <iframe\n",
       "            width=\"320\"\n",
       "            height=\"80\"\n",
       "            src=\"https://open.spotify.com/embed/track/3WMbD1OyfKuwWDWMNbPQ4g?frameborder=0&allowtransparency=true&allow=encrypted-media\"\n",
       "            frameborder=\"0\"\n",
       "            allowfullscreen\n",
       "            \n",
       "        ></iframe>\n",
       "        "
      ],
      "text/plain": [
       "<IPython.lib.display.IFrame at 0x24329aabd90>"
      ]
     },
     "execution_count": 11,
     "metadata": {},
     "output_type": "execute_result"
    }
   ],
   "source": [
    "from IPython.display import IFrame\n",
    "\n",
    "track_id = '3WMbD1OyfKuwWDWMNbPQ4g'\n",
    "#track_id= 'spotify:track:3hgl7EQwTutSm6PESsB7gZ'\n",
    "IFrame(src=\"https://open.spotify.com/embed/track/\"+track_id,\n",
    "       width=\"320\",\n",
    "       height=\"80\",\n",
    "       frameborder=\"0\",\n",
    "       allowtransparency=\"true\",\n",
    "       allow=\"encrypted-media\",\n",
    "      )"
   ]
  },
  {
   "cell_type": "code",
   "execution_count": 12,
   "metadata": {},
   "outputs": [],
   "source": [
    "def play_song(track_id):\n",
    "    return IFrame(src=\"https://open.spotify.com/embed/track/\"+track_id,\n",
    "       width=\"320\",\n",
    "       height=\"80\",\n",
    "       frameborder=\"0\",\n",
    "       allowtransparency=\"true\",\n",
    "       allow=\"encrypted-media\",\n",
    "      )"
   ]
  },
  {
   "cell_type": "code",
   "execution_count": 13,
   "metadata": {},
   "outputs": [
    {
     "data": {
      "text/html": [
       "\n",
       "        <iframe\n",
       "            width=\"320\"\n",
       "            height=\"80\"\n",
       "            src=\"https://open.spotify.com/embed/track/3WMbD1OyfKuwWDWMNbPQ4g?frameborder=0&allowtransparency=true&allow=encrypted-media\"\n",
       "            frameborder=\"0\"\n",
       "            allowfullscreen\n",
       "            \n",
       "        ></iframe>\n",
       "        "
      ],
      "text/plain": [
       "<IPython.lib.display.IFrame at 0x24329acd7d0>"
      ]
     },
     "execution_count": 13,
     "metadata": {},
     "output_type": "execute_result"
    }
   ],
   "source": [
    "play_song('3WMbD1OyfKuwWDWMNbPQ4g')"
   ]
  },
  {
   "cell_type": "markdown",
   "metadata": {},
   "source": [
    "# Getting the Audio features of a song"
   ]
  },
  {
   "cell_type": "code",
   "execution_count": null,
   "metadata": {},
   "outputs": [],
   "source": [
    "id_ = results[\"tracks\"][\"items\"][0][\"id\"]"
   ]
  },
  {
   "cell_type": "code",
   "execution_count": null,
   "metadata": {},
   "outputs": [],
   "source": [
    "sp.audio_features(id_ )"
   ]
  },
  {
   "cell_type": "code",
   "execution_count": null,
   "metadata": {},
   "outputs": [],
   "source": [
    "play_song('2TVxnKdb3tqe1nhQWwwZCO')"
   ]
  },
  {
   "cell_type": "code",
   "execution_count": null,
   "metadata": {},
   "outputs": [],
   "source": [
    "sp.audio_features(\"3WMbD1OyfKuwWDWMNbPQ4g\")"
   ]
  },
  {
   "cell_type": "markdown",
   "metadata": {},
   "source": [
    "## Building a Data frame of audio features"
   ]
  },
  {
   "cell_type": "code",
   "execution_count": null,
   "metadata": {},
   "outputs": [],
   "source": [
    "sp.audio_features(results[\"tracks\"][\"items\"][0][\"uri\"])"
   ]
  },
  {
   "cell_type": "code",
   "execution_count": null,
   "metadata": {},
   "outputs": [],
   "source": [
    "results"
   ]
  },
  {
   "cell_type": "code",
   "execution_count": null,
   "metadata": {},
   "outputs": [],
   "source": [
    "list_of_songs=[]\n",
    "for i in results[\"tracks\"][\"items\"]:\n",
    "    list_of_songs.append(i[\"id\"])\n",
    "\n",
    "song_features = sp.audio_features(list_of_songs)\n",
    "\n",
    "df=pd.DataFrame(song_features)    \n",
    "df=df[[\"danceability\",\"energy\",\"loudness\",\"speechiness\",\"acousticness\",\n",
    "    \"instrumentalness\",\"liveness\",\"valence\",\"tempo\",\"id\",\"duration_ms\"]]\n",
    "\n",
    "df"
   ]
  },
  {
   "cell_type": "markdown",
   "metadata": {
    "id": "ZdgnthLDIDUz"
   },
   "source": [
    "## Searching a playlist"
   ]
  },
  {
   "cell_type": "code",
   "execution_count": null,
   "metadata": {},
   "outputs": [],
   "source": [
    "results = sp.search(q=\"down jay sean\")\n",
    "play_song(results[\"tracks\"][\"items\"][0][\"id\"])"
   ]
  },
  {
   "cell_type": "code",
   "execution_count": null,
   "metadata": {
    "executionInfo": {
     "elapsed": 287,
     "status": "ok",
     "timestamp": 1623748573692,
     "user": {
      "displayName": "Ignacio Soteras",
      "photoUrl": "",
      "userId": "02050793736257155229"
     },
     "user_tz": -120
    },
    "id": "QFNoaLUpIAVg"
   },
   "outputs": [],
   "source": [
    "playlist = sp.user_playlist_tracks(\"spotify\", \"4ebKOuGNfJ5g8RdtbEBHxe\",market=\"GB\")"
   ]
  },
  {
   "cell_type": "code",
   "execution_count": null,
   "metadata": {},
   "outputs": [],
   "source": [
    "playlist"
   ]
  },
  {
   "cell_type": "code",
   "execution_count": null,
   "metadata": {},
   "outputs": [],
   "source": [
    "type(playlist)"
   ]
  },
  {
   "cell_type": "code",
   "execution_count": null,
   "metadata": {},
   "outputs": [],
   "source": [
    "playlist.keys()"
   ]
  },
  {
   "cell_type": "code",
   "execution_count": null,
   "metadata": {
    "colab": {
     "base_uri": "https://localhost:8080/"
    },
    "executionInfo": {
     "elapsed": 4,
     "status": "ok",
     "timestamp": 1623748576469,
     "user": {
      "displayName": "Ignacio Soteras",
      "photoUrl": "",
      "userId": "02050793736257155229"
     },
     "user_tz": -120
    },
    "id": "hEmemxE9oDwa",
    "outputId": "fb5cd5d8-df90-45b9-e083-0fc52307b408"
   },
   "outputs": [],
   "source": [
    "len(playlist[\"items\"])"
   ]
  },
  {
   "cell_type": "markdown",
   "metadata": {},
   "source": [
    "## Extracting a song from playlist"
   ]
  },
  {
   "cell_type": "code",
   "execution_count": null,
   "metadata": {},
   "outputs": [],
   "source": [
    "pprint.pprint(playlist)"
   ]
  },
  {
   "cell_type": "code",
   "execution_count": null,
   "metadata": {},
   "outputs": [],
   "source": [
    "playlist[\"items\"][0][\"track\"][\"id\"]"
   ]
  },
  {
   "cell_type": "code",
   "execution_count": null,
   "metadata": {},
   "outputs": [],
   "source": [
    "play_song(playlist[\"items\"][0][\"track\"][\"id\"])"
   ]
  },
  {
   "cell_type": "code",
   "execution_count": null,
   "metadata": {
    "colab": {
     "base_uri": "https://localhost:8080/"
    },
    "executionInfo": {
     "elapsed": 363,
     "status": "ok",
     "timestamp": 1623748609799,
     "user": {
      "displayName": "Ignacio Soteras",
      "photoUrl": "",
      "userId": "02050793736257155229"
     },
     "user_tz": -120
    },
    "id": "wG-PfUCEIKvy",
    "outputId": "2c5135b8-7fa6-4f4f-c4d9-a35ed4f949d0"
   },
   "outputs": [],
   "source": [
    "print(list(playlist.keys())) # Let's look at items and total:\n",
    "print(\"Total number of songs in the playlist: \",playlist[\"total\"]) #  Let's check items:\n",
    "len(playlist[\"items\"]) # It is limited to 100 tracks, we will have to fix it:"
   ]
  },
  {
   "cell_type": "markdown",
   "metadata": {
    "id": "8gIIuaAAIhQi"
   },
   "source": [
    "## Extracting the songs of a playlist"
   ]
  },
  {
   "cell_type": "markdown",
   "metadata": {
    "id": "vmwZa11wjBM6"
   },
   "source": [
    "Pagination using \"next\"\n",
    "When you collect songs from a playlist using sp.playlist_tracks, you're limited by the limit parameter, which has a maximum (and default) value of 100. When the playlist has more than 100 songs, you have to collect them by navigating through the \"pages\" of the results.\n",
    "\n",
    "The parameter offset allows you to retrieve resuls starting at a certain position: if you start at position 101, you'd get the next \"page\" of results. An offset of 201 would give you the third page, and so on.\n",
    "\n",
    "The function sp.next() does the same, but in a simpler way: it can be used on the results from any request to directly retrieve the results for the next page.\n",
    "\n",
    "We can check whether there's a next page or not by accessing the key next on the results from any request."
   ]
  },
  {
   "cell_type": "code",
   "execution_count": null,
   "metadata": {},
   "outputs": [],
   "source": [
    "sp.audio_features(bob_dylan_id_list)"
   ]
  },
  {
   "cell_type": "code",
   "execution_count": null,
   "metadata": {
    "colab": {
     "base_uri": "https://localhost:8080/",
     "output_embedded_package_id": "11lmL6TaP4CJpfs0sN7EJh5tcgfZk9V36"
    },
    "executionInfo": {
     "elapsed": 13594,
     "status": "ok",
     "timestamp": 1623748845508,
     "user": {
      "displayName": "Ignacio Soteras",
      "photoUrl": "",
      "userId": "02050793736257155229"
     },
     "user_tz": -120
    },
    "id": "xL2er8hRIl_S",
    "outputId": "d0450533-db51-412d-8d20-43634781280a",
    "scrolled": true
   },
   "outputs": [],
   "source": [
    "def get_playlist_tracks(username, playlist_id):\n",
    "    results = sp.user_playlist_tracks(username,playlist_id,market=\"GB\")\n",
    "    tracks = results['items']\n",
    "    while results['next']:\n",
    "        results = sp.next(results)\n",
    "        tracks.extend(results['items'])\n",
    "    return tracks"
   ]
  },
  {
   "cell_type": "code",
   "execution_count": null,
   "metadata": {},
   "outputs": [],
   "source": [
    "spanish_tracks = get_playlist_tracks(\"Spotify\",\"37i9dQZF1EQpj7X7UK8OOF\")\n",
    "\n",
    "spanish_ids = []\n",
    "for i in spanish_tracks:\n",
    "    spanish_ids.append(i['track']['id'])\n",
    " \n",
    "af = sp.audio_features(spanish_ids)"
   ]
  },
  {
   "cell_type": "code",
   "execution_count": null,
   "metadata": {},
   "outputs": [],
   "source": [
    "len(spanish_tracks)"
   ]
  },
  {
   "cell_type": "code",
   "execution_count": null,
   "metadata": {},
   "outputs": [],
   "source": [
    "spanish_ids = []\n",
    "for i in spanish_tracks:\n",
    "    spanish_ids.append(i['track']['id'])"
   ]
  },
  {
   "cell_type": "code",
   "execution_count": null,
   "metadata": {},
   "outputs": [],
   "source": [
    "len(spanish_ids)"
   ]
  },
  {
   "cell_type": "code",
   "execution_count": null,
   "metadata": {
    "scrolled": true
   },
   "outputs": [],
   "source": [
    "spanish_ids"
   ]
  },
  {
   "cell_type": "code",
   "execution_count": null,
   "metadata": {},
   "outputs": [],
   "source": [
    "af = sp.audio_features(spanish_ids)"
   ]
  },
  {
   "cell_type": "code",
   "execution_count": null,
   "metadata": {},
   "outputs": [],
   "source": [
    "af"
   ]
  },
  {
   "cell_type": "code",
   "execution_count": null,
   "metadata": {},
   "outputs": [],
   "source": [
    "spanish_df = pd.DataFrame(af)\n",
    "spanish_df.head()"
   ]
  },
  {
   "cell_type": "markdown",
   "metadata": {},
   "source": [
    "### Chopping a big playlist into chunks"
   ]
  },
  {
   "cell_type": "code",
   "execution_count": null,
   "metadata": {},
   "outputs": [],
   "source": [
    "big_playlist_tracks = get_playlist_tracks(\"Spotify\",\"2s1KwThY09NjEkmzeTsZWe\")"
   ]
  },
  {
   "cell_type": "code",
   "execution_count": null,
   "metadata": {},
   "outputs": [],
   "source": [
    "bp_ids = []\n",
    "for i in big_playlist_tracks:\n",
    "    bp_ids.append(i['track']['id'])"
   ]
  },
  {
   "cell_type": "code",
   "execution_count": null,
   "metadata": {
    "scrolled": true
   },
   "outputs": [],
   "source": [
    "chunk_size = 100\n",
    "bp_ids_chopped = [bp_ids[i:i+chunk_size] for i in range(0,len(bp_ids), 100)]\n"
   ]
  },
  {
   "cell_type": "code",
   "execution_count": null,
   "metadata": {},
   "outputs": [],
   "source": [
    "bp_ids_chopped"
   ]
  },
  {
   "cell_type": "code",
   "execution_count": null,
   "metadata": {},
   "outputs": [],
   "source": [
    "af_list = []\n",
    "for i in bp_ids_chopped:\n",
    "    af_list.extend(sp.audio_features(i))\n",
    "pd.DataFrame(af_list)"
   ]
  },
  {
   "cell_type": "markdown",
   "metadata": {},
   "source": [
    "### Example with rock"
   ]
  },
  {
   "cell_type": "code",
   "execution_count": null,
   "metadata": {},
   "outputs": [],
   "source": [
    "rock = get_playlist_tracks('Spotify','37i9dQZF1DWXRqgorJj26U')"
   ]
  },
  {
   "cell_type": "code",
   "execution_count": null,
   "metadata": {},
   "outputs": [],
   "source": [
    "rock_ids =[]\n",
    "for i in rock:\n",
    "    rock_ids.append(i['track']['id'])"
   ]
  },
  {
   "cell_type": "code",
   "execution_count": null,
   "metadata": {},
   "outputs": [],
   "source": [
    "len(rock_ids)"
   ]
  },
  {
   "cell_type": "code",
   "execution_count": null,
   "metadata": {},
   "outputs": [],
   "source": [
    "chunk_size = 100\n",
    "rock_ids_chopped = [rock_ids[i:i+chunk_size] for i in range(0,len(rock_ids), 100)]"
   ]
  },
  {
   "cell_type": "code",
   "execution_count": null,
   "metadata": {},
   "outputs": [],
   "source": [
    "rock_af = []\n",
    "for i in rock_ids_chopped:\n",
    "    rock_af.extend(sp.audio_features(i))"
   ]
  },
  {
   "cell_type": "code",
   "execution_count": null,
   "metadata": {},
   "outputs": [],
   "source": [
    "rock_df = pd.DataFrame(rock_af)\n",
    "rock_df"
   ]
  },
  {
   "cell_type": "markdown",
   "metadata": {},
   "source": [
    "## Optional(Extra)"
   ]
  },
  {
   "cell_type": "markdown",
   "metadata": {
    "id": "0tlqOKWCJDq1"
   },
   "source": [
    "## Getting the artists of the playlist "
   ]
  },
  {
   "cell_type": "code",
   "execution_count": null,
   "metadata": {
    "executionInfo": {
     "elapsed": 410,
     "status": "ok",
     "timestamp": 1623748940470,
     "user": {
      "displayName": "Ignacio Soteras",
      "photoUrl": "",
      "userId": "02050793736257155229"
     },
     "user_tz": -120
    },
    "id": "idbmLYT7qTCG"
   },
   "outputs": [],
   "source": [
    "def get_artists_from_track(track):\n",
    "    return [artist[\"name\"] for artist in track[\"artists\"]]"
   ]
  },
  {
   "cell_type": "code",
   "execution_count": null,
   "metadata": {
    "executionInfo": {
     "elapsed": 278,
     "status": "ok",
     "timestamp": 1623748991105,
     "user": {
      "displayName": "Ignacio Soteras",
      "photoUrl": "",
      "userId": "02050793736257155229"
     },
     "user_tz": -120
    },
    "id": "VBm6PWerJH6A"
   },
   "outputs": [],
   "source": [
    "def get_artists_from_playlist(playlist_id):\n",
    "    tracks_from_playlist = get_playlist_tracks(\"spotify\", playlist_id)\n",
    "    return list(set(artist for subset in [get_artists_from_track(track[\"track\"]) for track in tracks_from_playlist] for artist in subset))"
   ]
  },
  {
   "cell_type": "code",
   "execution_count": null,
   "metadata": {
    "colab": {
     "base_uri": "https://localhost:8080/"
    },
    "executionInfo": {
     "elapsed": 8072,
     "status": "ok",
     "timestamp": 1623749004146,
     "user": {
      "displayName": "Ignacio Soteras",
      "photoUrl": "",
      "userId": "02050793736257155229"
     },
     "user_tz": -120
    },
    "id": "vMADuNRjCzYW",
    "outputId": "8ed416b0-c989-440f-a7b2-a51ea90177d9"
   },
   "outputs": [],
   "source": [
    "get_artists_from_playlist(\"4rnleEAOdmFAbRcNCgZMpY\")"
   ]
  },
  {
   "cell_type": "markdown",
   "metadata": {
    "id": "MBq_6MslLqN1"
   },
   "source": [
    "# Getting albums "
   ]
  },
  {
   "cell_type": "markdown",
   "metadata": {
    "id": "flAFNc16L7UA"
   },
   "source": [
    "In this section we will work with albums to extract information. We will start by extracting all the albums of an artist."
   ]
  },
  {
   "cell_type": "code",
   "execution_count": null,
   "metadata": {
    "executionInfo": {
     "elapsed": 338,
     "status": "ok",
     "timestamp": 1623749616116,
     "user": {
      "displayName": "Ignacio Soteras",
      "photoUrl": "",
      "userId": "02050793736257155229"
     },
     "user_tz": -120
    },
    "id": "aYMfWpqSL8cv"
   },
   "outputs": [],
   "source": [
    "def get_albums_from_artist(artist_id):\n",
    "    results = sp.artist_albums(artist_id, limit = 50,country=\"GB\")\n",
    "    tracks = results['items']\n",
    "    while results['next']:\n",
    "        results = sp.next(results)\n",
    "        tracks.extend(results['items'])\n",
    "    return tracks\n",
    "\n",
    "# Same for albums ids\n",
    "def get_album_ids_from_artist(artist_id):\n",
    "    results = sp.artist_albums(artist_id, limit = 50)\n",
    "    tracks = results['items']\n",
    "    while results['next']:\n",
    "        results = sp.next(results)\n",
    "        tracks.extend(results['items'])\n",
    "    return [track[\"id\"] for track in tracks]"
   ]
  },
  {
   "cell_type": "markdown",
   "metadata": {
    "id": "W4DVUzVGMBmY"
   },
   "source": [
    "Example: Coldplay"
   ]
  },
  {
   "cell_type": "code",
   "execution_count": null,
   "metadata": {
    "colab": {
     "base_uri": "https://localhost:8080/"
    },
    "executionInfo": {
     "elapsed": 2439,
     "status": "ok",
     "timestamp": 1623749664870,
     "user": {
      "displayName": "Ignacio Soteras",
      "photoUrl": "",
      "userId": "02050793736257155229"
     },
     "user_tz": -120
    },
    "id": "TIl4480OMDe2",
    "outputId": "7d894d55-79d9-4fa9-8773-ec4d399d2d02"
   },
   "outputs": [],
   "source": [
    "coldplay_id = \"4gzpq5DPGxSnKTe4SA8HAU\"\n",
    "coldplay_albums = get_albums_from_artist(coldplay_id)\n",
    "coldplay_album_ids = get_album_ids_from_artist(coldplay_id)\n",
    "\n",
    "# Check artists that played with coldplay\n",
    "set([artist[\"name\"] for track in coldplay_albums for artist in track[\"artists\"]])"
   ]
  },
  {
   "cell_type": "markdown",
   "metadata": {
    "id": "ljaglNRvMTL5"
   },
   "source": [
    "## Getting the songs of a given album"
   ]
  },
  {
   "cell_type": "code",
   "execution_count": null,
   "metadata": {
    "executionInfo": {
     "elapsed": 531,
     "status": "ok",
     "timestamp": 1623749740975,
     "user": {
      "displayName": "Ignacio Soteras",
      "photoUrl": "",
      "userId": "02050793736257155229"
     },
     "user_tz": -120
    },
    "id": "q3wKfrHbMWO3"
   },
   "outputs": [],
   "source": [
    "def get_track_ids_from_albums(album_ids):\n",
    "    return list(set([i[\"id\"] for j in album_ids for i in sp.album(j)[\"tracks\"][\"items\"]]))"
   ]
  },
  {
   "cell_type": "code",
   "execution_count": null,
   "metadata": {
    "colab": {
     "base_uri": "https://localhost:8080/"
    },
    "executionInfo": {
     "elapsed": 48724,
     "status": "ok",
     "timestamp": 1623749793320,
     "user": {
      "displayName": "Ignacio Soteras",
      "photoUrl": "",
      "userId": "02050793736257155229"
     },
     "user_tz": -120
    },
    "id": "WzZLGfwlMd2C",
    "outputId": "044a9334-ee0d-4a82-c8d4-577874c47d80"
   },
   "outputs": [],
   "source": [
    "coldplay_songs = get_track_ids_from_albums(coldplay_album_ids)\n",
    "\n",
    "len(coldplay_songs)"
   ]
  }
 ],
 "metadata": {
  "colab": {
   "authorship_tag": "ABX9TyPVWC1t3Am5oxfsHrz0cF36",
   "mount_file_id": "1f3HsS5F0GzS75tlHyrwhBGlTWbE0nG4o",
   "name": "Code_along_Spotify_structure.ipynb",
   "provenance": []
  },
  "kernelspec": {
   "display_name": "Python 3 (ipykernel)",
   "language": "python",
   "name": "python3"
  },
  "language_info": {
   "codemirror_mode": {
    "name": "ipython",
    "version": 3
   },
   "file_extension": ".py",
   "mimetype": "text/x-python",
   "name": "python",
   "nbconvert_exporter": "python",
   "pygments_lexer": "ipython3",
   "version": "3.11.5"
  },
  "toc": {
   "base_numbering": 1,
   "nav_menu": {},
   "number_sections": true,
   "sideBar": true,
   "skip_h1_title": false,
   "title_cell": "Table of Contents",
   "title_sidebar": "Contents",
   "toc_cell": false,
   "toc_position": {},
   "toc_section_display": true,
   "toc_window_display": false
  },
  "varInspector": {
   "cols": {
    "lenName": 16,
    "lenType": 16,
    "lenVar": 40
   },
   "kernels_config": {
    "python": {
     "delete_cmd_postfix": "",
     "delete_cmd_prefix": "del ",
     "library": "var_list.py",
     "varRefreshCmd": "print(var_dic_list())"
    },
    "r": {
     "delete_cmd_postfix": ") ",
     "delete_cmd_prefix": "rm(",
     "library": "var_list.r",
     "varRefreshCmd": "cat(var_dic_list()) "
    }
   },
   "types_to_exclude": [
    "module",
    "function",
    "builtin_function_or_method",
    "instance",
    "_Feature"
   ],
   "window_display": false
  }
 },
 "nbformat": 4,
 "nbformat_minor": 1
}
