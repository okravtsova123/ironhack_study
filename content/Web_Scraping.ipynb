{
 "cells": [
  {
   "cell_type": "markdown",
   "metadata": {
    "id": "2MeowL7BaAbT"
   },
   "source": [
    "# Intro to web scraping"
   ]
  },
  {
   "cell_type": "markdown",
   "metadata": {
    "id": "xdO0nKqpaAba"
   },
   "source": [
    "The first step of web scraping is to identify a website and download the html code from it. \n",
    "\n",
    "Real html from websites tends to be long and a bit too chaotic for a total beginner. Here we will start with a dummy html document and learn the basics of extracting info with beautifulsoup.\n",
    "\n",
    "- You can learn about Html here https://www.w3schools.com/html/\n",
    "- You can use codebeautify to make your html more readable and clean https://codebeautify.org/htmlviewer"
   ]
  },
  {
   "cell_type": "code",
   "execution_count": 2,
   "metadata": {
    "ExecuteTime": {
     "end_time": "2022-11-21T10:23:59.833994Z",
     "start_time": "2022-11-21T10:23:59.831082Z"
    },
    "executionInfo": {
     "elapsed": 660,
     "status": "ok",
     "timestamp": 1617465193963,
     "user": {
      "displayName": "Ignacio Soteras",
      "photoUrl": "",
      "userId": "02050793736257155229"
     },
     "user_tz": -120
    },
    "id": "iYgB5Jt4aAbb"
   },
   "outputs": [],
   "source": [
    "html_doc = \"\"\" <!DOCTYPE html><html><head><title>The Dormouse's story</title></head><body><p class=\"title\"><b>The Dormouse's story</b></p><p class=\"story\">Once upon a time there were three little sisters; and their names were<a href=\"http://example.com/elsie\" class=\"sister\" id=\"link1\">Elsie</a>,<a href=\"http://example.com/lacie\" class=\"sister\" id=\"link2\">Lacie</a> and<a href=\"http://example.com/tillie\" class=\"sister\" id=\"link3\">Tillie</a>;and they lived at the bottom of a well.</p><p class=\"story\">...</p></html>\"\"\""
   ]
  },
  {
   "cell_type": "raw",
   "metadata": {},
   "source": [
    "html_doc = \"\"\"\n",
    "<!DOCTYPE html>\n",
    "<html>\n",
    "  <head>\n",
    "    <title>The Dormouse's story</title>\n",
    "  </head>\n",
    "  <body>\n",
    "  \n",
    "    <p class=\"title\">\n",
    "      <b>The Dormouse's story</b>\n",
    "    </p>\n",
    "    \n",
    "    <p class=\"story\">Once upon a time there were three little sisters; and their names were\n",
    "    <a href=\"http://example.com/elsie\" class=\"sister\" id=\"link1\">Elsie</a>, \n",
    "    <a href=\"http://example.com/lacie\" class=\"sister\" id=\"link2\">Lacie</a> and \n",
    "    <a href=\"http://example.com/tillie\" class=\"sister\" id=\"link3\">Tillie</a>\n",
    "    ;and they lived at the bottom of a well. \n",
    "    </p>\n",
    "    \n",
    "    <p class=\"story\">...</p>\n",
    "</html>\"\"\""
   ]
  },
  {
   "cell_type": "code",
   "execution_count": 3,
   "metadata": {
    "ExecuteTime": {
     "end_time": "2022-11-21T10:23:59.841348Z",
     "start_time": "2022-11-21T10:23:59.836157Z"
    },
    "colab": {
     "base_uri": "https://localhost:8080/",
     "height": 86
    },
    "executionInfo": {
     "elapsed": 561,
     "status": "ok",
     "timestamp": 1617465197153,
     "user": {
      "displayName": "Ignacio Soteras",
      "photoUrl": "",
      "userId": "02050793736257155229"
     },
     "user_tz": -120
    },
    "id": "9ndQx21PaAbb",
    "outputId": "dacc5618-8d74-4646-8321-f9116687e41b"
   },
   "outputs": [
    {
     "data": {
      "text/plain": [
       "' <!DOCTYPE html><html><head><title>The Dormouse\\'s story</title></head><body><p class=\"title\"><b>The Dormouse\\'s story</b></p><p class=\"story\">Once upon a time there were three little sisters; and their names were<a href=\"http://example.com/elsie\" class=\"sister\" id=\"link1\">Elsie</a>,<a href=\"http://example.com/lacie\" class=\"sister\" id=\"link2\">Lacie</a> and<a href=\"http://example.com/tillie\" class=\"sister\" id=\"link3\">Tillie</a>;and they lived at the bottom of a well.</p><p class=\"story\">...</p></html>'"
      ]
     },
     "execution_count": 3,
     "metadata": {},
     "output_type": "execute_result"
    }
   ],
   "source": [
    "html_doc"
   ]
  },
  {
   "cell_type": "code",
   "execution_count": 4,
   "metadata": {
    "ExecuteTime": {
     "end_time": "2022-11-21T10:23:59.898135Z",
     "start_time": "2022-11-21T10:23:59.842292Z"
    },
    "executionInfo": {
     "elapsed": 533,
     "status": "ok",
     "timestamp": 1617465207602,
     "user": {
      "displayName": "Ignacio Soteras",
      "photoUrl": "",
      "userId": "02050793736257155229"
     },
     "user_tz": -120
    },
    "id": "KsSDasPgaAbc"
   },
   "outputs": [],
   "source": [
    "from bs4 import BeautifulSoup"
   ]
  },
  {
   "cell_type": "markdown",
   "metadata": {
    "id": "i1OdYTuJaAbd"
   },
   "source": [
    "#### \"creating the soup\""
   ]
  },
  {
   "cell_type": "code",
   "execution_count": 5,
   "metadata": {
    "ExecuteTime": {
     "end_time": "2022-11-21T10:23:59.901202Z",
     "start_time": "2022-11-21T10:23:59.898921Z"
    },
    "executionInfo": {
     "elapsed": 532,
     "status": "ok",
     "timestamp": 1617465228581,
     "user": {
      "displayName": "Ignacio Soteras",
      "photoUrl": "",
      "userId": "02050793736257155229"
     },
     "user_tz": -120
    },
    "id": "cs0ECFiBaAbd"
   },
   "outputs": [],
   "source": [
    "# parse the element\n",
    "soup = BeautifulSoup(html_doc) "
   ]
  },
  {
   "cell_type": "code",
   "execution_count": 6,
   "metadata": {},
   "outputs": [
    {
     "data": {
      "text/plain": [
       "<!DOCTYPE html>\n",
       "<html><head><title>The Dormouse's story</title></head><body><p class=\"title\"><b>The Dormouse's story</b></p><p class=\"story\">Once upon a time there were three little sisters; and their names were<a class=\"sister\" href=\"http://example.com/elsie\" id=\"link1\">Elsie</a>,<a class=\"sister\" href=\"http://example.com/lacie\" id=\"link2\">Lacie</a> and<a class=\"sister\" href=\"http://example.com/tillie\" id=\"link3\">Tillie</a>;and they lived at the bottom of a well.</p><p class=\"story\">...</p></body></html>"
      ]
     },
     "execution_count": 6,
     "metadata": {},
     "output_type": "execute_result"
    }
   ],
   "source": [
    "soup"
   ]
  },
  {
   "cell_type": "code",
   "execution_count": 7,
   "metadata": {},
   "outputs": [],
   "source": [
    "import pprint"
   ]
  },
  {
   "cell_type": "code",
   "execution_count": 8,
   "metadata": {},
   "outputs": [
    {
     "name": "stdout",
     "output_type": "stream",
     "text": [
      "<!DOCTYPE html>\n",
      "<html>\n",
      " <head>\n",
      "  <title>\n",
      "   The Dormouse's story\n",
      "  </title>\n",
      " </head>\n",
      " <body>\n",
      "  <p class=\"title\">\n",
      "   <b>\n",
      "    The Dormouse's story\n",
      "   </b>\n",
      "  </p>\n",
      "  <p class=\"story\">\n",
      "   Once upon a time there were three little sisters; and their names were\n",
      "   <a class=\"sister\" href=\"http://example.com/elsie\" id=\"link1\">\n",
      "    Elsie\n",
      "   </a>\n",
      "   ,\n",
      "   <a class=\"sister\" href=\"http://example.com/lacie\" id=\"link2\">\n",
      "    Lacie\n",
      "   </a>\n",
      "   and\n",
      "   <a class=\"sister\" href=\"http://example.com/tillie\" id=\"link3\">\n",
      "    Tillie\n",
      "   </a>\n",
      "   ;and they lived at the bottom of a well.\n",
      "  </p>\n",
      "  <p class=\"story\">\n",
      "   ...\n",
      "  </p>\n",
      " </body>\n",
      "</html>\n",
      "\n"
     ]
    }
   ],
   "source": [
    "print(soup.prettify())"
   ]
  },
  {
   "cell_type": "markdown",
   "metadata": {
    "id": "RLuvDPDzaAbd"
   },
   "source": [
    "#### accessing single elements"
   ]
  },
  {
   "cell_type": "markdown",
   "metadata": {
    "id": "JBSO_YnfcXrX"
   },
   "source": [
    "We can access html tags by appending to the `soup` a dot `.` and the name of the corresponding tag. In case of having multiple instances of the tag, only the first one will be retrieved.  "
   ]
  },
  {
   "cell_type": "code",
   "execution_count": 9,
   "metadata": {
    "ExecuteTime": {
     "end_time": "2022-11-21T10:23:59.904844Z",
     "start_time": "2022-11-21T10:23:59.902140Z"
    },
    "colab": {
     "base_uri": "https://localhost:8080/"
    },
    "executionInfo": {
     "elapsed": 566,
     "status": "ok",
     "timestamp": 1617465238564,
     "user": {
      "displayName": "Ignacio Soteras",
      "photoUrl": "",
      "userId": "02050793736257155229"
     },
     "user_tz": -120
    },
    "id": "pnxH2FiPaAbe",
    "outputId": "b55fa1b7-8959-4b30-c09c-5a2276531e87"
   },
   "outputs": [
    {
     "data": {
      "text/plain": [
       "<title>The Dormouse's story</title>"
      ]
     },
     "execution_count": 9,
     "metadata": {},
     "output_type": "execute_result"
    }
   ],
   "source": [
    "soup.title"
   ]
  },
  {
   "cell_type": "code",
   "execution_count": 10,
   "metadata": {
    "ExecuteTime": {
     "end_time": "2022-11-21T10:23:59.914307Z",
     "start_time": "2022-11-21T10:23:59.910820Z"
    },
    "colab": {
     "base_uri": "https://localhost:8080/",
     "height": 35
    },
    "executionInfo": {
     "elapsed": 559,
     "status": "ok",
     "timestamp": 1617465253514,
     "user": {
      "displayName": "Ignacio Soteras",
      "photoUrl": "",
      "userId": "02050793736257155229"
     },
     "user_tz": -120
    },
    "id": "f0MsU15MaAbe",
    "outputId": "d0d9b290-7934-414f-be4c-ef8cc95dca25"
   },
   "outputs": [
    {
     "data": {
      "text/plain": [
       "<head><title>The Dormouse's story</title></head>"
      ]
     },
     "execution_count": 10,
     "metadata": {},
     "output_type": "execute_result"
    }
   ],
   "source": [
    "soup.title.parent"
   ]
  },
  {
   "cell_type": "code",
   "execution_count": 11,
   "metadata": {
    "ExecuteTime": {
     "end_time": "2022-11-21T10:23:59.918179Z",
     "start_time": "2022-11-21T10:23:59.915465Z"
    }
   },
   "outputs": [
    {
     "data": {
      "text/plain": [
       "<p class=\"title\"><b>The Dormouse's story</b></p>"
      ]
     },
     "execution_count": 11,
     "metadata": {},
     "output_type": "execute_result"
    }
   ],
   "source": [
    "soup.html.body.p"
   ]
  },
  {
   "cell_type": "markdown",
   "metadata": {},
   "source": [
    "<b> searching using find() function"
   ]
  },
  {
   "cell_type": "code",
   "execution_count": 12,
   "metadata": {
    "ExecuteTime": {
     "end_time": "2022-11-21T10:23:59.921751Z",
     "start_time": "2022-11-21T10:23:59.919225Z"
    },
    "colab": {
     "base_uri": "https://localhost:8080/"
    },
    "executionInfo": {
     "elapsed": 569,
     "status": "ok",
     "timestamp": 1617465256917,
     "user": {
      "displayName": "Ignacio Soteras",
      "photoUrl": "",
      "userId": "02050793736257155229"
     },
     "user_tz": -120
    },
    "id": "YpUQh0exaAbe",
    "outputId": "605f9d35-44a9-42fa-b326-22a0a26b17db"
   },
   "outputs": [
    {
     "data": {
      "text/plain": [
       "\"The Dormouse's story\""
      ]
     },
     "execution_count": 12,
     "metadata": {},
     "output_type": "execute_result"
    }
   ],
   "source": [
    "soup.find(\"p\").get_text()"
   ]
  },
  {
   "cell_type": "code",
   "execution_count": 13,
   "metadata": {
    "ExecuteTime": {
     "end_time": "2022-11-21T10:23:59.925492Z",
     "start_time": "2022-11-21T10:23:59.922653Z"
    },
    "colab": {
     "base_uri": "https://localhost:8080/"
    },
    "executionInfo": {
     "elapsed": 645,
     "status": "ok",
     "timestamp": 1617465265285,
     "user": {
      "displayName": "Ignacio Soteras",
      "photoUrl": "",
      "userId": "02050793736257155229"
     },
     "user_tz": -120
    },
    "id": "9FL9FBEzaAbf",
    "outputId": "c0a33bd0-19f2-4cea-971a-32d79cf1e021"
   },
   "outputs": [
    {
     "data": {
      "text/plain": [
       "<p class=\"title\"><b>The Dormouse's story</b></p>"
      ]
     },
     "execution_count": 13,
     "metadata": {},
     "output_type": "execute_result"
    }
   ],
   "source": [
    "# this method only retrieves the first element of the specified tag\n",
    "soup.p"
   ]
  },
  {
   "cell_type": "markdown",
   "metadata": {
    "id": "2zgj0GceaAbf"
   },
   "source": [
    "#### finding all elements of a tag with the powerful find_all()"
   ]
  },
  {
   "cell_type": "code",
   "execution_count": 14,
   "metadata": {
    "ExecuteTime": {
     "end_time": "2022-11-21T10:23:59.931719Z",
     "start_time": "2022-11-21T10:23:59.926428Z"
    },
    "colab": {
     "base_uri": "https://localhost:8080/"
    },
    "executionInfo": {
     "elapsed": 543,
     "status": "ok",
     "timestamp": 1617465454278,
     "user": {
      "displayName": "Ignacio Soteras",
      "photoUrl": "",
      "userId": "02050793736257155229"
     },
     "user_tz": -120
    },
    "id": "opAvwEFZaAbf",
    "outputId": "ead0b364-e609-4a5c-b5da-17b7c824cfaa"
   },
   "outputs": [
    {
     "data": {
      "text/plain": [
       "[<p class=\"title\"><b>The Dormouse's story</b></p>,\n",
       " <p class=\"story\">Once upon a time there were three little sisters; and their names were<a class=\"sister\" href=\"http://example.com/elsie\" id=\"link1\">Elsie</a>,<a class=\"sister\" href=\"http://example.com/lacie\" id=\"link2\">Lacie</a> and<a class=\"sister\" href=\"http://example.com/tillie\" id=\"link3\">Tillie</a>;and they lived at the bottom of a well.</p>,\n",
       " <p class=\"story\">...</p>]"
      ]
     },
     "execution_count": 14,
     "metadata": {},
     "output_type": "execute_result"
    }
   ],
   "source": [
    "p_tags = soup.find_all(\"p\")\n",
    "p_tags"
   ]
  },
  {
   "cell_type": "markdown",
   "metadata": {
    "id": "WuGgfL7EdF65"
   },
   "source": [
    "To get the `text`from the corresponding html code, we can use the function: get_text()"
   ]
  },
  {
   "cell_type": "code",
   "execution_count": 15,
   "metadata": {
    "ExecuteTime": {
     "end_time": "2022-11-21T10:23:59.934958Z",
     "start_time": "2022-11-21T10:23:59.932615Z"
    },
    "id": "tlzGmYxVaAbf",
    "outputId": "5b891a84-bf77-4844-b0e0-8a60a8420551"
   },
   "outputs": [
    {
     "name": "stdout",
     "output_type": "stream",
     "text": [
      "The Dormouse's story\n",
      "Once upon a time there were three little sisters; and their names wereElsie,Lacie andTillie;and they lived at the bottom of a well.\n",
      "...\n"
     ]
    }
   ],
   "source": [
    "for p in p_tags:\n",
    "    print(p.get_text())"
   ]
  },
  {
   "cell_type": "markdown",
   "metadata": {},
   "source": [
    "## Return the 3 names of the sisters"
   ]
  },
  {
   "cell_type": "code",
   "execution_count": 16,
   "metadata": {},
   "outputs": [],
   "source": [
    "a_tags = soup.find_all('a')"
   ]
  },
  {
   "cell_type": "code",
   "execution_count": 17,
   "metadata": {},
   "outputs": [
    {
     "name": "stdout",
     "output_type": "stream",
     "text": [
      "Elsie\n",
      "Lacie\n",
      "Tillie\n"
     ]
    }
   ],
   "source": [
    "for a in a_tags:\n",
    "    print(a.get_text())"
   ]
  },
  {
   "cell_type": "markdown",
   "metadata": {
    "id": "iSzD6IxbaAbf"
   },
   "source": [
    "## Using css selectors\n",
    "Another way to find contents using select(). \n",
    "\n",
    "Let's learn first the syntax of css selectors playing this game: https://flukeout.github.io/\n",
    "\n",
    "Everyone should reach level 6!\n",
    "\n",
    "https://www.w3schools.com/css/css_howto.asp"
   ]
  },
  {
   "cell_type": "code",
   "execution_count": 18,
   "metadata": {
    "ExecuteTime": {
     "end_time": "2022-11-21T10:23:59.939380Z",
     "start_time": "2022-11-21T10:23:59.936028Z"
    },
    "id": "dNk8C2hoaAbf",
    "outputId": "900aa5e6-ae40-45c2-e894-7795b15c20ff"
   },
   "outputs": [
    {
     "data": {
      "text/plain": [
       "[<a class=\"sister\" href=\"http://example.com/elsie\" id=\"link1\">Elsie</a>,\n",
       " <a class=\"sister\" href=\"http://example.com/lacie\" id=\"link2\">Lacie</a>,\n",
       " <a class=\"sister\" href=\"http://example.com/tillie\" id=\"link3\">Tillie</a>]"
      ]
     },
     "execution_count": 18,
     "metadata": {},
     "output_type": "execute_result"
    }
   ],
   "source": [
    "soup.select(\"a\")"
   ]
  },
  {
   "cell_type": "code",
   "execution_count": 19,
   "metadata": {
    "ExecuteTime": {
     "end_time": "2022-11-21T10:23:59.942591Z",
     "start_time": "2022-11-21T10:23:59.940234Z"
    }
   },
   "outputs": [
    {
     "name": "stdout",
     "output_type": "stream",
     "text": [
      "Elsie\n",
      "Lacie\n",
      "Tillie\n"
     ]
    }
   ],
   "source": [
    "for a in soup.select('a'):\n",
    "    print(a.get_text())"
   ]
  },
  {
   "cell_type": "code",
   "execution_count": 20,
   "metadata": {},
   "outputs": [
    {
     "data": {
      "text/plain": [
       "[<p class=\"title\"><b>The Dormouse's story</b></p>,\n",
       " <p class=\"story\">Once upon a time there were three little sisters; and their names were<a class=\"sister\" href=\"http://example.com/elsie\" id=\"link1\">Elsie</a>,<a class=\"sister\" href=\"http://example.com/lacie\" id=\"link2\">Lacie</a> and<a class=\"sister\" href=\"http://example.com/tillie\" id=\"link3\">Tillie</a>;and they lived at the bottom of a well.</p>,\n",
       " <p class=\"story\">...</p>]"
      ]
     },
     "execution_count": 20,
     "metadata": {},
     "output_type": "execute_result"
    }
   ],
   "source": [
    "soup.select('p')"
   ]
  },
  {
   "cell_type": "code",
   "execution_count": 21,
   "metadata": {
    "ExecuteTime": {
     "end_time": "2022-11-21T10:23:59.948173Z",
     "start_time": "2022-11-21T10:23:59.943587Z"
    }
   },
   "outputs": [
    {
     "data": {
      "text/plain": [
       "<p class=\"title\"><b>The Dormouse's story</b></p>"
      ]
     },
     "execution_count": 21,
     "metadata": {},
     "output_type": "execute_result"
    }
   ],
   "source": [
    "soup.select(\"p\")[0]"
   ]
  },
  {
   "cell_type": "markdown",
   "metadata": {},
   "source": [
    "using css selector, you can search directly using Css classes!"
   ]
  },
  {
   "cell_type": "code",
   "execution_count": 22,
   "metadata": {
    "ExecuteTime": {
     "end_time": "2022-11-21T10:23:59.951745Z",
     "start_time": "2022-11-21T10:23:59.948985Z"
    },
    "id": "zzColpFDaAbg",
    "outputId": "5f20e08b-157c-43de-f8f6-7a75fbc01416"
   },
   "outputs": [
    {
     "data": {
      "text/plain": [
       "[<p class=\"title\"><b>The Dormouse's story</b></p>]"
      ]
     },
     "execution_count": 22,
     "metadata": {},
     "output_type": "execute_result"
    }
   ],
   "source": [
    "soup.select(\".title\")"
   ]
  },
  {
   "cell_type": "markdown",
   "metadata": {},
   "source": [
    "<b> comparing to find_all() .."
   ]
  },
  {
   "cell_type": "code",
   "execution_count": 23,
   "metadata": {
    "ExecuteTime": {
     "end_time": "2022-11-21T10:23:59.955538Z",
     "start_time": "2022-11-21T10:23:59.952594Z"
    }
   },
   "outputs": [
    {
     "data": {
      "text/plain": [
       "[<a class=\"sister\" href=\"http://example.com/elsie\" id=\"link1\">Elsie</a>,\n",
       " <a class=\"sister\" href=\"http://example.com/lacie\" id=\"link2\">Lacie</a>,\n",
       " <a class=\"sister\" href=\"http://example.com/tillie\" id=\"link3\">Tillie</a>]"
      ]
     },
     "execution_count": 23,
     "metadata": {},
     "output_type": "execute_result"
    }
   ],
   "source": [
    "soup.find_all(\"a\", class_=\"sister\")"
   ]
  },
  {
   "cell_type": "code",
   "execution_count": 24,
   "metadata": {
    "ExecuteTime": {
     "end_time": "2022-11-21T10:23:59.959269Z",
     "start_time": "2022-11-21T10:23:59.956330Z"
    },
    "colab": {
     "base_uri": "https://localhost:8080/"
    },
    "executionInfo": {
     "elapsed": 589,
     "status": "ok",
     "timestamp": 1617465582120,
     "user": {
      "displayName": "Ignacio Soteras",
      "photoUrl": "",
      "userId": "02050793736257155229"
     },
     "user_tz": -120
    },
    "id": "6mZMh6fEaAbg",
    "outputId": "4c422533-a45e-408d-9cd7-01c0aaf59a16",
    "scrolled": true
   },
   "outputs": [
    {
     "data": {
      "text/plain": [
       "[<a class=\"sister\" href=\"http://example.com/elsie\" id=\"link1\">Elsie</a>,\n",
       " <a class=\"sister\" href=\"http://example.com/lacie\" id=\"link2\">Lacie</a>,\n",
       " <a class=\"sister\" href=\"http://example.com/tillie\" id=\"link3\">Tillie</a>]"
      ]
     },
     "execution_count": 24,
     "metadata": {},
     "output_type": "execute_result"
    }
   ],
   "source": [
    "soup.select(\"a.sister\")"
   ]
  },
  {
   "cell_type": "markdown",
   "metadata": {},
   "source": [
    "<b>  You can searc directly using id attributes"
   ]
  },
  {
   "cell_type": "code",
   "execution_count": 25,
   "metadata": {
    "ExecuteTime": {
     "end_time": "2022-11-21T10:23:59.962881Z",
     "start_time": "2022-11-21T10:23:59.960086Z"
    },
    "colab": {
     "base_uri": "https://localhost:8080/"
    },
    "executionInfo": {
     "elapsed": 571,
     "status": "ok",
     "timestamp": 1617465565574,
     "user": {
      "displayName": "Ignacio Soteras",
      "photoUrl": "",
      "userId": "02050793736257155229"
     },
     "user_tz": -120
    },
    "id": "n4dJ3ZmmaAbg",
    "outputId": "5e1911c9-d6e3-4be4-eab8-b37db79749eb"
   },
   "outputs": [
    {
     "data": {
      "text/plain": [
       "[<a class=\"sister\" href=\"http://example.com/lacie\" id=\"link2\">Lacie</a>]"
      ]
     },
     "execution_count": 25,
     "metadata": {},
     "output_type": "execute_result"
    }
   ],
   "source": [
    "soup.select(\"#link2\")"
   ]
  },
  {
   "cell_type": "markdown",
   "metadata": {
    "id": "pmG7uZlQaAbg"
   },
   "source": [
    "We can combine the `select()` method with other bs4 methods, such as `get_text()`.\n",
    "\n",
    "`get_text()`, however, can only be applied to single elements, while `select()` might return multiple elements. It's common to iterate through the output of `select()`"
   ]
  },
  {
   "cell_type": "code",
   "execution_count": 26,
   "metadata": {
    "ExecuteTime": {
     "end_time": "2022-11-21T10:23:59.966632Z",
     "start_time": "2022-11-21T10:23:59.963708Z"
    },
    "colab": {
     "base_uri": "https://localhost:8080/"
    },
    "executionInfo": {
     "elapsed": 556,
     "status": "ok",
     "timestamp": 1617465602862,
     "user": {
      "displayName": "Ignacio Soteras",
      "photoUrl": "",
      "userId": "02050793736257155229"
     },
     "user_tz": -120
    },
    "id": "xMaRktqaaAbg",
    "outputId": "c31aede1-3671-4e01-dda8-4ad1c34236f4"
   },
   "outputs": [
    {
     "name": "stdout",
     "output_type": "stream",
     "text": [
      "[<p class=\"story\">Once upon a time there were three little sisters; and their names were<a class=\"sister\" href=\"http://example.com/elsie\" id=\"link1\">Elsie</a>,<a class=\"sister\" href=\"http://example.com/lacie\" id=\"link2\">Lacie</a> and<a class=\"sister\" href=\"http://example.com/tillie\" id=\"link3\">Tillie</a>;and they lived at the bottom of a well.</p>, <p class=\"story\">...</p>]\n"
     ]
    }
   ],
   "source": [
    "print(soup.select(\".story\"))"
   ]
  },
  {
   "cell_type": "code",
   "execution_count": 27,
   "metadata": {
    "ExecuteTime": {
     "end_time": "2022-11-21T10:23:59.969843Z",
     "start_time": "2022-11-21T10:23:59.967544Z"
    },
    "colab": {
     "base_uri": "https://localhost:8080/"
    },
    "executionInfo": {
     "elapsed": 545,
     "status": "ok",
     "timestamp": 1617465606338,
     "user": {
      "displayName": "Ignacio Soteras",
      "photoUrl": "",
      "userId": "02050793736257155229"
     },
     "user_tz": -120
    },
    "id": "-I92xAykaAbh",
    "outputId": "cb2ac2fc-f842-4141-f742-bcb76a70d0ca"
   },
   "outputs": [
    {
     "name": "stdout",
     "output_type": "stream",
     "text": [
      "Once upon a time there were three little sisters; and their names wereElsie,Lacie andTillie;and they lived at the bottom of a well.\n",
      "...\n"
     ]
    }
   ],
   "source": [
    "for p in soup.select(\"p.story\"):\n",
    "    print(p.get_text())"
   ]
  },
  {
   "cell_type": "markdown",
   "metadata": {
    "id": "6KfG8vDwaAbh"
   },
   "source": [
    "\n",
    "\n",
    "Write code to print the following contents (not including the html tags, only human-readable text): \n",
    "\n",
    "1. All the \"fun facts\". \n",
    "\n",
    "2. The names of all the places. \n",
    "\n",
    "3. The content (name and fact) of all the cities (only cities, not countries!) \n",
    "\n",
    "4. The names (not facts!) of all the cities (not countries!)"
   ]
  },
  {
   "cell_type": "code",
   "execution_count": 28,
   "metadata": {
    "ExecuteTime": {
     "end_time": "2022-11-21T10:23:59.975879Z",
     "start_time": "2022-11-21T10:23:59.974274Z"
    },
    "executionInfo": {
     "elapsed": 537,
     "status": "ok",
     "timestamp": 1617465616779,
     "user": {
      "displayName": "Ignacio Soteras",
      "photoUrl": "",
      "userId": "02050793736257155229"
     },
     "user_tz": -120
    },
    "id": "IeMQdO9oaAbh"
   },
   "outputs": [],
   "source": [
    "geography = \"\"\"\n",
    "<!DOCTYPE html>\n",
    "<html>\n",
    "<head> Geography</head>\n",
    "<body>\n",
    "\n",
    "<div class=\"city\">\n",
    "  <h2>London</h2>\n",
    "  <p>London is the most popular tourist destination in the world.</p>\n",
    "</div>\n",
    "\n",
    "<div class=\"city\">\n",
    "  <h2>Paris</h2>\n",
    "  <p>Paris was originally a Roman City called Lutetia.</p>\n",
    "</div>\n",
    "\n",
    "<div class=\"country\">\n",
    "  <h2>Spain</h2>\n",
    "  <p>Spain produces 43,8% of all the world's Olive Oil.</p>\n",
    "</div>\n",
    "\n",
    "</body>\n",
    "</html>\n",
    "\"\"\""
   ]
  },
  {
   "cell_type": "code",
   "execution_count": 29,
   "metadata": {
    "ExecuteTime": {
     "end_time": "2022-11-21T10:23:59.981254Z",
     "start_time": "2022-11-21T10:23:59.976715Z"
    },
    "colab": {
     "base_uri": "https://localhost:8080/"
    },
    "executionInfo": {
     "elapsed": 558,
     "status": "ok",
     "timestamp": 1617465618931,
     "user": {
      "displayName": "Ignacio Soteras",
      "photoUrl": "",
      "userId": "02050793736257155229"
     },
     "user_tz": -120
    },
    "id": "N30WN3l0aAbh",
    "outputId": "c60877a2-c689-412d-a2a5-7f74d019cb07"
   },
   "outputs": [
    {
     "name": "stdout",
     "output_type": "stream",
     "text": [
      "<!DOCTYPE html>\n",
      "<html>\n",
      " <head>\n",
      "  Geography\n",
      " </head>\n",
      " <body>\n",
      "  <div class=\"city\">\n",
      "   <h2>\n",
      "    London\n",
      "   </h2>\n",
      "   <p>\n",
      "    London is the most popular tourist destination in the world.\n",
      "   </p>\n",
      "  </div>\n",
      "  <div class=\"city\">\n",
      "   <h2>\n",
      "    Paris\n",
      "   </h2>\n",
      "   <p>\n",
      "    Paris was originally a Roman City called Lutetia.\n",
      "   </p>\n",
      "  </div>\n",
      "  <div class=\"country\">\n",
      "   <h2>\n",
      "    Spain\n",
      "   </h2>\n",
      "   <p>\n",
      "    Spain produces 43,8% of all the world's Olive Oil.\n",
      "   </p>\n",
      "  </div>\n",
      " </body>\n",
      "</html>\n",
      "\n"
     ]
    }
   ],
   "source": [
    "soup = BeautifulSoup(geography, 'html.parser')\n",
    "\n",
    "print(soup.prettify())"
   ]
  },
  {
   "cell_type": "code",
   "execution_count": 30,
   "metadata": {},
   "outputs": [
    {
     "name": "stdout",
     "output_type": "stream",
     "text": [
      "London is the most popular tourist destination in the world.\n",
      "Paris was originally a Roman City called Lutetia.\n",
      "Spain produces 43,8% of all the world's Olive Oil.\n"
     ]
    }
   ],
   "source": [
    "#All the \"fun facts\".\n",
    "\n",
    "fun_facts=soup.find_all(\"p\")\n",
    "for fact in fun_facts:\n",
    "    print(fact.get_text())"
   ]
  },
  {
   "cell_type": "code",
   "execution_count": 31,
   "metadata": {},
   "outputs": [
    {
     "name": "stdout",
     "output_type": "stream",
     "text": [
      "London\n",
      "Paris\n",
      "Spain\n"
     ]
    }
   ],
   "source": [
    "#The names of all the places.\n",
    "names=soup.find_all(\"h2\")\n",
    "for name in names:\n",
    "    print(name.get_text())"
   ]
  },
  {
   "cell_type": "code",
   "execution_count": 32,
   "metadata": {},
   "outputs": [
    {
     "name": "stdout",
     "output_type": "stream",
     "text": [
      "\n",
      "London\n",
      "London is the most popular tourist destination in the world.\n",
      "\n",
      "\n",
      "Paris\n",
      "Paris was originally a Roman City called Lutetia.\n",
      "\n"
     ]
    }
   ],
   "source": [
    "#The content (name and fact) of all the cities (only cities, not countries!)\n",
    "cities=soup.find_all(class_=\"city\")\n",
    "for city in cities:\n",
    "    print(city.get_text())"
   ]
  },
  {
   "cell_type": "code",
   "execution_count": 33,
   "metadata": {},
   "outputs": [
    {
     "name": "stdout",
     "output_type": "stream",
     "text": [
      "London\n",
      "Paris\n"
     ]
    }
   ],
   "source": [
    "#The names (not facts!) of all the cities (not countries!)\n",
    "cities=soup.select(\"div.city\")\n",
    "for city in cities:\n",
    "    print(city.find(\"h2\").get_text())"
   ]
  },
  {
   "cell_type": "markdown",
   "metadata": {
    "id": "du1eWZioaAbi"
   },
   "source": [
    "## Use case: \n",
    "\n",
    "\n",
    "\n"
   ]
  },
  {
   "cell_type": "code",
   "execution_count": 34,
   "metadata": {
    "ExecuteTime": {
     "end_time": "2022-11-21T10:24:00.280927Z",
     "start_time": "2022-11-21T10:24:00.007741Z"
    },
    "id": "yVB5PyUKaAbi"
   },
   "outputs": [],
   "source": [
    "# 1. import libraries\n",
    "from bs4 import BeautifulSoup\n",
    "import requests\n",
    "import pandas as pd"
   ]
  },
  {
   "cell_type": "code",
   "execution_count": 35,
   "metadata": {
    "ExecuteTime": {
     "end_time": "2022-11-21T10:24:00.283691Z",
     "start_time": "2022-11-21T10:24:00.281914Z"
    },
    "id": "aeTnMAh4aAbi"
   },
   "outputs": [],
   "source": [
    "# 2. find url and store it in a variable\n",
    "url = \"https://www.timeout.com/film/best-movies-of-all-time\"\n",
    "response=requests.get(url)\n",
    "soup=BeautifulSoup(response.content)"
   ]
  },
  {
   "cell_type": "code",
   "execution_count": 36,
   "metadata": {},
   "outputs": [
    {
     "ename": "SyntaxError",
     "evalue": "invalid syntax (3299483301.py, line 1)",
     "output_type": "error",
     "traceback": [
      "\u001b[1;36m  Cell \u001b[1;32mIn[36], line 1\u001b[1;36m\u001b[0m\n\u001b[1;33m    soup.\u001b[0m\n\u001b[1;37m         ^\u001b[0m\n\u001b[1;31mSyntaxError\u001b[0m\u001b[1;31m:\u001b[0m invalid syntax\n"
     ]
    }
   ],
   "source": [
    "soup."
   ]
  },
  {
   "cell_type": "code",
   "execution_count": 37,
   "metadata": {},
   "outputs": [
    {
     "name": "stdout",
     "output_type": "stream",
     "text": [
      "1. 2001: A Space Odyssey (1968)\n",
      "2. The Godfather (1972)\n",
      "3. Citizen Kane (1941)\n",
      "4. Jeanne Dielman, 23, Quai du Commerce, 1080 Bruxelles (1975)\n",
      "5. Raiders of the Lost Ark (1981)\n",
      "6. La Dolce Vita (1960)\n",
      "7. Seven Samurai (1954)\n",
      "8. In the Mood for Love (2000)\n",
      "9. There Will Be Blood (2007)\n",
      "10. Singin’ in the Rain (1952)\n",
      "11. Goodfellas (1990)\n",
      "12. North by Northwest (1959)\n",
      "13. Mulholland Drive (2001)\n",
      "14. Bicycle Thieves (1948)\n",
      "15. The Dark Knight (2008)\n",
      "16. City Lights (1931)\n",
      "17. Grand Illusion (1937)\n",
      "18. His Girl Friday (1940)\n",
      "19. The Red Shoes (1948)\n",
      "20. Vertigo (1958)\n",
      "21. Beau Travail (1999)\n",
      "22. The Searchers (1956)\n",
      "23. Persona (1966)\n",
      "24. Do the Right Thing (1989)\n",
      "25. Rashomon (1950)\n",
      "26. The Rules of the Game (1939)\n",
      "27. Jaws (1975)\n",
      "28. Double Indemnity (1944)\n",
      "29. The 400 Blows (1959)\n",
      "30. Star Wars (1977)\n",
      "31. The Passion of Joan of Arc (1928)\n",
      "32. Once Upon a Time in the West (1968)\n",
      "33. Alien (1979)\n",
      "34. Tokyo Story (1951)\n",
      "35. Pulp Fiction (1994)\n",
      "36. The Truman Show (1998)\n",
      "37. Lawrence of Arabia (1962)\n",
      "38. Psycho (1960)\n",
      "39. Sansho the Bailiff (1954)\n",
      "40. Andrei Rublev (1966)\n",
      "41. The Umbrellas of Cherbourg (1964)\n",
      "42. Chinatown (1974)\n",
      "43. The Seventh Seal (1957)\n",
      "44. Lost in Translation (2003)\n",
      "45. Taxi Driver (1976)\n",
      "46. Spirited Away (2001)\n",
      "47. Night of the Living Dead (1968)\n",
      "48. Battleship Potemkin (1925)\n",
      "49. Modern Times (1936)\n",
      "50. Breathless (1960)\n",
      "51. Dr. Strangelove or: How I Learned to Stop Worrying and Love the Bomb (1964)\n",
      "52. M (1931)\n",
      "53. Blade Runner (1982)\n",
      "54. The Bitter Tears of Petra von Kant (1972)\n",
      "55. Rome, Open City (1945)\n",
      "56. Nosferatu (1922)\n",
      "57. Airplane! (1980)\n",
      "58. Under the Skin (2013)\n",
      "59. Mad Max: Fury Road (2015)\n",
      "60. Apocalypse Now (1979)\n",
      "61. Brokeback Mountain (2005)\n",
      "62. Duck Soup (1933)\n",
      "63. The Blair Witch Project (1999)\n",
      "64. All the President’s Men (1976)\n",
      "65. The Apu trilogy (1955, 1956, 1959)\n",
      "66. The General (1926)\n",
      "67. Eternal Sunshine of the Spotless Mind (2004)\n",
      "68. The Texas Chain Saw Massacre (1974)\n",
      "69. Come and See (1985)\n",
      "70. Heat (1995)\n",
      "71. The Shining (1980)\n",
      "72. Toy Story (1995)\n",
      "73. Killer of Sheep (1977)\n",
      "74. A Woman Under the Influence (1974)\n",
      "75. Annie Hall (1977)\n",
      "76. Some Like It Hot (1959)\n",
      "77. Metropolis (1927)\n",
      "78. The Maltese Falcon (1941)\n",
      "79. This Is Spinal Tap (1984)\n",
      "80. It Happened One Night (1934)\n",
      "81. Die Hard (1988)\n",
      "82. The Conformist (1970)\n",
      "83. The Thing (1982)\n",
      "84. Daughters of the Dust (1991)\n",
      "85. Barry Lyndon (1975)\n",
      "86. Raging Bull (1980)\n",
      "87. Seven (1995)\n",
      "88. Aguirre, the Wrath of God (1972)\n",
      "89. The Battle of Algiers (1966)\n",
      "90. No Country for Old Men (2007)\n",
      "91. Women on the Verge of a Nervous Breakdown (1988)\n",
      "92. The Discreet Charm of the Bourgeoisie (1972)\n",
      "93. Paths of Glory (1957)\n",
      "94. Secrets & Lies (1996)\n",
      "95. Sweet Smell of Success (1957)\n",
      "96. The Cabinet of Dr. Caligari (1920)\n",
      "97. Nashville (1975)\n",
      "98. Don’t Look Now (1973)\n",
      "99. Bonnie and Clyde (1967)\n",
      "100. Get Out (2017)\n",
      "Check out the best movies of all time as chosen by actors\n"
     ]
    }
   ],
   "source": [
    "films=soup.find_all(\"h3\")\n",
    "for film in films:\n",
    "    print(film.get_text())\n",
    "    \n"
   ]
  },
  {
   "cell_type": "code",
   "execution_count": 38,
   "metadata": {
    "collapsed": true
   },
   "outputs": [
    {
     "data": {
      "text/plain": [
       "['1.\\xa02001: A Space Odyssey (1968)',\n",
       " '2.\\xa0The Godfather (1972)',\n",
       " '3.\\xa0Citizen Kane (1941)',\n",
       " '4.\\xa0Jeanne Dielman, 23, Quai du Commerce, 1080 Bruxelles (1975)',\n",
       " '5.\\xa0Raiders of the Lost Ark (1981)',\n",
       " '6.\\xa0La Dolce Vita (1960)',\n",
       " '7.\\xa0Seven Samurai (1954)',\n",
       " '8.\\xa0In the Mood for Love (2000)',\n",
       " '9.\\xa0There Will Be Blood (2007)',\n",
       " '10.\\xa0Singin’ in the Rain (1952)',\n",
       " '11.\\xa0Goodfellas (1990)',\n",
       " '12.\\xa0North by Northwest (1959)',\n",
       " '13.\\xa0Mulholland Drive (2001)',\n",
       " '14.\\xa0Bicycle Thieves (1948)',\n",
       " '15.\\xa0The Dark Knight (2008)',\n",
       " '16.\\xa0City Lights (1931)',\n",
       " '17.\\xa0Grand Illusion (1937)',\n",
       " '18.\\xa0His Girl Friday (1940)',\n",
       " '19.\\xa0The Red Shoes (1948)',\n",
       " '20.\\xa0Vertigo (1958)',\n",
       " '21.\\xa0Beau Travail (1999)',\n",
       " '22.\\xa0The Searchers (1956)',\n",
       " '23.\\xa0Persona (1966)',\n",
       " '24.\\xa0Do the Right Thing (1989)',\n",
       " '25.\\xa0Rashomon (1950)',\n",
       " '26.\\xa0The Rules of the Game (1939)',\n",
       " '27.\\xa0Jaws (1975)',\n",
       " '28.\\xa0Double Indemnity (1944)',\n",
       " '29.\\xa0The 400 Blows (1959)',\n",
       " '30.\\xa0Star Wars (1977)',\n",
       " '31.\\xa0The Passion of Joan of Arc (1928)',\n",
       " '32.\\xa0Once Upon a Time in the West (1968)',\n",
       " '33.\\xa0Alien (1979)',\n",
       " '34.\\xa0Tokyo Story (1951)',\n",
       " '35.\\xa0Pulp Fiction (1994)',\n",
       " '36.\\xa0The Truman Show (1998)',\n",
       " '37.\\xa0Lawrence of Arabia (1962)',\n",
       " '38.\\xa0Psycho (1960)',\n",
       " '39.\\xa0Sansho the Bailiff (1954)',\n",
       " '40.\\xa0Andrei Rublev (1966)',\n",
       " '41.\\xa0The Umbrellas of Cherbourg (1964)',\n",
       " '42.\\xa0Chinatown (1974)',\n",
       " '43.\\xa0The Seventh Seal (1957)',\n",
       " '44.\\xa0Lost in Translation (2003)',\n",
       " '45.\\xa0Taxi Driver (1976)',\n",
       " '46.\\xa0Spirited Away (2001)',\n",
       " '47.\\xa0Night of the Living Dead (1968)',\n",
       " '48.\\xa0Battleship Potemkin (1925)',\n",
       " '49.\\xa0Modern Times (1936)',\n",
       " '50.\\xa0Breathless (1960)',\n",
       " '51.\\xa0Dr. Strangelove or: How I Learned to Stop Worrying and Love the Bomb (1964)',\n",
       " '52.\\xa0M (1931)',\n",
       " '53.\\xa0Blade Runner (1982)',\n",
       " '54.\\xa0The Bitter Tears of Petra von Kant (1972)',\n",
       " '55.\\xa0Rome, Open City (1945)',\n",
       " '56.\\xa0Nosferatu (1922)',\n",
       " '57.\\xa0Airplane! (1980)',\n",
       " '58.\\xa0Under the Skin (2013)',\n",
       " '59.\\xa0Mad Max: Fury Road (2015)',\n",
       " '60.\\xa0Apocalypse Now (1979)',\n",
       " '61.\\xa0Brokeback Mountain (2005)',\n",
       " '62.\\xa0Duck Soup (1933)',\n",
       " '63.\\xa0The Blair Witch Project (1999)',\n",
       " '64.\\xa0All the President’s Men (1976)',\n",
       " '65.\\xa0The Apu trilogy (1955, 1956, 1959)',\n",
       " '66.\\xa0The General (1926)',\n",
       " '67.\\xa0Eternal Sunshine of the Spotless Mind (2004)',\n",
       " '68.\\xa0The Texas Chain Saw Massacre (1974)',\n",
       " '69.\\xa0Come and See (1985)',\n",
       " '70.\\xa0Heat (1995)',\n",
       " '71.\\xa0The Shining (1980)',\n",
       " '72.\\xa0Toy Story (1995)',\n",
       " '73.\\xa0Killer of Sheep (1977)',\n",
       " '74.\\xa0A Woman Under the Influence (1974)',\n",
       " '75.\\xa0Annie Hall (1977)',\n",
       " '76.\\xa0Some Like It Hot (1959)',\n",
       " '77.\\xa0Metropolis (1927)',\n",
       " '78.\\xa0The Maltese Falcon (1941)',\n",
       " '79.\\xa0This Is Spinal Tap (1984)',\n",
       " '80.\\xa0It Happened One Night (1934)',\n",
       " '81.\\xa0Die Hard (1988)',\n",
       " '82.\\xa0The Conformist (1970)',\n",
       " '83.\\xa0The Thing (1982)',\n",
       " '84.\\xa0Daughters of the Dust (1991)',\n",
       " '85.\\xa0Barry Lyndon (1975)',\n",
       " '86.\\xa0Raging Bull (1980)',\n",
       " '87.\\xa0Seven (1995)',\n",
       " '88.\\xa0Aguirre, the Wrath of God (1972)',\n",
       " '89.\\xa0The Battle of Algiers (1966)',\n",
       " '90.\\xa0No Country for Old Men (2007)',\n",
       " '91.\\xa0Women on the Verge of a Nervous Breakdown (1988)',\n",
       " '92.\\xa0The Discreet Charm of the Bourgeoisie (1972)',\n",
       " '93.\\xa0Paths of Glory (1957)',\n",
       " '94.\\xa0Secrets & Lies (1996)',\n",
       " '95.\\xa0Sweet Smell of Success (1957)',\n",
       " '96.\\xa0The Cabinet of Dr. Caligari (1920)',\n",
       " '97.\\xa0Nashville (1975)',\n",
       " '98.\\xa0Don’t Look Now (1973)',\n",
       " '99.\\xa0Bonnie and Clyde (1967)',\n",
       " '100.\\xa0Get Out (2017)',\n",
       " 'Check out the best movies of all time as chosen by actors']"
      ]
     },
     "execution_count": 38,
     "metadata": {},
     "output_type": "execute_result"
    }
   ],
   "source": [
    "top100=[]\n",
    "for film in films:\n",
    "    top100.append(film.get_text())\n",
    "    \n",
    "top100"
   ]
  },
  {
   "cell_type": "code",
   "execution_count": 39,
   "metadata": {},
   "outputs": [
    {
     "data": {
      "text/plain": [
       "'Check out the best movies of all time as chosen by actors'"
      ]
     },
     "execution_count": 39,
     "metadata": {},
     "output_type": "execute_result"
    }
   ],
   "source": [
    "top100.pop()"
   ]
  },
  {
   "cell_type": "code",
   "execution_count": 40,
   "metadata": {},
   "outputs": [],
   "source": [
    "url='https://gutenberg.org/ebooks/search/?sort_order=downloads'\n",
    "response=requests.get(url)\n",
    "soup=BeautifulSoup(response.content)"
   ]
  },
  {
   "cell_type": "code",
   "execution_count": null,
   "metadata": {},
   "outputs": [],
   "source": []
  },
  {
   "cell_type": "code",
   "execution_count": 52,
   "metadata": {
    "scrolled": true
   },
   "outputs": [
    {
     "data": {
      "text/plain": [
       "['Frankenstein; Or, The Modern Prometheus',\n",
       " 'Moby Dick; Or, The Whale',\n",
       " 'Pride and Prejudice',\n",
       " 'Romeo and Juliet',\n",
       " 'Middlemarch',\n",
       " 'A Room with a View',\n",
       " 'Little Women; Or, Meg, Jo, Beth, and Amy',\n",
       " 'The Complete Works of William Shakespeare',\n",
       " 'The Blue Castle: a novel',\n",
       " 'The Enchanted April',\n",
       " 'The Adventures of Ferdinand Count Fathom — Complete',\n",
       " 'Cranford',\n",
       " 'The Expedition of Humphry Clinker',\n",
       " 'The Adventures of Roderick Random',\n",
       " 'History of Tom Jones, a Foundling',\n",
       " 'Twenty years after',\n",
       " 'My Life — Volume 1',\n",
       " \"Alice's Adventures in Wonderland\",\n",
       " 'The Great Gatsby',\n",
       " 'The Picture of Dorian Gray',\n",
       " \"A Doll's House : a play\",\n",
       " 'The Yellow Wallpaper',\n",
       " 'The Importance of Being Earnest: A Trivial Comedy for Serious People',\n",
       " 'Metamorphosis',\n",
       " 'A Modest Proposal\\r']"
      ]
     },
     "execution_count": 52,
     "metadata": {},
     "output_type": "execute_result"
    }
   ],
   "source": [
    "titles=soup.select('li.booklink span.title')\n",
    "books=[]\n",
    "for title in titles:\n",
    "    books.append(title.get_text())\n",
    "\n",
    "books"
   ]
  },
  {
   "cell_type": "code",
   "execution_count": 43,
   "metadata": {
    "scrolled": true
   },
   "outputs": [
    {
     "data": {
      "text/plain": [
       "['Mary Wollstonecraft Shelley',\n",
       " 'Herman Melville',\n",
       " 'Jane Austen',\n",
       " 'William Shakespeare',\n",
       " 'George Eliot',\n",
       " 'E. M. Forster',\n",
       " 'Louisa May Alcott',\n",
       " 'William Shakespeare',\n",
       " 'L. M. Montgomery',\n",
       " 'Elizabeth Von Arnim',\n",
       " 'T. Smollett',\n",
       " 'Elizabeth Cleghorn Gaskell',\n",
       " 'T. Smollett',\n",
       " 'T. Smollett',\n",
       " 'Henry Fielding',\n",
       " 'Alexandre Dumas and Auguste Maquet',\n",
       " 'Richard Wagner',\n",
       " 'Lewis Carroll',\n",
       " 'F. Scott Fitzgerald',\n",
       " 'Oscar Wilde',\n",
       " 'Henrik Ibsen',\n",
       " 'Charlotte Perkins Gilman',\n",
       " 'Oscar Wilde',\n",
       " 'Franz Kafka',\n",
       " 'Jonathan Swift']"
      ]
     },
     "execution_count": 43,
     "metadata": {},
     "output_type": "execute_result"
    }
   ],
   "source": [
    "authors=[]\n",
    "for i in soup.select(\"span.subtitle\"):\n",
    "    authors.append(i.get_text())\n",
    "authors"
   ]
  },
  {
   "cell_type": "code",
   "execution_count": 58,
   "metadata": {},
   "outputs": [
    {
     "data": {
      "text/html": [
       "<div>\n",
       "<style scoped>\n",
       "    .dataframe tbody tr th:only-of-type {\n",
       "        vertical-align: middle;\n",
       "    }\n",
       "\n",
       "    .dataframe tbody tr th {\n",
       "        vertical-align: top;\n",
       "    }\n",
       "\n",
       "    .dataframe thead th {\n",
       "        text-align: right;\n",
       "    }\n",
       "</style>\n",
       "<table border=\"1\" class=\"dataframe\">\n",
       "  <thead>\n",
       "    <tr style=\"text-align: right;\">\n",
       "      <th></th>\n",
       "      <th>Books</th>\n",
       "      <th>Authors</th>\n",
       "    </tr>\n",
       "  </thead>\n",
       "  <tbody>\n",
       "    <tr>\n",
       "      <th>0</th>\n",
       "      <td>Frankenstein; Or, The Modern Prometheus</td>\n",
       "      <td>Mary Wollstonecraft Shelley</td>\n",
       "    </tr>\n",
       "    <tr>\n",
       "      <th>1</th>\n",
       "      <td>Moby Dick; Or, The Whale</td>\n",
       "      <td>Herman Melville</td>\n",
       "    </tr>\n",
       "    <tr>\n",
       "      <th>2</th>\n",
       "      <td>Pride and Prejudice</td>\n",
       "      <td>Jane Austen</td>\n",
       "    </tr>\n",
       "    <tr>\n",
       "      <th>3</th>\n",
       "      <td>Romeo and Juliet</td>\n",
       "      <td>William Shakespeare</td>\n",
       "    </tr>\n",
       "    <tr>\n",
       "      <th>4</th>\n",
       "      <td>Middlemarch</td>\n",
       "      <td>George Eliot</td>\n",
       "    </tr>\n",
       "    <tr>\n",
       "      <th>5</th>\n",
       "      <td>A Room with a View</td>\n",
       "      <td>E. M. Forster</td>\n",
       "    </tr>\n",
       "    <tr>\n",
       "      <th>6</th>\n",
       "      <td>Little Women; Or, Meg, Jo, Beth, and Amy</td>\n",
       "      <td>Louisa May Alcott</td>\n",
       "    </tr>\n",
       "    <tr>\n",
       "      <th>7</th>\n",
       "      <td>The Complete Works of William Shakespeare</td>\n",
       "      <td>William Shakespeare</td>\n",
       "    </tr>\n",
       "    <tr>\n",
       "      <th>8</th>\n",
       "      <td>The Blue Castle: a novel</td>\n",
       "      <td>L. M. Montgomery</td>\n",
       "    </tr>\n",
       "    <tr>\n",
       "      <th>9</th>\n",
       "      <td>The Enchanted April</td>\n",
       "      <td>Elizabeth Von Arnim</td>\n",
       "    </tr>\n",
       "    <tr>\n",
       "      <th>10</th>\n",
       "      <td>The Adventures of Ferdinand Count Fathom — Com...</td>\n",
       "      <td>T. Smollett</td>\n",
       "    </tr>\n",
       "    <tr>\n",
       "      <th>11</th>\n",
       "      <td>Cranford</td>\n",
       "      <td>Elizabeth Cleghorn Gaskell</td>\n",
       "    </tr>\n",
       "    <tr>\n",
       "      <th>12</th>\n",
       "      <td>The Expedition of Humphry Clinker</td>\n",
       "      <td>T. Smollett</td>\n",
       "    </tr>\n",
       "    <tr>\n",
       "      <th>13</th>\n",
       "      <td>The Adventures of Roderick Random</td>\n",
       "      <td>T. Smollett</td>\n",
       "    </tr>\n",
       "    <tr>\n",
       "      <th>14</th>\n",
       "      <td>History of Tom Jones, a Foundling</td>\n",
       "      <td>Henry Fielding</td>\n",
       "    </tr>\n",
       "    <tr>\n",
       "      <th>15</th>\n",
       "      <td>Twenty years after</td>\n",
       "      <td>Alexandre Dumas and Auguste Maquet</td>\n",
       "    </tr>\n",
       "    <tr>\n",
       "      <th>16</th>\n",
       "      <td>My Life — Volume 1</td>\n",
       "      <td>Richard Wagner</td>\n",
       "    </tr>\n",
       "    <tr>\n",
       "      <th>17</th>\n",
       "      <td>Alice's Adventures in Wonderland</td>\n",
       "      <td>Lewis Carroll</td>\n",
       "    </tr>\n",
       "    <tr>\n",
       "      <th>18</th>\n",
       "      <td>The Great Gatsby</td>\n",
       "      <td>F. Scott Fitzgerald</td>\n",
       "    </tr>\n",
       "    <tr>\n",
       "      <th>19</th>\n",
       "      <td>The Picture of Dorian Gray</td>\n",
       "      <td>Oscar Wilde</td>\n",
       "    </tr>\n",
       "    <tr>\n",
       "      <th>20</th>\n",
       "      <td>A Doll's House : a play</td>\n",
       "      <td>Henrik Ibsen</td>\n",
       "    </tr>\n",
       "    <tr>\n",
       "      <th>21</th>\n",
       "      <td>The Yellow Wallpaper</td>\n",
       "      <td>Charlotte Perkins Gilman</td>\n",
       "    </tr>\n",
       "    <tr>\n",
       "      <th>22</th>\n",
       "      <td>The Importance of Being Earnest: A Trivial Com...</td>\n",
       "      <td>Oscar Wilde</td>\n",
       "    </tr>\n",
       "    <tr>\n",
       "      <th>23</th>\n",
       "      <td>Metamorphosis</td>\n",
       "      <td>Franz Kafka</td>\n",
       "    </tr>\n",
       "    <tr>\n",
       "      <th>24</th>\n",
       "      <td>A Modest Proposal\\r</td>\n",
       "      <td>Jonathan Swift</td>\n",
       "    </tr>\n",
       "  </tbody>\n",
       "</table>\n",
       "</div>"
      ],
      "text/plain": [
       "                                                Books  \\\n",
       "0             Frankenstein; Or, The Modern Prometheus   \n",
       "1                            Moby Dick; Or, The Whale   \n",
       "2                                 Pride and Prejudice   \n",
       "3                                    Romeo and Juliet   \n",
       "4                                         Middlemarch   \n",
       "5                                  A Room with a View   \n",
       "6            Little Women; Or, Meg, Jo, Beth, and Amy   \n",
       "7           The Complete Works of William Shakespeare   \n",
       "8                            The Blue Castle: a novel   \n",
       "9                                 The Enchanted April   \n",
       "10  The Adventures of Ferdinand Count Fathom — Com...   \n",
       "11                                           Cranford   \n",
       "12                  The Expedition of Humphry Clinker   \n",
       "13                  The Adventures of Roderick Random   \n",
       "14                  History of Tom Jones, a Foundling   \n",
       "15                                 Twenty years after   \n",
       "16                                 My Life — Volume 1   \n",
       "17                   Alice's Adventures in Wonderland   \n",
       "18                                   The Great Gatsby   \n",
       "19                         The Picture of Dorian Gray   \n",
       "20                            A Doll's House : a play   \n",
       "21                               The Yellow Wallpaper   \n",
       "22  The Importance of Being Earnest: A Trivial Com...   \n",
       "23                                      Metamorphosis   \n",
       "24                                A Modest Proposal\\r   \n",
       "\n",
       "                               Authors  \n",
       "0          Mary Wollstonecraft Shelley  \n",
       "1                      Herman Melville  \n",
       "2                          Jane Austen  \n",
       "3                  William Shakespeare  \n",
       "4                         George Eliot  \n",
       "5                        E. M. Forster  \n",
       "6                    Louisa May Alcott  \n",
       "7                  William Shakespeare  \n",
       "8                     L. M. Montgomery  \n",
       "9                  Elizabeth Von Arnim  \n",
       "10                         T. Smollett  \n",
       "11          Elizabeth Cleghorn Gaskell  \n",
       "12                         T. Smollett  \n",
       "13                         T. Smollett  \n",
       "14                      Henry Fielding  \n",
       "15  Alexandre Dumas and Auguste Maquet  \n",
       "16                      Richard Wagner  \n",
       "17                       Lewis Carroll  \n",
       "18                 F. Scott Fitzgerald  \n",
       "19                         Oscar Wilde  \n",
       "20                        Henrik Ibsen  \n",
       "21            Charlotte Perkins Gilman  \n",
       "22                         Oscar Wilde  \n",
       "23                         Franz Kafka  \n",
       "24                      Jonathan Swift  "
      ]
     },
     "execution_count": 58,
     "metadata": {},
     "output_type": "execute_result"
    }
   ],
   "source": [
    "df=pd.DataFrame({\"Books\": books, \"Authors\": authors})\n",
    "df"
   ]
  },
  {
   "cell_type": "markdown",
   "metadata": {},
   "source": [
    "# <b> using requests package"
   ]
  },
  {
   "cell_type": "code",
   "execution_count": 70,
   "metadata": {
    "ExecuteTime": {
     "end_time": "2022-11-21T10:24:01.134137Z",
     "start_time": "2022-11-21T10:24:00.285049Z"
    },
    "id": "wY1bee2oaAbi",
    "outputId": "c0d28c71-973c-43d4-e325-95eb14468348"
   },
   "outputs": [],
   "source": [
    "# 3. download html with a get request \n",
    "response = requests.get(url)"
   ]
  },
  {
   "cell_type": "code",
   "execution_count": 71,
   "metadata": {
    "ExecuteTime": {
     "end_time": "2022-11-21T10:24:01.146189Z",
     "start_time": "2022-11-21T10:24:01.138235Z"
    }
   },
   "outputs": [
    {
     "data": {
      "text/plain": [
       "200"
      ]
     },
     "execution_count": 71,
     "metadata": {},
     "output_type": "execute_result"
    }
   ],
   "source": [
    "response.status_code # 200 status code means OK!"
   ]
  },
  {
   "cell_type": "markdown",
   "metadata": {},
   "source": [
    "### HTTP Response status codes \n",
    "https://developer.mozilla.org/en-US/docs/Web/HTTP/Status"
   ]
  },
  {
   "cell_type": "code",
   "execution_count": null,
   "metadata": {
    "ExecuteTime": {
     "end_time": "2022-11-21T10:24:01.674367Z",
     "start_time": "2022-11-21T10:24:01.162318Z"
    },
    "id": "N4muU72MaAbj",
    "outputId": "fd2d1078-7507-41ac-b3cd-2d872f2053bc",
    "scrolled": true
   },
   "outputs": [],
   "source": [
    "# 4.1. parse html (create the 'soup')\n",
    "soup = BeautifulSoup(response.content, \"html.parser\")\n",
    "# 4.2. check that the html code looks like it should\n",
    "soup"
   ]
  },
  {
   "cell_type": "markdown",
   "metadata": {
    "id": "kXxPimjraAbk"
   },
   "source": [
    "#### Building the dataframe"
   ]
  },
  {
   "cell_type": "code",
   "execution_count": null,
   "metadata": {},
   "outputs": [],
   "source": [
    "#your code here"
   ]
  },
  {
   "cell_type": "markdown",
   "metadata": {
    "id": "nQcALDRsaAbl"
   },
   "source": [
    "### Cleaning the data"
   ]
  },
  {
   "cell_type": "code",
   "execution_count": null,
   "metadata": {
    "ExecuteTime": {
     "end_time": "2022-11-21T10:24:26.496041Z",
     "start_time": "2022-11-21T10:24:26.489637Z"
    },
    "id": "V3hwm4jRaAbm"
   },
   "outputs": [],
   "source": [
    "# your code here"
   ]
  }
 ],
 "metadata": {
  "colab": {
   "name": "Web Scraping Code Along.ipynb",
   "provenance": [],
   "toc_visible": true
  },
  "kernelspec": {
   "display_name": "Python 3 (ipykernel)",
   "language": "python",
   "name": "python3"
  },
  "language_info": {
   "codemirror_mode": {
    "name": "ipython",
    "version": 3
   },
   "file_extension": ".py",
   "mimetype": "text/x-python",
   "name": "python",
   "nbconvert_exporter": "python",
   "pygments_lexer": "ipython3",
   "version": "3.11.5"
  },
  "toc": {
   "base_numbering": 1,
   "nav_menu": {},
   "number_sections": true,
   "sideBar": true,
   "skip_h1_title": false,
   "title_cell": "Table of Contents",
   "title_sidebar": "Contents",
   "toc_cell": false,
   "toc_position": {},
   "toc_section_display": true,
   "toc_window_display": false
  },
  "varInspector": {
   "cols": {
    "lenName": 16,
    "lenType": 16,
    "lenVar": 40
   },
   "kernels_config": {
    "python": {
     "delete_cmd_postfix": "",
     "delete_cmd_prefix": "del ",
     "library": "var_list.py",
     "varRefreshCmd": "print(var_dic_list())"
    },
    "r": {
     "delete_cmd_postfix": ") ",
     "delete_cmd_prefix": "rm(",
     "library": "var_list.r",
     "varRefreshCmd": "cat(var_dic_list()) "
    }
   },
   "types_to_exclude": [
    "module",
    "function",
    "builtin_function_or_method",
    "instance",
    "_Feature"
   ],
   "window_display": false
  }
 },
 "nbformat": 4,
 "nbformat_minor": 1
}
