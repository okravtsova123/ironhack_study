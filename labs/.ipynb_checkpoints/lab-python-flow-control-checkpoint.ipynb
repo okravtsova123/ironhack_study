{
 "cells": [
  {
   "cell_type": "markdown",
   "id": "d3bfc191-8885-42ee-b0a0-bbab867c6f9f",
   "metadata": {
    "tags": []
   },
   "source": [
    "# Lab | Flow Control"
   ]
  },
  {
   "cell_type": "markdown",
   "id": "3851fcd1-cf98-4653-9c89-e003b7ec9400",
   "metadata": {},
   "source": [
    "## Exercise: Managing Customer Orders Optimized\n",
    "\n",
    "In the last lab, you were starting an online store that sells various products. To ensure smooth operations, you developed a program that manages customer orders and inventory.\n",
    "\n",
    "You did so without using flow control. Let's go a step further and improve this code.\n",
    "\n",
    "Follow the steps below to complete the exercise:\n",
    "\n",
    "1. Look at your code from the lab data structures, and improve repeated code with loops.\n",
    "\n",
    "2. Instead of asking the user to input the name of three products that a customer wants to order, do the following:\n",
    "    \n",
    "    a. Prompt the user to enter the name of a product that a customer wants to order.\n",
    "    \n",
    "    b. Add the product name to the \"customer_orders\" set.\n",
    "    \n",
    "    c. Ask the user if they want to add another product (yes/no).\n",
    "    \n",
    "    d. Continue the loop until the user does not want to add another product.\n",
    "\n",
    "3. Instead of updating the inventory by subtracting 1 from the quantity of each product, only do it for  the products that were ordered (those in \"customer_orders\")."
   ]
  },
  {
   "cell_type": "code",
   "execution_count": 27,
   "id": "18bd13a2",
   "metadata": {},
   "outputs": [
    {
     "name": "stdout",
     "output_type": "stream",
     "text": [
      "how many of t-shirt available? Input the number:1\n",
      "how many of mug available? Input the number:1\n",
      "how many of hat available? Input the number:1\n",
      "how many of book available? Input the number:1\n",
      "how many of keychain available? Input the number:1\n",
      "{'t-shirt': 1, 'mug': 1, 'hat': 1, 'book': 1, 'keychain': 1}\n",
      "What product out of ['t-shirt', 'mug', 'hat', 'book', 'keychain'] do you want to buy? Write down 3 options separated by comma:book\n",
      "What product out of ['t-shirt', 'mug', 'hat', 'book', 'keychain'] do you want to buy? Write down 3 options separated by comma:hat\n",
      "What product out of ['t-shirt', 'mug', 'hat', 'book', 'keychain'] do you want to buy? Write down 3 options separated by comma:keychain\n",
      "What product out of ['t-shirt', 'mug', 'hat', 'book', 'keychain'] do you want to buy? Write down 3 options separated by comma:t-shirt, mug, hat\n",
      "{'hat', 't-shirt', 'mug'}\n",
      "(3, 60.0)\n",
      "Order Statistics:\n",
      "Total products Ordered: 3\n",
      "Percentage of Products Ordered 60.0\n",
      "0\n",
      "0\n",
      "0\n",
      "0\n",
      "0\n"
     ]
    }
   ],
   "source": [
    "#1 \n",
    "\n",
    "products=[\"t-shirt\", \"mug\", \"hat\", \"book\", \"keychain\"]\n",
    "\n",
    "inventory={}\n",
    "\n",
    "for product in products:\n",
    "    wanted_prod=int(input(f'how many of {product} available? Input the number:'))\n",
    "    inventory[product]=wanted_prod\n",
    "    \n",
    "print(inventory)\n",
    "\n",
    "customer_orders=set()\n",
    "\n",
    "i=0\n",
    "while i<1:\n",
    "    choice=input(f\"What product out of {products} do you want to buy? Write down 3 options separated by comma:\")\n",
    "    choice_list=choice.replace(\" \",\"\").split(\",\")\n",
    "    for product_user in choice_list:\n",
    "        if len(choice_list)==3 and product_user in products:\n",
    "            i=1\n",
    "        \n",
    "for products_user in choice_list:\n",
    "    customer_orders.add(products_user)\n",
    "    \n",
    "print(customer_orders)\n",
    "\n",
    "total_av_prod=sum(inventory.values())\n",
    "perc=round(len(customer_orders)*100/total_av_prod,2)\n",
    "\n",
    "order_status=(len(customer_orders),perc)\n",
    "print(order_status)\n",
    "\n",
    "print(\"Order Statistics:\")\n",
    "print(\"Total products Ordered:\", len(customer_orders))\n",
    "print(\"Percentage of Products Ordered\", perc)\n",
    "\n",
    "for key, value in inventory.items():\n",
    "    inventory[key]-=1\n",
    "    \n",
    "for key,value in inventory.items():\n",
    "    print(value)"
   ]
  },
  {
   "cell_type": "code",
   "execution_count": 20,
   "id": "13512ea4",
   "metadata": {},
   "outputs": [
    {
     "name": "stdout",
     "output_type": "stream",
     "text": [
      "what product does the customer want? insert 1 item:5\n",
      "do you want to add products? Write yes or no:5\n"
     ]
    }
   ],
   "source": [
    "customer_orders=set()\n",
    "#2 a\n",
    "\n",
    "wanted_prod=input('what product does the customer want? insert 1 item:')\n",
    "\n",
    " #2 b\n",
    "\n",
    "customer_orders.add(wanted_prod)\n",
    "\n",
    " #2 c\n",
    "i=0\n",
    "while i<1:\n",
    "    choice=input('do you want to add products? Write yes or no:')\n",
    "    if choice=='yes':\n",
    "        wanted_prod=input('what other product does the customer want? insert 1 item:')\n",
    "        customer_orders.add(wanted_prod)\n",
    "    else:\n",
    "        i=1\n"
   ]
  },
  {
   "cell_type": "code",
   "execution_count": 28,
   "id": "11fe237a",
   "metadata": {},
   "outputs": [
    {
     "name": "stdout",
     "output_type": "stream",
     "text": [
      "{'hat', 't-shirt', 'mug'}\n"
     ]
    }
   ],
   "source": [
    "print(customer_orders)"
   ]
  },
  {
   "cell_type": "code",
   "execution_count": 29,
   "id": "adad803a",
   "metadata": {},
   "outputs": [],
   "source": [
    "#3 Instead of updating the inventory by subtracting 1 from the quantity of each product, \n",
    "#only do it for the products that were ordered (those in \"customer_orders\").\n",
    "\n",
    "for product in customer_orders:\n",
    "    inventory[product]-=1"
   ]
  },
  {
   "cell_type": "code",
   "execution_count": 31,
   "id": "7e1dadec",
   "metadata": {
    "scrolled": false
   },
   "outputs": [
    {
     "name": "stdout",
     "output_type": "stream",
     "text": [
      "t-shirt : -1\n",
      "mug : -1\n",
      "hat : -1\n",
      "book : 0\n",
      "keychain : 0\n"
     ]
    }
   ],
   "source": [
    "for key,value in inventory.items():\n",
    "    print(key,':',value)"
   ]
  },
  {
   "cell_type": "markdown",
   "id": "fa70c383",
   "metadata": {},
   "source": []
  }
 ],
 "metadata": {
  "kernelspec": {
   "display_name": "Python 3 (ipykernel)",
   "language": "python",
   "name": "python3"
  },
  "language_info": {
   "codemirror_mode": {
    "name": "ipython",
    "version": 3
   },
   "file_extension": ".py",
   "mimetype": "text/x-python",
   "name": "python",
   "nbconvert_exporter": "python",
   "pygments_lexer": "ipython3",
   "version": "3.11.5"
  }
 },
 "nbformat": 4,
 "nbformat_minor": 5
}
