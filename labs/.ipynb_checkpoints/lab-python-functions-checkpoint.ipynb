{
 "cells": [
  {
   "cell_type": "markdown",
   "id": "25d7736c-ba17-4aff-b6bb-66eba20fbf4e",
   "metadata": {},
   "source": [
    "# Lab | Functions"
   ]
  },
  {
   "cell_type": "raw",
   "id": "58288c36",
   "metadata": {
    "tags": []
   },
   "source": [
    "## Exercise: Managing Customer Orders with Functions\n",
    "\n",
    "In the previous exercise, you improved the code for managing customer orders by using loops and flow control. Now, let's take it a step further and refactor the code by introducing functions.\n",
    "\n",
    "Follow the steps below to complete the exercise:\n",
    "\n",
    "1. Define a function named `initialize_inventory` that takes `products` as a parameter. Inside the function, implement the code for initializing the inventory dictionary using a loop and user input.\n",
    "\n",
    "2. Define a function named `get_customer_orders` that takes no parameters. Inside the function, implement the code for prompting the user to enter the product names using a loop. The function should return the `customer_orders` set.\n",
    "\n",
    "3. Define a function named `update_inventory` that takes `customer_orders` and `inventory` as parameters. Inside the function, implement the code for updating the inventory dictionary based on the customer orders.\n",
    "\n",
    "4. Define a function named `calculate_order_statistics` that takes `customer_orders` and `products` as parameters. Inside the function, implement the code for calculating the order statistics (total products ordered, and percentage of unique products ordered). The function should return these values.\n",
    "\n",
    "5. Define a function named `print_order_statistics` that takes `order_statistics` as a parameter. Inside the function, implement the code for printing the order statistics.\n",
    "\n",
    "6. Define a function named `print_updated_inventory` that takes `inventory` as a parameter. Inside the function, implement the code for printing the updated inventory.\n",
    "\n",
    "7. Call the functions in the appropriate sequence to execute the program and manage customer orders.\n",
    "\n",
    "Hints for functions:\n",
    "\n",
    "- Consider the input parameters required for each function and their return values.\n",
    "- Utilize function parameters and return values to transfer data between functions.\n",
    "- Test your functions individually to ensure they work correctly.\n",
    "\n",
    "\n"
   ]
  },
  {
   "cell_type": "code",
   "execution_count": 10,
   "id": "f50b451b",
   "metadata": {},
   "outputs": [
    {
     "name": "stdout",
     "output_type": "stream",
     "text": [
      "how many of t-shirt available? Input the number:5\n",
      "how many of mug available? Input the number:5\n",
      "how many of hat available? Input the number:5\n",
      "how many of book available? Input the number:5\n",
      "how many of keychain available? Input the number:5\n"
     ]
    }
   ],
   "source": [
    "# 1\n",
    "products=[\"t-shirt\", \"mug\", \"hat\", \"book\", \"keychain\"]\n",
    "def initialize_inventory(products):\n",
    "    inventory={}\n",
    "    products=[\"t-shirt\", \"mug\", \"hat\", \"book\", \"keychain\"]\n",
    "    inventory={} \n",
    "        \n",
    "    for product in products:\n",
    "        \n",
    "        available_qty=(int(input(f'how many of {product} available? Input the number:')))\n",
    "        \n",
    "        inventory[product]= available_qty\n",
    "    \n",
    "    return inventory\n",
    "    \n",
    "inventory=initialize_inventory(products)   "
   ]
  },
  {
   "cell_type": "code",
   "execution_count": 12,
   "id": "7fe821dc",
   "metadata": {},
   "outputs": [
    {
     "name": "stdout",
     "output_type": "stream",
     "text": [
      "What product out of ['t-shirt', 'mug', 'hat', 'book', 'keychain'] do you want to buy? Write down 3 options separated by comma:mug\n"
     ]
    }
   ],
   "source": [
    "# 2\n",
    "\n",
    "def get_customer_orders():\n",
    "    customer_orders=set()\n",
    "    i=0\n",
    "    while i<1:\n",
    "        choice=input(f\"What product out of {products} do you want to buy? Write down 3 options separated by comma:\")\n",
    "        choice_list=choice.replace(\" \",\"\").split(\",\")\n",
    "        for product in choice_list:\n",
    "            if product in products:\n",
    "                i=1\n",
    "                customer_orders.add(product)\n",
    "    return customer_orders\n",
    "\n",
    "customer_orders=get_customer_orders()"
   ]
  },
  {
   "cell_type": "code",
   "execution_count": 13,
   "id": "1f3e2272",
   "metadata": {},
   "outputs": [
    {
     "data": {
      "text/plain": [
       "{'t-shirt': 5, 'mug': 4, 'hat': 5, 'book': 5, 'keychain': 5}"
      ]
     },
     "execution_count": 13,
     "metadata": {},
     "output_type": "execute_result"
    }
   ],
   "source": [
    "#3\n",
    "\n",
    "def update_inventory(customer_orders, inventory):\n",
    "    for product in customer_orders:\n",
    "        inventory[product]-=1\n",
    "    return inventory\n",
    "\n",
    "update_inventory(customer_orders, inventory)"
   ]
  },
  {
   "cell_type": "code",
   "execution_count": 9,
   "id": "e2a7aa24",
   "metadata": {},
   "outputs": [
    {
     "data": {
      "text/plain": [
       "{}"
      ]
     },
     "execution_count": 9,
     "metadata": {},
     "output_type": "execute_result"
    }
   ],
   "source": []
  },
  {
   "cell_type": "code",
   "execution_count": 14,
   "id": "d31a1f7b",
   "metadata": {},
   "outputs": [],
   "source": [
    "#4\n",
    "\n",
    "def calculate_order_statistics(customer_orders,products):\n",
    "    total_av_prod=sum(inventory.values())\n",
    "    perc=round(len(customer_orders)*100/total_av_prod,2)\n",
    "    order_statistics=[]\n",
    "    order_statistics.append(total_av_prod)\n",
    "    order_statistics.append(perc)\n",
    "    return order_statistics\n",
    "\n",
    "order_statistics=calculate_order_statistics(customer_orders,products)"
   ]
  },
  {
   "cell_type": "code",
   "execution_count": 15,
   "id": "b5f8834f",
   "metadata": {},
   "outputs": [
    {
     "name": "stdout",
     "output_type": "stream",
     "text": [
      "Order Statistics:\n",
      "Total products Ordered: 1\n",
      "Percentage of Products Ordered: 4.17\n"
     ]
    }
   ],
   "source": [
    "#5 - QUESTION! Why if I add order statistics to the argment it doesnt work?\n",
    "\n",
    "def print_order_statistics(order_statistics):\n",
    "    \n",
    "    print(\"Order Statistics:\")\n",
    "    print(\"Total products Ordered:\", len(customer_orders))\n",
    "    print(\"Percentage of Products Ordered:\", round(len(customer_orders)*100/sum(inventory.values()),2))\n",
    "    \n",
    "print_order_statistics(order_statistics)"
   ]
  },
  {
   "cell_type": "code",
   "execution_count": 16,
   "id": "b4443c9e",
   "metadata": {},
   "outputs": [
    {
     "name": "stdout",
     "output_type": "stream",
     "text": [
      "{'t-shirt': 5, 'mug': 4, 'hat': 5, 'book': 5, 'keychain': 5}\n"
     ]
    }
   ],
   "source": [
    "#6 If i print function updated_inventroy - it updates it every time ou print\n",
    "\n",
    "def print_updated_inventory(inventory):\n",
    "    print(\"Updated inventory:\")\n",
    "    for product in products:\n",
    "        print(f\"{product}:\",inventory[product])"
   ]
  },
  {
   "cell_type": "code",
   "execution_count": null,
   "id": "08f04bb8",
   "metadata": {},
   "outputs": [],
   "source": [
    "#7\n",
    "initialize_inventory(products)\n",
    "\n",
    "get_customer_orders()\n",
    "\n",
    "update_inventory(customer_orders, inventory)\n",
    "\n",
    "calculate_order_statistics(customer_orders,products)\n",
    "\n",
    "print_order_statistics(order_statistics)\n",
    "\n",
    "print_updated_inventory(inventory)"
   ]
  },
  {
   "cell_type": "code",
   "execution_count": null,
   "id": "3ac41dc9",
   "metadata": {
    "scrolled": true
   },
   "outputs": [],
   "source": []
  },
  {
   "cell_type": "code",
   "execution_count": null,
   "id": "3887bf22",
   "metadata": {},
   "outputs": [],
   "source": []
  }
 ],
 "metadata": {
  "kernelspec": {
   "display_name": "Python 3 (ipykernel)",
   "language": "python",
   "name": "python3"
  },
  "language_info": {
   "codemirror_mode": {
    "name": "ipython",
    "version": 3
   },
   "file_extension": ".py",
   "mimetype": "text/x-python",
   "name": "python",
   "nbconvert_exporter": "python",
   "pygments_lexer": "ipython3",
   "version": "3.11.5"
  }
 },
 "nbformat": 4,
 "nbformat_minor": 5
}
