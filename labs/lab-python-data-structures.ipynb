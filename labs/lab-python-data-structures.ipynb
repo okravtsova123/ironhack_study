{
 "cells": [
  {
   "cell_type": "markdown",
   "metadata": {
    "tags": []
   },
   "source": [
    "# Lab | Data Structures "
   ]
  },
  {
   "cell_type": "markdown",
   "metadata": {},
   "source": []
  },
  {
   "cell_type": "markdown",
   "metadata": {},
   "source": [
    "## Exercise: Managing Customer Orders\n",
    "\n",
    "As part of a business venture, you are starting an online store that sells various products. To ensure smooth operations, you need to develop a program that manages customer orders and inventory.\n",
    "\n",
    "Follow the steps below to complete the exercise:\n",
    "\n",
    "1. Define a list called `products` that contains the following items: \"t-shirt\", \"mug\", \"hat\", \"book\", \"keychain\".\n",
    "\n",
    "2. Create an empty dictionary called `inventory`.\n",
    "\n",
    "3. Ask the user to input the quantity of each product available in the inventory. Use the product names from the `products` list as keys in the `inventory` dictionary and assign the respective quantities as values.\n",
    "\n",
    "4. Create an empty set called `customer_orders`.\n",
    "\n",
    "5. Ask the user to input the name of three products that a customer wants to order (from those in the products list, meaning three products out of \"t-shirt\", \"mug\", \"hat\", \"book\" or \"keychain\". Add each product name to the `customer_orders` set.\n",
    "\n",
    "6. Print the products in the `customer_orders` set.\n",
    "\n",
    "7. Calculate the following order statistics:\n",
    "   - Total Products Ordered: The total number of products in the `customer_orders` set.\n",
    "   - Percentage of Products Ordered: The percentage of products ordered compared to the total available products.\n",
    "   \n",
    "   Store these statistics in a tuple called `order_status`.\n",
    "\n",
    "8. Print the order statistics using the following format:\n",
    "   ```\n",
    "   Order Statistics:\n",
    "   Total Products Ordered: <total_products_ordered>\n",
    "   Percentage of Products Ordered: <percentage_ordered>% \n",
    "   ```\n",
    "\n",
    "9. Update the inventory by subtracting 1 from the quantity of each product. Modify the `inventory` dictionary accordingly.\n",
    "\n",
    "10. Print the updated inventory, displaying the quantity of each product on separate lines.\n",
    "\n",
    "Solve the exercise by implementing the steps using the Python concepts of lists, dictionaries, sets, and basic input/output operations. "
   ]
  },
  {
   "cell_type": "code",
   "execution_count": 53,
   "metadata": {},
   "outputs": [],
   "source": [
    "#1\n",
    "products=[\"t-shirt\", \"mug\", \"hat\", \"book\", \"keychain\"]"
   ]
  },
  {
   "cell_type": "code",
   "execution_count": 54,
   "metadata": {},
   "outputs": [],
   "source": [
    "#2\n",
    "inventory={}"
   ]
  },
  {
   "cell_type": "code",
   "execution_count": 68,
   "metadata": {},
   "outputs": [
    {
     "name": "stdout",
     "output_type": "stream",
     "text": [
      "how many of t-shirt available? Input the number:1\n",
      "how many of mug available? Input the number:1\n",
      "how many of hat available? Input the number:1\n",
      "how many of book available? Input the number:1\n",
      "how many of keychain available? Input the number:1\n",
      "{'t-shirt': 1, 'mug': 1, 'hat': 1, 'book': 1, 'keychain': 1}\n"
     ]
    }
   ],
   "source": [
    "#### 3\n",
    "#tshirt_qty=input(\"input the q-ty of t-shirts:\")\n",
    "#mug_qty=input(\"input the q-ty of mugs:\")\n",
    "#hat_qty=input(\"input the q-ty of hats:\")\n",
    "#book_qty=input(\"input the q-ty of books:\")\n",
    "#keychain_qty=input(\"input the q-ty of keychains:\")\n",
    "\n",
    "#inventory[\"t-shirt\"]=tshirt_qty\n",
    "#inventory[\"mug\"]=mug_qty\n",
    "#inventory[\"hat\"]=hat_qty\n",
    "#inventory[\"book\"]=book_qty\n",
    "#inventory[\"keychain\"]=keychain_qty\n",
    "\n",
    "#print(inventory)\n",
    "\n",
    "for product in products:\n",
    "    wanted_prod=int(input(f'how many of {product} available? Input the number:'))\n",
    "    inventory[product]=wanted_prod\n",
    "    \n",
    "print(inventory)"
   ]
  },
  {
   "cell_type": "code",
   "execution_count": 67,
   "metadata": {},
   "outputs": [],
   "source": [
    "#4\n",
    "customer_orders=set()"
   ]
  },
  {
   "cell_type": "code",
   "execution_count": 57,
   "metadata": {},
   "outputs": [
    {
     "name": "stdout",
     "output_type": "stream",
     "text": [
      "What product out of ['t-shirt', 'mug', 'hat', 'book', 'keychain'] do you want to buy? Write down 3 options separated by comma:t-shirt, mug, hat\n"
     ]
    }
   ],
   "source": [
    "#5\n",
    "\n",
    "#choice1=input(f\"What product out of {products} do you want to buy? Choice 1:\")\n",
    "#i=0\n",
    "\n",
    "#while i!=1:\n",
    "    #if choice1 not in products:z\n",
    "    #    i=0\n",
    "    #    choice1=input(\"Wrong input, please, put correct data in for your choice 1:\")\n",
    "    #else: i=1\n",
    "#\n",
    "#choice2=input(f\"What product out of {products} do you want? Choice 2:\")\n",
    "#i=0\n",
    "#while i!=1:\n",
    "#    if choice2 not in products:\n",
    "#        i=0\n",
    "#        choice2=input(\"Wrong input, please, put correct data in for your choice 2:\")\n",
    "#    else: i=1\n",
    "#\n",
    "\n",
    "#choice3=input(f\"What product out of {products} do you want? Choice 3:\")\n",
    "#i=0\n",
    "#while i!=1:\n",
    "#    if choice3 not in products:\n",
    "#        i=0\n",
    "#        choice3=input(\"Wrong input, please, put correct data in for your choice 3:\")\n",
    "#    else: i=1\n",
    "#\n",
    "#customer_orders={choice1, choice2, choice3}\n",
    "\n",
    "#new one\n",
    "i=0\n",
    "while i<1:\n",
    "    choice=input(f\"What product out of {products} do you want to buy? Write down 3 options separated by comma:\")\n",
    "    choice_list=choice.replace(\" \",\"\").split(\",\")\n",
    "    for product_user in choice_list:\n",
    "        if len(choice_list)==3 and product_user in products:\n",
    "            i=1\n",
    "        \n",
    "for products_user in choice_list:\n",
    "    customer_orders.add(products_user) \n",
    "        \n",
    "    "
   ]
  },
  {
   "cell_type": "code",
   "execution_count": 59,
   "metadata": {},
   "outputs": [
    {
     "name": "stdout",
     "output_type": "stream",
     "text": [
      "{'hat', 'mug', 't-shirt'}\n"
     ]
    }
   ],
   "source": [
    "#6\n",
    "print(customer_orders)"
   ]
  },
  {
   "cell_type": "code",
   "execution_count": 60,
   "metadata": {},
   "outputs": [
    {
     "name": "stdout",
     "output_type": "stream",
     "text": [
      "(3, 30.0)\n"
     ]
    }
   ],
   "source": [
    "#calculating total available products\n",
    "\n",
    "#tshirt_qty=int(tshirt_qty)\n",
    "#mug_qty=int(mug_qty)\n",
    "#hat_qty=int(hat_qty)\n",
    "#book_qty=int(book_qty)\n",
    "#keychain_qty=int(keychain_qty)\n",
    "\n",
    "#total_av_prod=tshirt_qty+mug_qty+hat_qty+book_qty+keychain_qty\n",
    "#perc=round(len(customer_orders)*100/total_av_prod,2)\n",
    "\n",
    "#order_status=(len(customer_orders),perc) #ordered amount is calculated based on assupmtion he needs only 1piece of each product\n",
    "#print(order_status)\n",
    "\n",
    "#new one\n",
    "total_av_prod=sum(inventory.values())\n",
    "perc=round(len(customer_orders)*100/total_av_prod,2)\n",
    "\n",
    "order_status=(len(customer_orders),perc)\n",
    "print(order_status)\n",
    "\n",
    "    "
   ]
  },
  {
   "cell_type": "code",
   "execution_count": 61,
   "metadata": {},
   "outputs": [
    {
     "name": "stdout",
     "output_type": "stream",
     "text": [
      "Order Statistics:\n",
      "Total products Ordered: 3\n",
      "Percentage of Products Ordered 30.0\n"
     ]
    }
   ],
   "source": [
    "#8\n",
    "print(\"Order Statistics:\")\n",
    "print(\"Total products Ordered:\", len(customer_orders))\n",
    "print(\"Percentage of Products Ordered\", perc)"
   ]
  },
  {
   "cell_type": "code",
   "execution_count": 62,
   "metadata": {},
   "outputs": [],
   "source": [
    "#9\n",
    "  \n",
    "#inventory[\"t-shirt\"]=tshirt_qty-1\n",
    "#inventory[\"mug\"]=mug_qty-1\n",
    "#inventory[\"hat\"]=hat_qty-1\n",
    "#inventory[\"book\"]=book_qty-1\n",
    "#inventory[\"keychain\"]=keychain_qty-1\n",
    "\n",
    "#new one\n",
    "for key, value in inventory.items():\n",
    "    inventory[key]-=1"
   ]
  },
  {
   "cell_type": "code",
   "execution_count": 64,
   "metadata": {},
   "outputs": [
    {
     "name": "stdout",
     "output_type": "stream",
     "text": [
      "1\n",
      "1\n",
      "1\n",
      "1\n",
      "1\n"
     ]
    }
   ],
   "source": [
    "## 10\n",
    "#print(inventory[\"t-shirt\"])\n",
    "#print(inventory[\"mug\"])\n",
    "#print(inventory[\"hat\"])\n",
    "#print(inventory[\"book\"])\n",
    "#print(inventory[\"keychain\"])\n",
    "\n",
    "#new one\n",
    "for key,value in inventory.items():\n",
    "    print(value)"
   ]
  },
  {
   "cell_type": "code",
   "execution_count": null,
   "metadata": {},
   "outputs": [],
   "source": []
  }
 ],
 "metadata": {
  "kernelspec": {
   "display_name": "Python 3 (ipykernel)",
   "language": "python",
   "name": "python3"
  },
  "language_info": {
   "codemirror_mode": {
    "name": "ipython",
    "version": 3
   },
   "file_extension": ".py",
   "mimetype": "text/x-python",
   "name": "python",
   "nbconvert_exporter": "python",
   "pygments_lexer": "ipython3",
   "version": "3.11.5"
  }
 },
 "nbformat": 4,
 "nbformat_minor": 4
}
