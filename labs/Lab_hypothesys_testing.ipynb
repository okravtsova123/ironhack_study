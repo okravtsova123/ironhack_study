{
 "cells": [
  {
   "cell_type": "markdown",
   "id": "33a421a3",
   "metadata": {},
   "source": [
    "It is assumed that the mean systolic blood pressure is μ = 120 mm Hg. In the Honolulu Heart Study, a sample of n = 100 people had an average systolic blood pressure of 130.1 mm Hg with a standard deviation of 21.21 mm Hg. Is the group significantly different (with respect to systolic blood pressure!) from the regular population?\n",
    "\n",
    "Set up the hypothesis test.\n",
    "Write down all the steps followed for setting up the test.\n",
    "Calculate the test statistic by hand and also code it in Python. It should be 4.76190. What decision can you make based on this calculated value?"
   ]
  },
  {
   "cell_type": "markdown",
   "id": "e15b31b5",
   "metadata": {},
   "source": [
    "HYPOTHESYS\n",
    "\n",
    "H0: av blood pressure = 120\n",
    "H1: av blood pressure <> 120\n",
    "\n",
    "STEPS\n",
    "1. calculate z-score\n",
    "2. critical value corresponding to a 0.95 area of a normal distribution\n",
    "3. compare them\n",
    "\n",
    "Since the sample size is large (n > 30) and the population standard deviation (σ) is unknown, we will use the z-statistic"
   ]
  },
  {
   "cell_type": "code",
   "execution_count": 27,
   "id": "675c95fb",
   "metadata": {},
   "outputs": [],
   "source": [
    "import numpy as np\n",
    "import pandas as pd\n",
    "import scipy.stats as stats\n",
    "import matplotlib.pyplot as plt\n",
    "import seaborn as sns\n",
    "\n",
    "sample_mean = 130.1\n",
    "pop_mean = 120\n",
    "sample_std= 21.21\n",
    "m=100\n",
    "alpha=0.05\n"
   ]
  },
  {
   "cell_type": "code",
   "execution_count": 30,
   "id": "f5e1730b",
   "metadata": {},
   "outputs": [
    {
     "name": "stdout",
     "output_type": "stream",
     "text": [
      "4.761904761904759 6.562701817208617e-06 1.9842169515086827\n"
     ]
    }
   ],
   "source": [
    "t_statistic = (sample_mean - pop_mean) / (sample_std / (m ** 0.5))\n",
    "degrees_of_freedom = m - 1\n",
    "p_value = 2 * stats.t.sf(abs(t_statistic), df=degrees_of_freedom)\n",
    "critical_t_value = stats.t.ppf(1 - alpha / 2, df=degrees_of_freedom)\n",
    "print(t_statistic, p_value, critical_t_value)"
   ]
  },
  {
   "cell_type": "code",
   "execution_count": 21,
   "id": "71b135c0",
   "metadata": {},
   "outputs": [
    {
     "name": "stdout",
     "output_type": "stream",
     "text": [
      "AV Blood pressure is higher in Honolulu\n"
     ]
    }
   ],
   "source": [
    "if p_value > alpha:\n",
    "   print(\"AV Blood pressure is not higher in Honolulu\")\n",
    "else:\n",
    "   print(\"AV Blood pressure is higher in Honolulu\")"
   ]
  },
  {
   "cell_type": "code",
   "execution_count": null,
   "id": "cb94e48a",
   "metadata": {},
   "outputs": [],
   "source": []
  }
 ],
 "metadata": {
  "kernelspec": {
   "display_name": "Python 3 (ipykernel)",
   "language": "python",
   "name": "python3"
  },
  "language_info": {
   "codemirror_mode": {
    "name": "ipython",
    "version": 3
   },
   "file_extension": ".py",
   "mimetype": "text/x-python",
   "name": "python",
   "nbconvert_exporter": "python",
   "pygments_lexer": "ipython3",
   "version": "3.11.5"
  }
 },
 "nbformat": 4,
 "nbformat_minor": 5
}
