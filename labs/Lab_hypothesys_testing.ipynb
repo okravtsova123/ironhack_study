{
 "cells": [
  {
   "cell_type": "markdown",
   "id": "7fd8d6d5",
   "metadata": {},
   "source": [
    "It is assumed that the mean systolic blood pressure is μ = 120 mm Hg. In the Honolulu Heart Study, a sample of n = 100 people had an average systolic blood pressure of 130.1 mm Hg with a standard deviation of 21.21 mm Hg. Is the group significantly different (with respect to systolic blood pressure!) from the regular population?\n",
    "\n",
    "Set up the hypothesis test.\n",
    "Write down all the steps followed for setting up the test.\n",
    "Calculate the test statistic by hand and also code it in Python. It should be 4.76190. What decision can you make based on this calculated value?"
   ]
  },
  {
   "cell_type": "markdown",
   "id": "02765fdf",
   "metadata": {},
   "source": [
    "HYPOTHESYS\n",
    "\n",
    "H0: av blood pressure = 120\n",
    "H1: av blood pressure <> 120\n",
    "\n",
    "STEPS\n",
    "1. calculate z-score\n",
    "2. critical value corresponding to a 0.95 area of a normal distribution\n",
    "3. compare them\n",
    "\n",
    "Since the sample size is large (n > 30) and the population standard deviation (σ) is unknown, we will use the z-statistic"
   ]
  },
  {
   "cell_type": "code",
   "execution_count": 3,
   "id": "88389564",
   "metadata": {},
   "outputs": [],
   "source": [
    "import numpy as np\n",
    "import pandas as pd\n",
    "import scipy.stats as stats\n",
    "import matplotlib.pyplot as plt\n",
    "import seaborn as sns\n",
    "\n",
    "sample_mean = 130.1\n",
    "pop_mean = 120\n",
    "samp_std_dev = 21.21\n",
    "m=100\n",
    "\n",
    "#z=(x average - mu)/SE   SE=np.std(pop)/np.sqrt(samp_size)\n",
    "\n",
    "z=(sample_mean-pop_mean)/(samp_std_dev/np.sqrt(m))"
   ]
  },
  {
   "cell_type": "code",
   "execution_count": 13,
   "id": "4a07be88",
   "metadata": {},
   "outputs": [
    {
     "ename": "NameError",
     "evalue": "name 'spicy' is not defined",
     "output_type": "error",
     "traceback": [
      "\u001b[1;31m---------------------------------------------------------------------------\u001b[0m",
      "\u001b[1;31mNameError\u001b[0m                                 Traceback (most recent call last)",
      "Cell \u001b[1;32mIn[13], line 2\u001b[0m\n\u001b[0;32m      1\u001b[0m zc \u001b[38;5;241m=\u001b[39m stats\u001b[38;5;241m.\u001b[39mnorm\u001b[38;5;241m.\u001b[39mppf(\u001b[38;5;241m1\u001b[39m\u001b[38;5;241m-\u001b[39m\u001b[38;5;241m0.05\u001b[39m\u001b[38;5;241m/\u001b[39m\u001b[38;5;241m2\u001b[39m) \u001b[38;5;66;03m#as it's 2 tailed\u001b[39;00m\n\u001b[1;32m----> 2\u001b[0m t\u001b[38;5;241m=\u001b[39m\u001b[38;5;241m+\u001b[39m\u001b[38;5;241m-\u001b[39mspicy\u001b[38;5;241m.\u001b[39mstats\u001b[38;5;241m.\u001b[39mt\u001b[38;5;241m.\u001b[39mppf(\u001b[38;5;241m0.95\u001b[39m, df\u001b[38;5;241m=\u001b[39m\u001b[38;5;241m99\u001b[39m)\n",
      "\u001b[1;31mNameError\u001b[0m: name 'spicy' is not defined"
     ]
    }
   ],
   "source": [
    "zc = stats.norm.ppf(1-0.05/2) #as it's 2 tailed\n",
    "t=+-scipyy.stats.t.ppf(0.95, df=99)"
   ]
  },
  {
   "cell_type": "code",
   "execution_count": 12,
   "id": "91c189fe",
   "metadata": {},
   "outputs": [
    {
     "ename": "NameError",
     "evalue": "name 't' is not defined",
     "output_type": "error",
     "traceback": [
      "\u001b[1;31m---------------------------------------------------------------------------\u001b[0m",
      "\u001b[1;31mNameError\u001b[0m                                 Traceback (most recent call last)",
      "Cell \u001b[1;32mIn[12], line 1\u001b[0m\n\u001b[1;32m----> 1\u001b[0m \u001b[38;5;28mprint\u001b[39m(z,zc, t)\n",
      "\u001b[1;31mNameError\u001b[0m: name 't' is not defined"
     ]
    }
   ],
   "source": [
    "print(z,zc, t)"
   ]
  },
  {
   "cell_type": "code",
   "execution_count": 11,
   "id": "17d9e4f0",
   "metadata": {},
   "outputs": [
    {
     "name": "stdout",
     "output_type": "stream",
     "text": [
      "AV Blood pressure is higher in Honolulu\n"
     ]
    }
   ],
   "source": [
    "if np.abs(z) > zc:\n",
    "   print(\"AV Blood pressure is higher in Honolulu\")\n",
    "else:\n",
    "   print(\"AV Blood pressure is not higher in Honolulu\")"
   ]
  },
  {
   "cell_type": "code",
   "execution_count": null,
   "id": "88706d58",
   "metadata": {},
   "outputs": [],
   "source": []
  }
 ],
 "metadata": {
  "kernelspec": {
   "display_name": "Python 3 (ipykernel)",
   "language": "python",
   "name": "python3"
  },
  "language_info": {
   "codemirror_mode": {
    "name": "ipython",
    "version": 3
   },
   "file_extension": ".py",
   "mimetype": "text/x-python",
   "name": "python",
   "nbconvert_exporter": "python",
   "pygments_lexer": "ipython3",
   "version": "3.11.5"
  }
 },
 "nbformat": 4,
 "nbformat_minor": 5
}
