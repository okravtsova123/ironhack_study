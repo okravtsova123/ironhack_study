{
 "cells": [
  {
   "cell_type": "markdown",
   "id": "90a074e7",
   "metadata": {},
   "source": [
    "It is assumed that the mean systolic blood pressure is μ = 120 mm Hg. In the Honolulu Heart Study, a sample of n = 100 people had an average systolic blood pressure of 130.1 mm Hg with a standard deviation of 21.21 mm Hg. Is the group significantly different (with respect to systolic blood pressure!) from the regular population?\n",
    "\n",
    "Set up the hypothesis test.\n",
    "Write down all the steps followed for setting up the test.\n",
    "Calculate the test statistic by hand and also code it in Python. It should be 4.76190. What decision can you make based on this calculated value?"
   ]
  },
  {
   "cell_type": "markdown",
   "id": "99f575b0",
   "metadata": {},
   "source": [
    "HYPOTHESYS\n",
    "\n",
    "H0: av blood pressure = 120\n",
    "H1: av blood pressure <> 120\n",
    "\n",
    "STEPS\n",
    "1. calculate z-score\n",
    "2. critical value corresponding to a 0.95 area of a normal distribution\n",
    "3. compare them\n",
    "\n",
    "Since the sample size is large (n > 30) and the population standard deviation (σ) is unknown, we will use the z-statistic"
   ]
  },
  {
   "cell_type": "code",
   "execution_count": 3,
   "id": "a34091c3",
   "metadata": {},
   "outputs": [],
   "source": [
    "import numpy as np\n",
    "import pandas as pd\n",
    "import scipy.stats as stats\n",
    "import matplotlib.pyplot as plt\n",
    "import seaborn as sns\n",
    "\n",
    "sample_mean = 130.1\n",
    "pop_mean = 120\n",
    "samp_std_dev = 21.21\n",
    "m=100\n",
    "\n",
    "#z=(x average - mu)/SE   SE=np.std(pop)/np.sqrt(samp_size)\n",
    "\n",
    "z=(sample_mean-pop_mean)/(samp_std_dev/np.sqrt(m))"
   ]
  },
  {
   "cell_type": "code",
   "execution_count": 18,
   "id": "65b70955",
   "metadata": {},
   "outputs": [
    {
     "name": "stdout",
     "output_type": "stream",
     "text": [
      "0.020383994836880425\n"
     ]
    }
   ],
   "source": [
    "zc = stats.norm.ppf(1-0.05/2) #as it's 2 tailed\n",
    "t=+-stats.t.ppf(0.95, df=99)\n",
    "p_value = stats.t.sf(2.08, df=79)\n",
    "print(p_value)"
   ]
  },
  {
   "cell_type": "code",
   "execution_count": 17,
   "id": "4009ba95",
   "metadata": {},
   "outputs": [
    {
     "name": "stdout",
     "output_type": "stream",
     "text": [
      "4.761904761904759 1.959963984540054 -1.6603911559963895\n"
     ]
    }
   ],
   "source": [
    "print(z,zc, t)"
   ]
  },
  {
   "cell_type": "code",
   "execution_count": 11,
   "id": "dc62dfc4",
   "metadata": {},
   "outputs": [
    {
     "name": "stdout",
     "output_type": "stream",
     "text": [
      "AV Blood pressure is higher in Honolulu\n"
     ]
    }
   ],
   "source": [
    "if np.abs(z) > zc:\n",
    "   print(\"AV Blood pressure is higher in Honolulu\")\n",
    "else:\n",
    "   print(\"AV Blood pressure is not higher in Honolulu\")"
   ]
  },
  {
   "cell_type": "code",
   "execution_count": null,
   "id": "7c4c807c",
   "metadata": {},
   "outputs": [],
   "source": []
  }
 ],
 "metadata": {
  "kernelspec": {
   "display_name": "Python 3 (ipykernel)",
   "language": "python",
   "name": "python3"
  },
  "language_info": {
   "codemirror_mode": {
    "name": "ipython",
    "version": 3
   },
   "file_extension": ".py",
   "mimetype": "text/x-python",
   "name": "python",
   "nbconvert_exporter": "python",
   "pygments_lexer": "ipython3",
   "version": "3.11.5"
  }
 },
 "nbformat": 4,
 "nbformat_minor": 5
}
