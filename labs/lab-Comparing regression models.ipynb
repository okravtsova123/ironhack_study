{
 "cells": [
  {
   "cell_type": "markdown",
   "id": "5d71f3e8",
   "metadata": {},
   "source": [
    "## Copy of code for numerical data and regression from prev lab :)"
   ]
  },
  {
   "cell_type": "code",
   "execution_count": 158,
   "id": "4ecfc30d",
   "metadata": {},
   "outputs": [],
   "source": [
    "import pandas as pd\n",
    "import seaborn as sn\n",
    "from sklearn.preprocessing import MinMaxScaler\n",
    "from sklearn.preprocessing import StandardScaler\n",
    "from sklearn.preprocessing import PowerTransformer"
   ]
  },
  {
   "cell_type": "code",
   "execution_count": 159,
   "id": "67a1ffe3",
   "metadata": {},
   "outputs": [],
   "source": [
    "df=pd.read_csv('https://raw.githubusercontent.com/okravtsova123/ironhack_study/main/labs/python_lab_2901/marketing_customer_analysis_clean.csv')\n",
    "#separating numericals from the original dataset\n",
    "df_numerical=df.select_dtypes(include='number')\n",
    "df_numerical=df_numerical.drop(\"unnamed:_0\", axis=1)\n",
    "df_numerical\n",
    "X=df_numerical[[\"customer_lifetime_value\",\"income\",\"monthly_premium_auto\",\"months_since_last_claim\",\"months_since_policy_inception\",\"number_of_open_complaints\", \"number_of_policies\", \"month\"]]\n",
    "y=df_numerical[[\"total_claim_amount\"]]\n",
    "from sklearn.model_selection import train_test_split\n",
    "X_train, X_test, y_train, y_test=train_test_split(X,y, random_state=42)\n",
    "\n",
    "from sklearn.preprocessing import MinMaxScaler\n",
    "from sklearn.preprocessing import StandardScaler\n",
    "from sklearn.preprocessing import PowerTransformer\n",
    "\n",
    "pt=PowerTransformer()\n",
    "pt.fit(X_train)\n",
    "\n",
    "X_train=pd.DataFrame(pt.transform(X_train))\n",
    "\n",
    "df_numerical.columns\n",
    "\n",
    "X_train=X_train.rename(columns={0:\"customer_lifetime_value\", 1:\"income\",2:\"monthly_premium_auto\", 3:\"months_since_last_claim\", 4:\"months_since_policy_inception\", 5:\"number_of_open_complaints\", 6:\"number_of_policies\", 7:\"total_claim_amount\", 8:\"month\"})\n",
    "\n",
    "X_test=pd.DataFrame(pt.transform(X_test))\n",
    "\n",
    "X_test=X_test.rename(columns={0:\"customer_lifetime_value\", 1:\"income\",2:\"monthly_premium_auto\", 3:\"months_since_last_claim\", 4:\"months_since_policy_inception\", 5:\"number_of_open_complaints\", 6:\"number_of_policies\", 7:\"total_claim_amount\", 8:\"month\"})\n",
    "\n",
    "from sklearn.linear_model import LinearRegression\n",
    "from sklearn.linear_model import LinearRegression\n",
    "lr=LinearRegression()\n",
    "model=lr.fit(X_train,y_train)\n",
    "\n",
    "y_pred=pd.DataFrame(model.predict(X_test))\n",
    "y_test=y_test.reset_index(drop=True)\n",
    "from sklearn.metrics import mean_squared_error as mse, mean_absolute_error as mae\n",
    "MSE=mse(y_test, y_pred)\n",
    "MAE=mae(y_test, y_pred)\n",
    "RMSE=mse(y_test, y_pred, squared=False)"
   ]
  },
  {
   "cell_type": "markdown",
   "id": "efb5157d",
   "metadata": {},
   "source": [
    "## Calculating R2_score for the model based only on numericals"
   ]
  },
  {
   "cell_type": "code",
   "execution_count": 160,
   "id": "86540103",
   "metadata": {},
   "outputs": [],
   "source": [
    "from sklearn.metrics import r2_score"
   ]
  },
  {
   "cell_type": "code",
   "execution_count": 161,
   "id": "5541cc8c",
   "metadata": {},
   "outputs": [
    {
     "data": {
      "text/plain": [
       "0.4496112658742951"
      ]
     },
     "execution_count": 161,
     "metadata": {},
     "output_type": "execute_result"
    }
   ],
   "source": [
    "#calculating r2_score for test set\n",
    "r2_score(y_test,y_pred)"
   ]
  },
  {
   "cell_type": "code",
   "execution_count": 162,
   "id": "cdcbb422",
   "metadata": {},
   "outputs": [
    {
     "data": {
      "text/plain": [
       "0.42061844452491715"
      ]
     },
     "execution_count": 162,
     "metadata": {},
     "output_type": "execute_result"
    }
   ],
   "source": [
    "#calculating r2_score for train set\n",
    "y_train_pred=pd.DataFrame(lr.predict(X_train))\n",
    "r2_score(y_train,y_train_pred)"
   ]
  },
  {
   "cell_type": "markdown",
   "id": "66ad16e0",
   "metadata": {},
   "source": [
    "## CREATING MODEL FOR ALL VARIABLES"
   ]
  },
  {
   "cell_type": "markdown",
   "id": "72138fcb",
   "metadata": {},
   "source": [
    "## Combining numericals and categoricals"
   ]
  },
  {
   "cell_type": "markdown",
   "id": "3826bd21",
   "metadata": {},
   "source": [
    "### old code from prev lab to get all encoded"
   ]
  },
  {
   "cell_type": "code",
   "execution_count": 163,
   "id": "a01e21a8",
   "metadata": {},
   "outputs": [
    {
     "name": "stderr",
     "output_type": "stream",
     "text": [
      "C:\\Users\\user\\AppData\\Local\\Temp\\ipykernel_15460\\729644646.py:15: SettingWithCopyWarning: \n",
      "A value is trying to be set on a copy of a slice from a DataFrame.\n",
      "Try using .loc[row_indexer,col_indexer] = value instead\n",
      "\n",
      "See the caveats in the documentation: https://pandas.pydata.org/pandas-docs/stable/user_guide/indexing.html#returning-a-view-versus-a-copy\n",
      "  df_category_ordinals['education']=df_category_ordinals['education'].map({\"High School or Below\": 1, \"College\": 2, \"Bachelor\": 3, \"Master\": 4, \"Doctor\": 5})\n",
      "C:\\Users\\user\\AppData\\Local\\Temp\\ipykernel_15460\\729644646.py:18: SettingWithCopyWarning: \n",
      "A value is trying to be set on a copy of a slice from a DataFrame.\n",
      "Try using .loc[row_indexer,col_indexer] = value instead\n",
      "\n",
      "See the caveats in the documentation: https://pandas.pydata.org/pandas-docs/stable/user_guide/indexing.html#returning-a-view-versus-a-copy\n",
      "  df_category_ordinals['vehicle_size']=df_category_ordinals['vehicle_size'].map({'Small': 1, 'Medsize': 2, 'Large': 3})\n",
      "C:\\Users\\user\\AppData\\Local\\Temp\\ipykernel_15460\\729644646.py:21: SettingWithCopyWarning: \n",
      "A value is trying to be set on a copy of a slice from a DataFrame.\n",
      "Try using .loc[row_indexer,col_indexer] = value instead\n",
      "\n",
      "See the caveats in the documentation: https://pandas.pydata.org/pandas-docs/stable/user_guide/indexing.html#returning-a-view-versus-a-copy\n",
      "  df_category_ordinals['coverage']=df_category_ordinals['coverage'].map({'Basic': 1, 'Extended': 2, 'Premium': 3})\n"
     ]
    }
   ],
   "source": [
    "#getting the object columns into categorical df to devide them into the nominals and ordinals\n",
    "df_category=df.select_dtypes(include='object')\n",
    "\n",
    "#deviding df_category; separating nominals\n",
    "df_category_nominals=df_category[['state','response', 'employmentstatus','gender', 'location_code', 'marital_status', 'policy', 'renew_offer_type', 'sales_channel',\"vehicle_class\", \"vehicle_type\"]]\n",
    "\n",
    "#transforming nominals for ML\n",
    "df_category_nominals=pd.get_dummies(df_category_nominals, dtype=int)\n",
    "\n",
    "#deviding df_category; separating ordinals\n",
    "df_category_ordinals=df_category[['coverage', 'education',\"vehicle_size\"]]\n",
    "\n",
    "#maping ordinals\n",
    "df_category_ordinals['education'].unique()\n",
    "df_category_ordinals['education']=df_category_ordinals['education'].map({\"High School or Below\": 1, \"College\": 2, \"Bachelor\": 3, \"Master\": 4, \"Doctor\": 5})\n",
    "\n",
    "df_category_ordinals['vehicle_size'].unique()\n",
    "df_category_ordinals['vehicle_size']=df_category_ordinals['vehicle_size'].map({'Small': 1, 'Medsize': 2, 'Large': 3})\n",
    "\n",
    "df_category_ordinals['coverage'].unique()\n",
    "df_category_ordinals['coverage']=df_category_ordinals['coverage'].map({'Basic': 1, 'Extended': 2, 'Premium': 3})\n",
    "\n",
    "df_category=pd.concat([df_category_nominals, df_category_ordinals], axis=1)\n",
    "df_category\n",
    "\n",
    "df_numerical=df.select_dtypes(include='number')\n",
    "df_numerical=df_numerical.drop(\"unnamed:_0\", axis=1)\n"
   ]
  },
  {
   "cell_type": "markdown",
   "id": "405012dd",
   "metadata": {},
   "source": [
    "## concat of mericals and categoricals"
   ]
  },
  {
   "cell_type": "code",
   "execution_count": 164,
   "id": "915a1a11",
   "metadata": {
    "scrolled": true
   },
   "outputs": [
    {
     "data": {
      "text/html": [
       "<div>\n",
       "<style scoped>\n",
       "    .dataframe tbody tr th:only-of-type {\n",
       "        vertical-align: middle;\n",
       "    }\n",
       "\n",
       "    .dataframe tbody tr th {\n",
       "        vertical-align: top;\n",
       "    }\n",
       "\n",
       "    .dataframe thead th {\n",
       "        text-align: right;\n",
       "    }\n",
       "</style>\n",
       "<table border=\"1\" class=\"dataframe\">\n",
       "  <thead>\n",
       "    <tr style=\"text-align: right;\">\n",
       "      <th></th>\n",
       "      <th>customer_lifetime_value</th>\n",
       "      <th>income</th>\n",
       "      <th>monthly_premium_auto</th>\n",
       "      <th>months_since_last_claim</th>\n",
       "      <th>months_since_policy_inception</th>\n",
       "      <th>number_of_open_complaints</th>\n",
       "      <th>number_of_policies</th>\n",
       "      <th>total_claim_amount</th>\n",
       "      <th>month</th>\n",
       "      <th>state_Arizona</th>\n",
       "      <th>...</th>\n",
       "      <th>vehicle_class_Four-Door Car</th>\n",
       "      <th>vehicle_class_Luxury Car</th>\n",
       "      <th>vehicle_class_Luxury SUV</th>\n",
       "      <th>vehicle_class_SUV</th>\n",
       "      <th>vehicle_class_Sports Car</th>\n",
       "      <th>vehicle_class_Two-Door Car</th>\n",
       "      <th>vehicle_type_A</th>\n",
       "      <th>coverage</th>\n",
       "      <th>education</th>\n",
       "      <th>vehicle_size</th>\n",
       "    </tr>\n",
       "  </thead>\n",
       "  <tbody>\n",
       "    <tr>\n",
       "      <th>0</th>\n",
       "      <td>4809.216960</td>\n",
       "      <td>48029</td>\n",
       "      <td>61</td>\n",
       "      <td>7.000000</td>\n",
       "      <td>52</td>\n",
       "      <td>0.000000</td>\n",
       "      <td>9</td>\n",
       "      <td>292.800000</td>\n",
       "      <td>2</td>\n",
       "      <td>1</td>\n",
       "      <td>...</td>\n",
       "      <td>1</td>\n",
       "      <td>0</td>\n",
       "      <td>0</td>\n",
       "      <td>0</td>\n",
       "      <td>0</td>\n",
       "      <td>0</td>\n",
       "      <td>1</td>\n",
       "      <td>1</td>\n",
       "      <td>2</td>\n",
       "      <td>2</td>\n",
       "    </tr>\n",
       "    <tr>\n",
       "      <th>1</th>\n",
       "      <td>2228.525238</td>\n",
       "      <td>0</td>\n",
       "      <td>64</td>\n",
       "      <td>3.000000</td>\n",
       "      <td>26</td>\n",
       "      <td>0.000000</td>\n",
       "      <td>1</td>\n",
       "      <td>744.924331</td>\n",
       "      <td>1</td>\n",
       "      <td>0</td>\n",
       "      <td>...</td>\n",
       "      <td>1</td>\n",
       "      <td>0</td>\n",
       "      <td>0</td>\n",
       "      <td>0</td>\n",
       "      <td>0</td>\n",
       "      <td>0</td>\n",
       "      <td>1</td>\n",
       "      <td>1</td>\n",
       "      <td>2</td>\n",
       "      <td>2</td>\n",
       "    </tr>\n",
       "    <tr>\n",
       "      <th>2</th>\n",
       "      <td>14947.917300</td>\n",
       "      <td>22139</td>\n",
       "      <td>100</td>\n",
       "      <td>34.000000</td>\n",
       "      <td>31</td>\n",
       "      <td>0.000000</td>\n",
       "      <td>2</td>\n",
       "      <td>480.000000</td>\n",
       "      <td>2</td>\n",
       "      <td>0</td>\n",
       "      <td>...</td>\n",
       "      <td>0</td>\n",
       "      <td>0</td>\n",
       "      <td>0</td>\n",
       "      <td>1</td>\n",
       "      <td>0</td>\n",
       "      <td>0</td>\n",
       "      <td>1</td>\n",
       "      <td>1</td>\n",
       "      <td>3</td>\n",
       "      <td>2</td>\n",
       "    </tr>\n",
       "    <tr>\n",
       "      <th>3</th>\n",
       "      <td>22332.439460</td>\n",
       "      <td>49078</td>\n",
       "      <td>97</td>\n",
       "      <td>10.000000</td>\n",
       "      <td>3</td>\n",
       "      <td>0.000000</td>\n",
       "      <td>2</td>\n",
       "      <td>484.013411</td>\n",
       "      <td>1</td>\n",
       "      <td>0</td>\n",
       "      <td>...</td>\n",
       "      <td>1</td>\n",
       "      <td>0</td>\n",
       "      <td>0</td>\n",
       "      <td>0</td>\n",
       "      <td>0</td>\n",
       "      <td>0</td>\n",
       "      <td>1</td>\n",
       "      <td>2</td>\n",
       "      <td>2</td>\n",
       "      <td>2</td>\n",
       "    </tr>\n",
       "    <tr>\n",
       "      <th>4</th>\n",
       "      <td>9025.067525</td>\n",
       "      <td>23675</td>\n",
       "      <td>117</td>\n",
       "      <td>15.149071</td>\n",
       "      <td>31</td>\n",
       "      <td>0.384256</td>\n",
       "      <td>7</td>\n",
       "      <td>707.925645</td>\n",
       "      <td>1</td>\n",
       "      <td>0</td>\n",
       "      <td>...</td>\n",
       "      <td>1</td>\n",
       "      <td>0</td>\n",
       "      <td>0</td>\n",
       "      <td>0</td>\n",
       "      <td>0</td>\n",
       "      <td>0</td>\n",
       "      <td>1</td>\n",
       "      <td>3</td>\n",
       "      <td>3</td>\n",
       "      <td>2</td>\n",
       "    </tr>\n",
       "    <tr>\n",
       "      <th>...</th>\n",
       "      <td>...</td>\n",
       "      <td>...</td>\n",
       "      <td>...</td>\n",
       "      <td>...</td>\n",
       "      <td>...</td>\n",
       "      <td>...</td>\n",
       "      <td>...</td>\n",
       "      <td>...</td>\n",
       "      <td>...</td>\n",
       "      <td>...</td>\n",
       "      <td>...</td>\n",
       "      <td>...</td>\n",
       "      <td>...</td>\n",
       "      <td>...</td>\n",
       "      <td>...</td>\n",
       "      <td>...</td>\n",
       "      <td>...</td>\n",
       "      <td>...</td>\n",
       "      <td>...</td>\n",
       "      <td>...</td>\n",
       "      <td>...</td>\n",
       "    </tr>\n",
       "    <tr>\n",
       "      <th>10905</th>\n",
       "      <td>15563.369440</td>\n",
       "      <td>0</td>\n",
       "      <td>253</td>\n",
       "      <td>15.149071</td>\n",
       "      <td>40</td>\n",
       "      <td>0.384256</td>\n",
       "      <td>7</td>\n",
       "      <td>1214.400000</td>\n",
       "      <td>1</td>\n",
       "      <td>0</td>\n",
       "      <td>...</td>\n",
       "      <td>0</td>\n",
       "      <td>1</td>\n",
       "      <td>0</td>\n",
       "      <td>0</td>\n",
       "      <td>0</td>\n",
       "      <td>0</td>\n",
       "      <td>1</td>\n",
       "      <td>3</td>\n",
       "      <td>3</td>\n",
       "      <td>2</td>\n",
       "    </tr>\n",
       "    <tr>\n",
       "      <th>10906</th>\n",
       "      <td>5259.444853</td>\n",
       "      <td>61146</td>\n",
       "      <td>65</td>\n",
       "      <td>7.000000</td>\n",
       "      <td>68</td>\n",
       "      <td>0.000000</td>\n",
       "      <td>6</td>\n",
       "      <td>273.018929</td>\n",
       "      <td>1</td>\n",
       "      <td>0</td>\n",
       "      <td>...</td>\n",
       "      <td>1</td>\n",
       "      <td>0</td>\n",
       "      <td>0</td>\n",
       "      <td>0</td>\n",
       "      <td>0</td>\n",
       "      <td>0</td>\n",
       "      <td>1</td>\n",
       "      <td>1</td>\n",
       "      <td>2</td>\n",
       "      <td>2</td>\n",
       "    </tr>\n",
       "    <tr>\n",
       "      <th>10907</th>\n",
       "      <td>23893.304100</td>\n",
       "      <td>39837</td>\n",
       "      <td>201</td>\n",
       "      <td>11.000000</td>\n",
       "      <td>63</td>\n",
       "      <td>0.000000</td>\n",
       "      <td>2</td>\n",
       "      <td>381.306996</td>\n",
       "      <td>2</td>\n",
       "      <td>1</td>\n",
       "      <td>...</td>\n",
       "      <td>0</td>\n",
       "      <td>0</td>\n",
       "      <td>1</td>\n",
       "      <td>0</td>\n",
       "      <td>0</td>\n",
       "      <td>0</td>\n",
       "      <td>1</td>\n",
       "      <td>2</td>\n",
       "      <td>3</td>\n",
       "      <td>2</td>\n",
       "    </tr>\n",
       "    <tr>\n",
       "      <th>10908</th>\n",
       "      <td>11971.977650</td>\n",
       "      <td>64195</td>\n",
       "      <td>158</td>\n",
       "      <td>0.000000</td>\n",
       "      <td>27</td>\n",
       "      <td>4.000000</td>\n",
       "      <td>6</td>\n",
       "      <td>618.288849</td>\n",
       "      <td>2</td>\n",
       "      <td>0</td>\n",
       "      <td>...</td>\n",
       "      <td>0</td>\n",
       "      <td>0</td>\n",
       "      <td>0</td>\n",
       "      <td>1</td>\n",
       "      <td>0</td>\n",
       "      <td>0</td>\n",
       "      <td>1</td>\n",
       "      <td>3</td>\n",
       "      <td>2</td>\n",
       "      <td>2</td>\n",
       "    </tr>\n",
       "    <tr>\n",
       "      <th>10909</th>\n",
       "      <td>6857.519928</td>\n",
       "      <td>0</td>\n",
       "      <td>101</td>\n",
       "      <td>31.000000</td>\n",
       "      <td>1</td>\n",
       "      <td>0.000000</td>\n",
       "      <td>3</td>\n",
       "      <td>1021.719397</td>\n",
       "      <td>1</td>\n",
       "      <td>0</td>\n",
       "      <td>...</td>\n",
       "      <td>0</td>\n",
       "      <td>0</td>\n",
       "      <td>0</td>\n",
       "      <td>1</td>\n",
       "      <td>0</td>\n",
       "      <td>0</td>\n",
       "      <td>1</td>\n",
       "      <td>1</td>\n",
       "      <td>3</td>\n",
       "      <td>2</td>\n",
       "    </tr>\n",
       "  </tbody>\n",
       "</table>\n",
       "<p>10910 rows × 56 columns</p>\n",
       "</div>"
      ],
      "text/plain": [
       "       customer_lifetime_value  income  monthly_premium_auto  \\\n",
       "0                  4809.216960   48029                    61   \n",
       "1                  2228.525238       0                    64   \n",
       "2                 14947.917300   22139                   100   \n",
       "3                 22332.439460   49078                    97   \n",
       "4                  9025.067525   23675                   117   \n",
       "...                        ...     ...                   ...   \n",
       "10905             15563.369440       0                   253   \n",
       "10906              5259.444853   61146                    65   \n",
       "10907             23893.304100   39837                   201   \n",
       "10908             11971.977650   64195                   158   \n",
       "10909              6857.519928       0                   101   \n",
       "\n",
       "       months_since_last_claim  months_since_policy_inception  \\\n",
       "0                     7.000000                             52   \n",
       "1                     3.000000                             26   \n",
       "2                    34.000000                             31   \n",
       "3                    10.000000                              3   \n",
       "4                    15.149071                             31   \n",
       "...                        ...                            ...   \n",
       "10905                15.149071                             40   \n",
       "10906                 7.000000                             68   \n",
       "10907                11.000000                             63   \n",
       "10908                 0.000000                             27   \n",
       "10909                31.000000                              1   \n",
       "\n",
       "       number_of_open_complaints  number_of_policies  total_claim_amount  \\\n",
       "0                       0.000000                   9          292.800000   \n",
       "1                       0.000000                   1          744.924331   \n",
       "2                       0.000000                   2          480.000000   \n",
       "3                       0.000000                   2          484.013411   \n",
       "4                       0.384256                   7          707.925645   \n",
       "...                          ...                 ...                 ...   \n",
       "10905                   0.384256                   7         1214.400000   \n",
       "10906                   0.000000                   6          273.018929   \n",
       "10907                   0.000000                   2          381.306996   \n",
       "10908                   4.000000                   6          618.288849   \n",
       "10909                   0.000000                   3         1021.719397   \n",
       "\n",
       "       month  state_Arizona  ...  vehicle_class_Four-Door Car  \\\n",
       "0          2              1  ...                            1   \n",
       "1          1              0  ...                            1   \n",
       "2          2              0  ...                            0   \n",
       "3          1              0  ...                            1   \n",
       "4          1              0  ...                            1   \n",
       "...      ...            ...  ...                          ...   \n",
       "10905      1              0  ...                            0   \n",
       "10906      1              0  ...                            1   \n",
       "10907      2              1  ...                            0   \n",
       "10908      2              0  ...                            0   \n",
       "10909      1              0  ...                            0   \n",
       "\n",
       "       vehicle_class_Luxury Car  vehicle_class_Luxury SUV  vehicle_class_SUV  \\\n",
       "0                             0                         0                  0   \n",
       "1                             0                         0                  0   \n",
       "2                             0                         0                  1   \n",
       "3                             0                         0                  0   \n",
       "4                             0                         0                  0   \n",
       "...                         ...                       ...                ...   \n",
       "10905                         1                         0                  0   \n",
       "10906                         0                         0                  0   \n",
       "10907                         0                         1                  0   \n",
       "10908                         0                         0                  1   \n",
       "10909                         0                         0                  1   \n",
       "\n",
       "       vehicle_class_Sports Car  vehicle_class_Two-Door Car  vehicle_type_A  \\\n",
       "0                             0                           0               1   \n",
       "1                             0                           0               1   \n",
       "2                             0                           0               1   \n",
       "3                             0                           0               1   \n",
       "4                             0                           0               1   \n",
       "...                         ...                         ...             ...   \n",
       "10905                         0                           0               1   \n",
       "10906                         0                           0               1   \n",
       "10907                         0                           0               1   \n",
       "10908                         0                           0               1   \n",
       "10909                         0                           0               1   \n",
       "\n",
       "       coverage  education  vehicle_size  \n",
       "0             1          2             2  \n",
       "1             1          2             2  \n",
       "2             1          3             2  \n",
       "3             2          2             2  \n",
       "4             3          3             2  \n",
       "...         ...        ...           ...  \n",
       "10905         3          3             2  \n",
       "10906         1          2             2  \n",
       "10907         2          3             2  \n",
       "10908         3          2             2  \n",
       "10909         1          3             2  \n",
       "\n",
       "[10910 rows x 56 columns]"
      ]
     },
     "execution_count": 164,
     "metadata": {},
     "output_type": "execute_result"
    }
   ],
   "source": [
    "df_full=pd.concat([df_numerical, df_category], axis=1)\n",
    "df_full"
   ]
  },
  {
   "cell_type": "markdown",
   "id": "bd97e488",
   "metadata": {},
   "source": [
    "## X-Y split"
   ]
  },
  {
   "cell_type": "code",
   "execution_count": 165,
   "id": "19e88401",
   "metadata": {},
   "outputs": [],
   "source": [
    "#defining X and y\n",
    "\n",
    "X=df_full.drop(\"total_claim_amount\", axis=1)\n",
    "y=df_full[[\"total_claim_amount\"]]"
   ]
  },
  {
   "cell_type": "code",
   "execution_count": 166,
   "id": "d8e45469",
   "metadata": {},
   "outputs": [],
   "source": [
    "#spliting X and y\n",
    "X_train, X_test, y_train, y_test=train_test_split(X,y, random_state=42)"
   ]
  },
  {
   "cell_type": "markdown",
   "id": "f64efcd8",
   "metadata": {},
   "source": [
    "## Scaling"
   ]
  },
  {
   "cell_type": "code",
   "execution_count": 167,
   "id": "a3239f5f",
   "metadata": {},
   "outputs": [],
   "source": [
    "#scaling everything with powertransformation for X_train\n",
    "pt=PowerTransformer()\n",
    "pt.fit(X_train)\n",
    "X_train=pt.transform(X_train)"
   ]
  },
  {
   "cell_type": "code",
   "execution_count": 168,
   "id": "e0fe9743",
   "metadata": {},
   "outputs": [],
   "source": [
    "#scaling everything with powertransformation for X_test with fit from X_train\n",
    "X_test=pt.transform(X_test)"
   ]
  },
  {
   "cell_type": "code",
   "execution_count": 169,
   "id": "94a667e0",
   "metadata": {},
   "outputs": [
    {
     "data": {
      "text/plain": [
       "array([[<Axes: title={'center': 'total_claim_amount'}>]], dtype=object)"
      ]
     },
     "execution_count": 169,
     "metadata": {},
     "output_type": "execute_result"
    },
    {
     "data": {
      "image/png": "[encoded data removed]",
      "text/plain": [
       "<Figure size 640x480 with 1 Axes>"
      ]
     },
     "metadata": {},
     "output_type": "display_data"
    },
    {
     "data": {
      "image/png": "[encoded data removed]",
      "text/plain": [
       "<Figure size 640x480 with 1 Axes>"
      ]
     },
     "metadata": {},
     "output_type": "display_data"
    }
   ],
   "source": [
    "#checking distribution of y\n",
    "y_train.hist()\n",
    "y_test.hist()\n",
    "\n",
    "#has ight scew but checking without transformation"
   ]
  },
  {
   "cell_type": "markdown",
   "id": "cba32d68",
   "metadata": {},
   "source": [
    "## Model creating"
   ]
  },
  {
   "cell_type": "code",
   "execution_count": 170,
   "id": "48307fff",
   "metadata": {},
   "outputs": [],
   "source": [
    "lr=LinearRegression()"
   ]
  },
  {
   "cell_type": "code",
   "execution_count": 171,
   "id": "4b388154",
   "metadata": {
    "scrolled": true
   },
   "outputs": [
    {
     "name": "stdout",
     "output_type": "stream",
     "text": [
      "model_coefficients: [[ 6.12704415e+00 -1.88102507e+01  8.46582039e+01  4.28812789e+00\n",
      "   1.34895854e-01 -1.52584574e+00 -2.42299539e+00 -4.88919173e-02\n",
      "   5.12695113e+13  6.52814537e+13  3.85353801e+13  5.97033095e+13\n",
      "   3.73318359e+13 -3.77444075e+11 -3.77444075e+11  5.85264666e+13\n",
      "   1.34302386e+14  5.91741741e+13  4.69765497e+13  1.20626620e+14\n",
      "  -1.00959425e+14 -1.00959425e+14 -1.78003376e+14 -2.17823769e+14\n",
      "  -1.72328602e+14 -5.23978486e+13 -7.21546320e+13 -6.48188232e+13\n",
      "   1.61321730e+13  2.01015976e+13  2.63076319e+13  2.83903054e+13\n",
      "   3.48908193e+13  4.01634861e+13  7.24151625e+12  1.09674170e+13\n",
      "   9.83565033e+12 -2.44619396e+14 -2.31700683e+14 -1.82372107e+14\n",
      "  -1.54597509e+14  3.75687373e+13  3.46421254e+13  3.08924884e+13\n",
      "   2.75072340e+13 -2.65849243e+13 -6.90850516e+12 -7.39886716e+12\n",
      "  -2.06393954e+13 -1.17689556e+13 -2.11836864e+13  0.00000000e+00\n",
      "   2.09580078e+01 -4.34960938e+00 -6.72363281e-01]]\n",
      "model_intercept: [434.5978312]\n"
     ]
    }
   ],
   "source": [
    "#training the model\n",
    "model_full=lr.fit(X_train,y_train)\n",
    "print(\"model_coefficients:\", model_full.coef_)\n",
    "print(\"model_intercept:\",model_full.intercept_)"
   ]
  },
  {
   "cell_type": "code",
   "execution_count": 172,
   "id": "7c8ab331",
   "metadata": {
    "scrolled": false
   },
   "outputs": [
    {
     "data": {
      "text/plain": [
       "<Axes: xlabel='coeff', ylabel='name'>"
      ]
     },
     "execution_count": 172,
     "metadata": {},
     "output_type": "execute_result"
    },
    {
     "data": {
      "image/png": "[encoded data removed]",
      "text/plain": [
       "<Figure size 800x1300 with 1 Axes>"
      ]
     },
     "metadata": {},
     "output_type": "display_data"
    }
   ],
   "source": [
    "#visualizing\n",
    "feature_names1=list(X.columns)\n",
    "coefficients1 = model_full.coef_\n",
    "coefficients1=[i for i in coefficients1[0]]\n",
    "coefficients1=sorted(coefficients1)\n",
    "fi_dict1 = {\"name\":feature_names1,\"coeff\":coefficients1}\n",
    "fi_df1 = pd.DataFrame(fi_dict1)\n",
    "import matplotlib.pyplot as plt\n",
    "plt.figure(figsize=(8, 13))\n",
    "sn.barplot(y = fi_df1[\"name\"],x =fi_df1[\"coeff\"])"
   ]
  },
  {
   "cell_type": "code",
   "execution_count": 173,
   "id": "95bafb6d",
   "metadata": {},
   "outputs": [],
   "source": [
    "#testing model\n",
    "y_pred=pd.DataFrame(lr.predict(X_test))"
   ]
  },
  {
   "cell_type": "code",
   "execution_count": 174,
   "id": "eadd397d",
   "metadata": {},
   "outputs": [
    {
     "name": "stdout",
     "output_type": "stream",
     "text": [
      "mse_full:21538.71679060425\n",
      "mae_full: 100.96278689489496\n",
      "RMSE:146.760746763582\n"
     ]
    }
   ],
   "source": [
    "#calculating mean errors\n",
    "MSE_full=mse(y_pred,y_test)\n",
    "MAE_full=mae(y_pred,y_test)\n",
    "RMSE_full=mse(y_pred,y_test, squared=False)\n",
    "print(f\"mse_full:{MSE_full}\\nmae_full: {MAE_full}\\nRMSE:{RMSE_full}\")"
   ]
  },
  {
   "cell_type": "markdown",
   "id": "39d206e8",
   "metadata": {},
   "source": [
    "## R2 calculating"
   ]
  },
  {
   "cell_type": "code",
   "execution_count": 175,
   "id": "24e46ba2",
   "metadata": {},
   "outputs": [
    {
     "data": {
      "text/plain": [
       "0.7408420741787296"
      ]
     },
     "execution_count": 175,
     "metadata": {},
     "output_type": "execute_result"
    }
   ],
   "source": [
    "#calculating R2 for predictions\n",
    "r2_test=r2_score(y_test,y_pred)\n",
    "r2_test"
   ]
  },
  {
   "cell_type": "code",
   "execution_count": 176,
   "id": "c89fd39d",
   "metadata": {},
   "outputs": [
    {
     "data": {
      "text/plain": [
       "0.7385177338649123"
      ]
     },
     "execution_count": 176,
     "metadata": {},
     "output_type": "execute_result"
    }
   ],
   "source": [
    "#calculating R2 for train set\n",
    "\n",
    "#creating predictions from the train set\n",
    "y_train_pred=pd.DataFrame(lr.predict(X_train))\n",
    "\n",
    "#calculating R2\n",
    "r2_train=r2_score(y_train,y_train_pred)\n",
    "r2_train"
   ]
  },
  {
   "cell_type": "code",
   "execution_count": 177,
   "id": "43035f44",
   "metadata": {},
   "outputs": [
    {
     "data": {
      "text/plain": [
       "100.31"
      ]
     },
     "execution_count": 177,
     "metadata": {},
     "output_type": "execute_result"
    }
   ],
   "source": [
    "diff_r2=round(r2_test/r2_train*100, 2)\n",
    "diff_r2"
   ]
  },
  {
   "cell_type": "markdown",
   "id": "0d675897",
   "metadata": {},
   "source": [
    "## Linear Regression"
   ]
  },
  {
   "cell_type": "code",
   "execution_count": 100,
   "id": "a07c44f8",
   "metadata": {},
   "outputs": [],
   "source": [
    "# that's with alpha=0\n",
    "#created in week 4\n"
   ]
  },
  {
   "cell_type": "markdown",
   "id": "5583daf6",
   "metadata": {},
   "source": [
    "## Lasso"
   ]
  },
  {
   "cell_type": "code",
   "execution_count": 116,
   "id": "331f0e8d",
   "metadata": {},
   "outputs": [
    {
     "name": "stderr",
     "output_type": "stream",
     "text": [
      "C:\\Users\\user\\anaconda3\\Lib\\site-packages\\sklearn\\base.py:1151: UserWarning: With alpha=0, this algorithm does not converge well. You are advised to use the LinearRegression estimator\n",
      "  return fit_method(estimator, *args, **kwargs)\n",
      "C:\\Users\\user\\anaconda3\\Lib\\site-packages\\sklearn\\linear_model\\_coordinate_descent.py:628: UserWarning: Coordinate descent with no regularization may lead to unexpected results and is discouraged.\n",
      "  model = cd_fast.enet_coordinate_descent(\n"
     ]
    },
    {
     "name": "stdout",
     "output_type": "stream",
     "text": [
      "Lasso: Train -> 0.7349913322010659, Test -> 0.7400718447089474\n"
     ]
    },
    {
     "name": "stderr",
     "output_type": "stream",
     "text": [
      "C:\\Users\\user\\anaconda3\\Lib\\site-packages\\sklearn\\linear_model\\_coordinate_descent.py:628: ConvergenceWarning: Objective did not converge. You might want to increase the number of iterations, check the scale of the features or consider increasing regularisation. Duality gap: 9.336e+07, tolerance: 7.046e+04 Linear regression models with null weight for the l1 regularization term are more efficiently fitted using one of the solvers implemented in sklearn.linear_model.Ridge/RidgeCV instead.\n",
      "  model = cd_fast.enet_coordinate_descent(\n"
     ]
    }
   ],
   "source": [
    "from sklearn.linear_model import Lasso,Ridge,ElasticNet, LinearRegression\n",
    "model=Lasso(alpha=0)\n",
    "\n",
    "model.fit(X_train, y_train)\n",
    "print(f\"{model.__class__.__name__}: Train -> {model.score(X_train, y_train)}, Test -> {model.score(X_test, y_test)}\")"
   ]
  },
  {
   "cell_type": "code",
   "execution_count": 117,
   "id": "b5850813",
   "metadata": {},
   "outputs": [
    {
     "name": "stdout",
     "output_type": "stream",
     "text": [
      "Lasso: Train -> 0.7349861749173376, Test -> 0.7401724512497658\n"
     ]
    }
   ],
   "source": [
    "from sklearn.linear_model import Lasso,Ridge,ElasticNet, LinearRegression\n",
    "model=Lasso(alpha=0.1)\n",
    "\n",
    "model.fit(X_train, y_train)\n",
    "print(f\"{model.__class__.__name__}: Train -> {model.score(X_train, y_train)}, Test -> {model.score(X_test, y_test)}\")"
   ]
  },
  {
   "cell_type": "code",
   "execution_count": 118,
   "id": "7ccb5fda",
   "metadata": {},
   "outputs": [
    {
     "name": "stdout",
     "output_type": "stream",
     "text": [
      "Lasso: Train -> 0.7345519997863388, Test -> 0.7408224260774897\n"
     ]
    }
   ],
   "source": [
    "from sklearn.linear_model import Lasso,Ridge,ElasticNet, LinearRegression\n",
    "model=Lasso(alpha=1)\n",
    "\n",
    "model.fit(X_train, y_train)\n",
    "print(f\"{model.__class__.__name__}: Train -> {model.score(X_train, y_train)}, Test -> {model.score(X_test, y_test)}\")"
   ]
  },
  {
   "cell_type": "code",
   "execution_count": 119,
   "id": "90dccac4",
   "metadata": {},
   "outputs": [
    {
     "name": "stdout",
     "output_type": "stream",
     "text": [
      "Lasso: Train -> 0.0, Test -> -1.5086713635703575e-05\n"
     ]
    }
   ],
   "source": [
    "from sklearn.linear_model import Lasso,Ridge,ElasticNet, LinearRegression\n",
    "model=Lasso(alpha=1000)\n",
    "\n",
    "model.fit(X_train, y_train)\n",
    "print(f\"{model.__class__.__name__}: Train -> {model.score(X_train, y_train)}, Test -> {model.score(X_test, y_test)}\")"
   ]
  },
  {
   "cell_type": "markdown",
   "id": "1c3fdfd5",
   "metadata": {},
   "source": [
    "## Ridge"
   ]
  },
  {
   "cell_type": "code",
   "execution_count": 123,
   "id": "31722a2f",
   "metadata": {},
   "outputs": [
    {
     "name": "stdout",
     "output_type": "stream",
     "text": [
      "Ridge: Train -> 0.7226271044070653, Test -> 0.7282617733723092\n"
     ]
    }
   ],
   "source": [
    "model=Ridge(alpha=0)\n",
    "model.fit(X_train, y_train)\n",
    "print(f\"{model.__class__.__name__}: Train -> {model.score(X_train, y_train)}, Test -> {model.score(X_test, y_test)}\")"
   ]
  },
  {
   "cell_type": "code",
   "execution_count": 125,
   "id": "0f89f6da",
   "metadata": {},
   "outputs": [
    {
     "name": "stdout",
     "output_type": "stream",
     "text": [
      "Ridge: Train -> 0.7349913321612844, Test -> 0.7400720966751595\n"
     ]
    }
   ],
   "source": [
    "model=Ridge(alpha=0.1)\n",
    "model.fit(X_train, y_train)\n",
    "print(f\"{model.__class__.__name__}: Train -> {model.score(X_train, y_train)}, Test -> {model.score(X_test, y_test)}\")"
   ]
  },
  {
   "cell_type": "code",
   "execution_count": 126,
   "id": "283ebeac",
   "metadata": {},
   "outputs": [
    {
     "name": "stdout",
     "output_type": "stream",
     "text": [
      "Ridge: Train -> 0.7349913282244661, Test -> 0.7400743613730308\n"
     ]
    }
   ],
   "source": [
    "model=Ridge(alpha=1)\n",
    "model.fit(X_train, y_train)\n",
    "print(f\"{model.__class__.__name__}: Train -> {model.score(X_train, y_train)}, Test -> {model.score(X_test, y_test)}\")"
   ]
  },
  {
   "cell_type": "code",
   "execution_count": 127,
   "id": "34fa4c04",
   "metadata": {},
   "outputs": [
    {
     "name": "stdout",
     "output_type": "stream",
     "text": [
      "Ridge: Train -> 0.7319971416681754, Test -> 0.7396138056620583\n"
     ]
    }
   ],
   "source": [
    "model=Ridge(alpha=1000)\n",
    "model.fit(X_train, y_train)\n",
    "print(f\"{model.__class__.__name__}: Train -> {model.score(X_train, y_train)}, Test -> {model.score(X_test, y_test)}\")"
   ]
  },
  {
   "cell_type": "markdown",
   "id": "6db6963d",
   "metadata": {},
   "source": [
    "# 2. Define a function that takes a list of models and trains (and tests) them so we can try a lot of them without repeating code."
   ]
  },
  {
   "cell_type": "code",
   "execution_count": 179,
   "id": "36b02ef6",
   "metadata": {},
   "outputs": [],
   "source": [
    "def model_check(alpha_, X_train, y_train, X_test, y_test):\n",
    "    #Lasso\n",
    "    from sklearn.linear_model import Lasso,Ridge,ElasticNet, LinearRegression\n",
    "    model_l=Lasso(alpha=alpha_)\n",
    "    model_l.fit(X_train, y_train)\n",
    "    print(f\"{model_l.__class__.__name__}: Train -> {model_l.score(X_train, y_train)}, Test -> {model_l.score(X_test, y_test)}\")\n",
    "    \n",
    "    #Ridge\n",
    "    model_r=Ridge(alpha=alpha_)\n",
    "    model_r.fit(X_train, y_train)\n",
    "    print(f\"{model_r.__class__.__name__}: Train -> {model_r.score(X_train, y_train)}, Test -> {model_r.score(X_test, y_test)}\")"
   ]
  },
  {
   "cell_type": "code",
   "execution_count": 180,
   "id": "304d9b74",
   "metadata": {},
   "outputs": [
    {
     "name": "stdout",
     "output_type": "stream",
     "text": [
      "Lasso: Train -> 0.7277827600831146, Test -> 0.7343921553986126\n",
      "Ridge: Train -> 0.7385210054758051, Test -> 0.7408820212373883\n"
     ]
    }
   ],
   "source": [
    "model_check(10, X_train, y_train, X_test, y_test)"
   ]
  },
  {
   "cell_type": "markdown",
   "id": "ee0493a6",
   "metadata": {},
   "source": [
    "# 3. Use feature selection techniques (P-Value, RFE) to select a subset of features to train the model with (if necessary)"
   ]
  },
  {
   "cell_type": "code",
   "execution_count": 184,
   "id": "39ffaead",
   "metadata": {},
   "outputs": [
    {
     "name": "stdout",
     "output_type": "stream",
     "text": [
      "Fitting estimator with 55 features.\n",
      "Fitting estimator with 54 features.\n",
      "Fitting estimator with 53 features.\n",
      "Fitting estimator with 52 features.\n",
      "Fitting estimator with 51 features.\n",
      "Fitting estimator with 50 features.\n",
      "Fitting estimator with 49 features.\n",
      "Fitting estimator with 48 features.\n",
      "Fitting estimator with 47 features.\n",
      "Fitting estimator with 46 features.\n",
      "Fitting estimator with 45 features.\n",
      "Fitting estimator with 44 features.\n",
      "Fitting estimator with 43 features.\n",
      "Fitting estimator with 42 features.\n",
      "Fitting estimator with 41 features.\n",
      "Fitting estimator with 40 features.\n",
      "Fitting estimator with 39 features.\n",
      "Fitting estimator with 38 features.\n",
      "Fitting estimator with 37 features.\n",
      "Fitting estimator with 36 features.\n",
      "Fitting estimator with 35 features.\n",
      "Fitting estimator with 34 features.\n",
      "Fitting estimator with 33 features.\n",
      "Fitting estimator with 32 features.\n",
      "Fitting estimator with 31 features.\n",
      "Fitting estimator with 30 features.\n",
      "Fitting estimator with 29 features.\n",
      "Fitting estimator with 28 features.\n",
      "Fitting estimator with 27 features.\n",
      "Fitting estimator with 26 features.\n",
      "Fitting estimator with 25 features.\n",
      "Fitting estimator with 24 features.\n",
      "Fitting estimator with 23 features.\n",
      "Fitting estimator with 22 features.\n",
      "Fitting estimator with 21 features.\n",
      "Fitting estimator with 20 features.\n",
      "Fitting estimator with 19 features.\n",
      "Fitting estimator with 18 features.\n",
      "Fitting estimator with 17 features.\n",
      "Fitting estimator with 16 features.\n",
      "Fitting estimator with 15 features.\n",
      "Fitting estimator with 14 features.\n",
      "Fitting estimator with 13 features.\n",
      "Fitting estimator with 12 features.\n",
      "Fitting estimator with 11 features.\n",
      "Final selected features: \n"
     ]
    },
    {
     "name": "stderr",
     "output_type": "stream",
     "text": [
      "C:\\Users\\user\\anaconda3\\Lib\\site-packages\\sklearn\\base.py:464: UserWarning: X does not have valid feature names, but RFE was fitted with feature names\n",
      "  warnings.warn(\n"
     ]
    },
    {
     "data": {
      "text/html": [
       "<div>\n",
       "<style scoped>\n",
       "    .dataframe tbody tr th:only-of-type {\n",
       "        vertical-align: middle;\n",
       "    }\n",
       "\n",
       "    .dataframe tbody tr th {\n",
       "        vertical-align: top;\n",
       "    }\n",
       "\n",
       "    .dataframe thead th {\n",
       "        text-align: right;\n",
       "    }\n",
       "</style>\n",
       "<table border=\"1\" class=\"dataframe\">\n",
       "  <thead>\n",
       "    <tr style=\"text-align: right;\">\n",
       "      <th></th>\n",
       "      <th>state_Arizona</th>\n",
       "      <th>state_California</th>\n",
       "      <th>state_Nevada</th>\n",
       "      <th>state_Oregon</th>\n",
       "      <th>state_Washington</th>\n",
       "      <th>sales_channel_Agent</th>\n",
       "      <th>sales_channel_Branch</th>\n",
       "      <th>sales_channel_Call Center</th>\n",
       "      <th>sales_channel_Web</th>\n",
       "      <th>vehicle_class_Four-Door Car</th>\n",
       "    </tr>\n",
       "  </thead>\n",
       "  <tbody>\n",
       "    <tr>\n",
       "      <th>0</th>\n",
       "      <td>-0.462738</td>\n",
       "      <td>1.27838</td>\n",
       "      <td>-0.314865</td>\n",
       "      <td>-0.607760</td>\n",
       "      <td>-0.302996</td>\n",
       "      <td>1.283370</td>\n",
       "      <td>-0.617572</td>\n",
       "      <td>-0.497249</td>\n",
       "      <td>-0.416595</td>\n",
       "      <td>-1.063879</td>\n",
       "    </tr>\n",
       "    <tr>\n",
       "      <th>1</th>\n",
       "      <td>-0.462738</td>\n",
       "      <td>1.27838</td>\n",
       "      <td>-0.314865</td>\n",
       "      <td>-0.607760</td>\n",
       "      <td>-0.302996</td>\n",
       "      <td>-0.779198</td>\n",
       "      <td>1.619246</td>\n",
       "      <td>-0.497249</td>\n",
       "      <td>-0.416595</td>\n",
       "      <td>-1.063879</td>\n",
       "    </tr>\n",
       "    <tr>\n",
       "      <th>2</th>\n",
       "      <td>-0.462738</td>\n",
       "      <td>1.27838</td>\n",
       "      <td>-0.314865</td>\n",
       "      <td>-0.607760</td>\n",
       "      <td>-0.302996</td>\n",
       "      <td>1.283370</td>\n",
       "      <td>-0.617572</td>\n",
       "      <td>-0.497249</td>\n",
       "      <td>-0.416595</td>\n",
       "      <td>0.939956</td>\n",
       "    </tr>\n",
       "    <tr>\n",
       "      <th>3</th>\n",
       "      <td>-0.462738</td>\n",
       "      <td>1.27838</td>\n",
       "      <td>-0.314865</td>\n",
       "      <td>-0.607760</td>\n",
       "      <td>-0.302996</td>\n",
       "      <td>1.283370</td>\n",
       "      <td>-0.617572</td>\n",
       "      <td>-0.497249</td>\n",
       "      <td>-0.416595</td>\n",
       "      <td>-1.063879</td>\n",
       "    </tr>\n",
       "    <tr>\n",
       "      <th>4</th>\n",
       "      <td>-0.462738</td>\n",
       "      <td>1.27838</td>\n",
       "      <td>-0.314865</td>\n",
       "      <td>-0.607760</td>\n",
       "      <td>-0.302996</td>\n",
       "      <td>-0.779198</td>\n",
       "      <td>-0.617572</td>\n",
       "      <td>2.011067</td>\n",
       "      <td>-0.416595</td>\n",
       "      <td>0.939956</td>\n",
       "    </tr>\n",
       "    <tr>\n",
       "      <th>...</th>\n",
       "      <td>...</td>\n",
       "      <td>...</td>\n",
       "      <td>...</td>\n",
       "      <td>...</td>\n",
       "      <td>...</td>\n",
       "      <td>...</td>\n",
       "      <td>...</td>\n",
       "      <td>...</td>\n",
       "      <td>...</td>\n",
       "      <td>...</td>\n",
       "    </tr>\n",
       "    <tr>\n",
       "      <th>8177</th>\n",
       "      <td>-0.462738</td>\n",
       "      <td>-0.78224</td>\n",
       "      <td>-0.314865</td>\n",
       "      <td>1.645386</td>\n",
       "      <td>-0.302996</td>\n",
       "      <td>-0.779198</td>\n",
       "      <td>1.619246</td>\n",
       "      <td>-0.497249</td>\n",
       "      <td>-0.416595</td>\n",
       "      <td>0.939956</td>\n",
       "    </tr>\n",
       "    <tr>\n",
       "      <th>8178</th>\n",
       "      <td>-0.462738</td>\n",
       "      <td>-0.78224</td>\n",
       "      <td>-0.314865</td>\n",
       "      <td>1.645386</td>\n",
       "      <td>-0.302996</td>\n",
       "      <td>-0.779198</td>\n",
       "      <td>1.619246</td>\n",
       "      <td>-0.497249</td>\n",
       "      <td>-0.416595</td>\n",
       "      <td>-1.063879</td>\n",
       "    </tr>\n",
       "    <tr>\n",
       "      <th>8179</th>\n",
       "      <td>-0.462738</td>\n",
       "      <td>1.27838</td>\n",
       "      <td>-0.314865</td>\n",
       "      <td>-0.607760</td>\n",
       "      <td>-0.302996</td>\n",
       "      <td>-0.779198</td>\n",
       "      <td>-0.617572</td>\n",
       "      <td>-0.497249</td>\n",
       "      <td>2.400413</td>\n",
       "      <td>0.939956</td>\n",
       "    </tr>\n",
       "    <tr>\n",
       "      <th>8180</th>\n",
       "      <td>-0.462738</td>\n",
       "      <td>1.27838</td>\n",
       "      <td>-0.314865</td>\n",
       "      <td>-0.607760</td>\n",
       "      <td>-0.302996</td>\n",
       "      <td>-0.779198</td>\n",
       "      <td>-0.617572</td>\n",
       "      <td>2.011067</td>\n",
       "      <td>-0.416595</td>\n",
       "      <td>0.939956</td>\n",
       "    </tr>\n",
       "    <tr>\n",
       "      <th>8181</th>\n",
       "      <td>-0.462738</td>\n",
       "      <td>1.27838</td>\n",
       "      <td>-0.314865</td>\n",
       "      <td>-0.607760</td>\n",
       "      <td>-0.302996</td>\n",
       "      <td>1.283370</td>\n",
       "      <td>-0.617572</td>\n",
       "      <td>-0.497249</td>\n",
       "      <td>-0.416595</td>\n",
       "      <td>-1.063879</td>\n",
       "    </tr>\n",
       "  </tbody>\n",
       "</table>\n",
       "<p>8182 rows × 10 columns</p>\n",
       "</div>"
      ],
      "text/plain": [
       "      state_Arizona  state_California  state_Nevada  state_Oregon  \\\n",
       "0         -0.462738           1.27838     -0.314865     -0.607760   \n",
       "1         -0.462738           1.27838     -0.314865     -0.607760   \n",
       "2         -0.462738           1.27838     -0.314865     -0.607760   \n",
       "3         -0.462738           1.27838     -0.314865     -0.607760   \n",
       "4         -0.462738           1.27838     -0.314865     -0.607760   \n",
       "...             ...               ...           ...           ...   \n",
       "8177      -0.462738          -0.78224     -0.314865      1.645386   \n",
       "8178      -0.462738          -0.78224     -0.314865      1.645386   \n",
       "8179      -0.462738           1.27838     -0.314865     -0.607760   \n",
       "8180      -0.462738           1.27838     -0.314865     -0.607760   \n",
       "8181      -0.462738           1.27838     -0.314865     -0.607760   \n",
       "\n",
       "      state_Washington  sales_channel_Agent  sales_channel_Branch  \\\n",
       "0            -0.302996             1.283370             -0.617572   \n",
       "1            -0.302996            -0.779198              1.619246   \n",
       "2            -0.302996             1.283370             -0.617572   \n",
       "3            -0.302996             1.283370             -0.617572   \n",
       "4            -0.302996            -0.779198             -0.617572   \n",
       "...                ...                  ...                   ...   \n",
       "8177         -0.302996            -0.779198              1.619246   \n",
       "8178         -0.302996            -0.779198              1.619246   \n",
       "8179         -0.302996            -0.779198             -0.617572   \n",
       "8180         -0.302996            -0.779198             -0.617572   \n",
       "8181         -0.302996             1.283370             -0.617572   \n",
       "\n",
       "      sales_channel_Call Center  sales_channel_Web  \\\n",
       "0                     -0.497249          -0.416595   \n",
       "1                     -0.497249          -0.416595   \n",
       "2                     -0.497249          -0.416595   \n",
       "3                     -0.497249          -0.416595   \n",
       "4                      2.011067          -0.416595   \n",
       "...                         ...                ...   \n",
       "8177                  -0.497249          -0.416595   \n",
       "8178                  -0.497249          -0.416595   \n",
       "8179                  -0.497249           2.400413   \n",
       "8180                   2.011067          -0.416595   \n",
       "8181                  -0.497249          -0.416595   \n",
       "\n",
       "      vehicle_class_Four-Door Car  \n",
       "0                       -1.063879  \n",
       "1                       -1.063879  \n",
       "2                        0.939956  \n",
       "3                       -1.063879  \n",
       "4                        0.939956  \n",
       "...                           ...  \n",
       "8177                     0.939956  \n",
       "8178                    -1.063879  \n",
       "8179                     0.939956  \n",
       "8180                     0.939956  \n",
       "8181                    -1.063879  \n",
       "\n",
       "[8182 rows x 10 columns]"
      ]
     },
     "metadata": {},
     "output_type": "display_data"
    }
   ],
   "source": [
    "from sklearn.linear_model import LinearRegression\n",
    "from sklearn.feature_selection import RFE\n",
    "\n",
    "lm = LinearRegression()\n",
    "\n",
    "selector = RFE(lm, n_features_to_select= 10, step = 1, verbose = 1) # Step is how many features to add or drop everytime\n",
    "selector.fit(X_train, y_train)\n",
    "\n",
    "kept_features = selector.get_support(indices = True) #returns an array of integers corresponding to nonremoved features\n",
    "\n",
    "Columns_new=X.columns\n",
    "X_train=pd.DataFrame(X_train)\n",
    "X_train.columns=Columns_new\n",
    "X_test=pd.DataFrame(X_test)\n",
    "X_train.columns=Columns_new\n",
    "kept_features = list(X_train.iloc[:,kept_features].columns)\n",
    "\n",
    "X_train_RFE = selector.transform(X_train)\n",
    "X_test_RFE  = selector.transform(X_test)\n",
    "\n",
    "X_train_RFE = pd.DataFrame(X_train, columns=kept_features)\n",
    "X_test_RFE  = pd.DataFrame(X_test, columns=kept_features)\n",
    "\n",
    "print(\"Final selected features: \")\n",
    "display(X_train_RFE)"
   ]
  },
  {
   "cell_type": "code",
   "execution_count": 182,
   "id": "151a0ebf",
   "metadata": {},
   "outputs": [
    {
     "ename": "ValueError",
     "evalue": "The indices for endog and exog are not aligned",
     "output_type": "error",
     "traceback": [
      "\u001b[1;31m---------------------------------------------------------------------------\u001b[0m",
      "\u001b[1;31mValueError\u001b[0m                                Traceback (most recent call last)",
      "Cell \u001b[1;32mIn[182], line 10\u001b[0m\n\u001b[0;32m      7\u001b[0m     \u001b[38;5;28;01mreturn\u001b[39;00m selected_features\n\u001b[0;32m      9\u001b[0m \u001b[38;5;66;03m# Use case:\u001b[39;00m\n\u001b[1;32m---> 10\u001b[0m selected_features_pvalue \u001b[38;5;241m=\u001b[39m feature_selection_pvalue(X_train, y_train)\n\u001b[0;32m     11\u001b[0m \u001b[38;5;66;03m# Print or display the selected features\u001b[39;00m\n\u001b[0;32m     12\u001b[0m \u001b[38;5;28mprint\u001b[39m(\u001b[38;5;124m\"\u001b[39m\u001b[38;5;124mSelected Features based on P-value:\u001b[39m\u001b[38;5;124m\"\u001b[39m)\n",
      "Cell \u001b[1;32mIn[182], line 4\u001b[0m, in \u001b[0;36mfeature_selection_pvalue\u001b[1;34m(X, y, significance_level)\u001b[0m\n\u001b[0;32m      2\u001b[0m \u001b[38;5;28;01mdef\u001b[39;00m \u001b[38;5;21mfeature_selection_pvalue\u001b[39m(X, y, significance_level\u001b[38;5;241m=\u001b[39m\u001b[38;5;241m0.05\u001b[39m):\n\u001b[0;32m      3\u001b[0m     X \u001b[38;5;241m=\u001b[39m sm\u001b[38;5;241m.\u001b[39madd_constant(X)\n\u001b[1;32m----> 4\u001b[0m     model \u001b[38;5;241m=\u001b[39m sm\u001b[38;5;241m.\u001b[39mOLS(y, X)\u001b[38;5;241m.\u001b[39mfit()\n\u001b[0;32m      5\u001b[0m     p_values \u001b[38;5;241m=\u001b[39m model\u001b[38;5;241m.\u001b[39mpvalues[\u001b[38;5;241m1\u001b[39m:]  \u001b[38;5;66;03m# Exclude the constant term\u001b[39;00m\n\u001b[0;32m      6\u001b[0m     selected_features \u001b[38;5;241m=\u001b[39m X\u001b[38;5;241m.\u001b[39mcolumns[\u001b[38;5;241m1\u001b[39m:][p_values \u001b[38;5;241m<\u001b[39m significance_level]\n",
      "File \u001b[1;32m~\\anaconda3\\Lib\\site-packages\\statsmodels\\regression\\linear_model.py:922\u001b[0m, in \u001b[0;36mOLS.__init__\u001b[1;34m(self, endog, exog, missing, hasconst, **kwargs)\u001b[0m\n\u001b[0;32m    919\u001b[0m     msg \u001b[38;5;241m=\u001b[39m (\u001b[38;5;124m\"\u001b[39m\u001b[38;5;124mWeights are not supported in OLS and will be ignored\u001b[39m\u001b[38;5;124m\"\u001b[39m\n\u001b[0;32m    920\u001b[0m            \u001b[38;5;124m\"\u001b[39m\u001b[38;5;124mAn exception will be raised in the next version.\u001b[39m\u001b[38;5;124m\"\u001b[39m)\n\u001b[0;32m    921\u001b[0m     warnings\u001b[38;5;241m.\u001b[39mwarn(msg, ValueWarning)\n\u001b[1;32m--> 922\u001b[0m \u001b[38;5;28msuper\u001b[39m(OLS, \u001b[38;5;28mself\u001b[39m)\u001b[38;5;241m.\u001b[39m\u001b[38;5;21m__init__\u001b[39m(endog, exog, missing\u001b[38;5;241m=\u001b[39mmissing,\n\u001b[0;32m    923\u001b[0m                           hasconst\u001b[38;5;241m=\u001b[39mhasconst, \u001b[38;5;241m*\u001b[39m\u001b[38;5;241m*\u001b[39mkwargs)\n\u001b[0;32m    924\u001b[0m \u001b[38;5;28;01mif\u001b[39;00m \u001b[38;5;124m\"\u001b[39m\u001b[38;5;124mweights\u001b[39m\u001b[38;5;124m\"\u001b[39m \u001b[38;5;129;01min\u001b[39;00m \u001b[38;5;28mself\u001b[39m\u001b[38;5;241m.\u001b[39m_init_keys:\n\u001b[0;32m    925\u001b[0m     \u001b[38;5;28mself\u001b[39m\u001b[38;5;241m.\u001b[39m_init_keys\u001b[38;5;241m.\u001b[39mremove(\u001b[38;5;124m\"\u001b[39m\u001b[38;5;124mweights\u001b[39m\u001b[38;5;124m\"\u001b[39m)\n",
      "File \u001b[1;32m~\\anaconda3\\Lib\\site-packages\\statsmodels\\regression\\linear_model.py:748\u001b[0m, in \u001b[0;36mWLS.__init__\u001b[1;34m(self, endog, exog, weights, missing, hasconst, **kwargs)\u001b[0m\n\u001b[0;32m    746\u001b[0m \u001b[38;5;28;01melse\u001b[39;00m:\n\u001b[0;32m    747\u001b[0m     weights \u001b[38;5;241m=\u001b[39m weights\u001b[38;5;241m.\u001b[39msqueeze()\n\u001b[1;32m--> 748\u001b[0m \u001b[38;5;28msuper\u001b[39m(WLS, \u001b[38;5;28mself\u001b[39m)\u001b[38;5;241m.\u001b[39m\u001b[38;5;21m__init__\u001b[39m(endog, exog, missing\u001b[38;5;241m=\u001b[39mmissing,\n\u001b[0;32m    749\u001b[0m                           weights\u001b[38;5;241m=\u001b[39mweights, hasconst\u001b[38;5;241m=\u001b[39mhasconst, \u001b[38;5;241m*\u001b[39m\u001b[38;5;241m*\u001b[39mkwargs)\n\u001b[0;32m    750\u001b[0m nobs \u001b[38;5;241m=\u001b[39m \u001b[38;5;28mself\u001b[39m\u001b[38;5;241m.\u001b[39mexog\u001b[38;5;241m.\u001b[39mshape[\u001b[38;5;241m0\u001b[39m]\n\u001b[0;32m    751\u001b[0m weights \u001b[38;5;241m=\u001b[39m \u001b[38;5;28mself\u001b[39m\u001b[38;5;241m.\u001b[39mweights\n",
      "File \u001b[1;32m~\\anaconda3\\Lib\\site-packages\\statsmodels\\regression\\linear_model.py:202\u001b[0m, in \u001b[0;36mRegressionModel.__init__\u001b[1;34m(self, endog, exog, **kwargs)\u001b[0m\n\u001b[0;32m    201\u001b[0m \u001b[38;5;28;01mdef\u001b[39;00m \u001b[38;5;21m__init__\u001b[39m(\u001b[38;5;28mself\u001b[39m, endog, exog, \u001b[38;5;241m*\u001b[39m\u001b[38;5;241m*\u001b[39mkwargs):\n\u001b[1;32m--> 202\u001b[0m     \u001b[38;5;28msuper\u001b[39m(RegressionModel, \u001b[38;5;28mself\u001b[39m)\u001b[38;5;241m.\u001b[39m\u001b[38;5;21m__init__\u001b[39m(endog, exog, \u001b[38;5;241m*\u001b[39m\u001b[38;5;241m*\u001b[39mkwargs)\n\u001b[0;32m    203\u001b[0m     \u001b[38;5;28mself\u001b[39m\u001b[38;5;241m.\u001b[39mpinv_wexog: Float64Array \u001b[38;5;241m|\u001b[39m \u001b[38;5;28;01mNone\u001b[39;00m \u001b[38;5;241m=\u001b[39m \u001b[38;5;28;01mNone\u001b[39;00m\n\u001b[0;32m    204\u001b[0m     \u001b[38;5;28mself\u001b[39m\u001b[38;5;241m.\u001b[39m_data_attr\u001b[38;5;241m.\u001b[39mextend([\u001b[38;5;124m'\u001b[39m\u001b[38;5;124mpinv_wexog\u001b[39m\u001b[38;5;124m'\u001b[39m, \u001b[38;5;124m'\u001b[39m\u001b[38;5;124mwendog\u001b[39m\u001b[38;5;124m'\u001b[39m, \u001b[38;5;124m'\u001b[39m\u001b[38;5;124mwexog\u001b[39m\u001b[38;5;124m'\u001b[39m, \u001b[38;5;124m'\u001b[39m\u001b[38;5;124mweights\u001b[39m\u001b[38;5;124m'\u001b[39m])\n",
      "File \u001b[1;32m~\\anaconda3\\Lib\\site-packages\\statsmodels\\base\\model.py:270\u001b[0m, in \u001b[0;36mLikelihoodModel.__init__\u001b[1;34m(self, endog, exog, **kwargs)\u001b[0m\n\u001b[0;32m    269\u001b[0m \u001b[38;5;28;01mdef\u001b[39;00m \u001b[38;5;21m__init__\u001b[39m(\u001b[38;5;28mself\u001b[39m, endog, exog\u001b[38;5;241m=\u001b[39m\u001b[38;5;28;01mNone\u001b[39;00m, \u001b[38;5;241m*\u001b[39m\u001b[38;5;241m*\u001b[39mkwargs):\n\u001b[1;32m--> 270\u001b[0m     \u001b[38;5;28msuper\u001b[39m()\u001b[38;5;241m.\u001b[39m\u001b[38;5;21m__init__\u001b[39m(endog, exog, \u001b[38;5;241m*\u001b[39m\u001b[38;5;241m*\u001b[39mkwargs)\n\u001b[0;32m    271\u001b[0m     \u001b[38;5;28mself\u001b[39m\u001b[38;5;241m.\u001b[39minitialize()\n",
      "File \u001b[1;32m~\\anaconda3\\Lib\\site-packages\\statsmodels\\base\\model.py:95\u001b[0m, in \u001b[0;36mModel.__init__\u001b[1;34m(self, endog, exog, **kwargs)\u001b[0m\n\u001b[0;32m     93\u001b[0m missing \u001b[38;5;241m=\u001b[39m kwargs\u001b[38;5;241m.\u001b[39mpop(\u001b[38;5;124m'\u001b[39m\u001b[38;5;124mmissing\u001b[39m\u001b[38;5;124m'\u001b[39m, \u001b[38;5;124m'\u001b[39m\u001b[38;5;124mnone\u001b[39m\u001b[38;5;124m'\u001b[39m)\n\u001b[0;32m     94\u001b[0m hasconst \u001b[38;5;241m=\u001b[39m kwargs\u001b[38;5;241m.\u001b[39mpop(\u001b[38;5;124m'\u001b[39m\u001b[38;5;124mhasconst\u001b[39m\u001b[38;5;124m'\u001b[39m, \u001b[38;5;28;01mNone\u001b[39;00m)\n\u001b[1;32m---> 95\u001b[0m \u001b[38;5;28mself\u001b[39m\u001b[38;5;241m.\u001b[39mdata \u001b[38;5;241m=\u001b[39m \u001b[38;5;28mself\u001b[39m\u001b[38;5;241m.\u001b[39m_handle_data(endog, exog, missing, hasconst,\n\u001b[0;32m     96\u001b[0m                               \u001b[38;5;241m*\u001b[39m\u001b[38;5;241m*\u001b[39mkwargs)\n\u001b[0;32m     97\u001b[0m \u001b[38;5;28mself\u001b[39m\u001b[38;5;241m.\u001b[39mk_constant \u001b[38;5;241m=\u001b[39m \u001b[38;5;28mself\u001b[39m\u001b[38;5;241m.\u001b[39mdata\u001b[38;5;241m.\u001b[39mk_constant\n\u001b[0;32m     98\u001b[0m \u001b[38;5;28mself\u001b[39m\u001b[38;5;241m.\u001b[39mexog \u001b[38;5;241m=\u001b[39m \u001b[38;5;28mself\u001b[39m\u001b[38;5;241m.\u001b[39mdata\u001b[38;5;241m.\u001b[39mexog\n",
      "File \u001b[1;32m~\\anaconda3\\Lib\\site-packages\\statsmodels\\base\\model.py:135\u001b[0m, in \u001b[0;36mModel._handle_data\u001b[1;34m(self, endog, exog, missing, hasconst, **kwargs)\u001b[0m\n\u001b[0;32m    134\u001b[0m \u001b[38;5;28;01mdef\u001b[39;00m \u001b[38;5;21m_handle_data\u001b[39m(\u001b[38;5;28mself\u001b[39m, endog, exog, missing, hasconst, \u001b[38;5;241m*\u001b[39m\u001b[38;5;241m*\u001b[39mkwargs):\n\u001b[1;32m--> 135\u001b[0m     data \u001b[38;5;241m=\u001b[39m handle_data(endog, exog, missing, hasconst, \u001b[38;5;241m*\u001b[39m\u001b[38;5;241m*\u001b[39mkwargs)\n\u001b[0;32m    136\u001b[0m     \u001b[38;5;66;03m# kwargs arrays could have changed, easier to just attach here\u001b[39;00m\n\u001b[0;32m    137\u001b[0m     \u001b[38;5;28;01mfor\u001b[39;00m key \u001b[38;5;129;01min\u001b[39;00m kwargs:\n",
      "File \u001b[1;32m~\\anaconda3\\Lib\\site-packages\\statsmodels\\base\\data.py:675\u001b[0m, in \u001b[0;36mhandle_data\u001b[1;34m(endog, exog, missing, hasconst, **kwargs)\u001b[0m\n\u001b[0;32m    672\u001b[0m     exog \u001b[38;5;241m=\u001b[39m np\u001b[38;5;241m.\u001b[39masarray(exog)\n\u001b[0;32m    674\u001b[0m klass \u001b[38;5;241m=\u001b[39m handle_data_class_factory(endog, exog)\n\u001b[1;32m--> 675\u001b[0m \u001b[38;5;28;01mreturn\u001b[39;00m klass(endog, exog\u001b[38;5;241m=\u001b[39mexog, missing\u001b[38;5;241m=\u001b[39mmissing, hasconst\u001b[38;5;241m=\u001b[39mhasconst,\n\u001b[0;32m    676\u001b[0m              \u001b[38;5;241m*\u001b[39m\u001b[38;5;241m*\u001b[39mkwargs)\n",
      "File \u001b[1;32m~\\anaconda3\\Lib\\site-packages\\statsmodels\\base\\data.py:89\u001b[0m, in \u001b[0;36mModelData.__init__\u001b[1;34m(self, endog, exog, missing, hasconst, **kwargs)\u001b[0m\n\u001b[0;32m     87\u001b[0m \u001b[38;5;28mself\u001b[39m\u001b[38;5;241m.\u001b[39mk_constant \u001b[38;5;241m=\u001b[39m \u001b[38;5;241m0\u001b[39m\n\u001b[0;32m     88\u001b[0m \u001b[38;5;28mself\u001b[39m\u001b[38;5;241m.\u001b[39m_handle_constant(hasconst)\n\u001b[1;32m---> 89\u001b[0m \u001b[38;5;28mself\u001b[39m\u001b[38;5;241m.\u001b[39m_check_integrity()\n\u001b[0;32m     90\u001b[0m \u001b[38;5;28mself\u001b[39m\u001b[38;5;241m.\u001b[39m_cache \u001b[38;5;241m=\u001b[39m {}\n",
      "File \u001b[1;32m~\\anaconda3\\Lib\\site-packages\\statsmodels\\base\\data.py:533\u001b[0m, in \u001b[0;36mPandasData._check_integrity\u001b[1;34m(self)\u001b[0m\n\u001b[0;32m    529\u001b[0m \u001b[38;5;66;03m# exog can be None and we could be upcasting one or the other\u001b[39;00m\n\u001b[0;32m    530\u001b[0m \u001b[38;5;28;01mif\u001b[39;00m (exog \u001b[38;5;129;01mis\u001b[39;00m \u001b[38;5;129;01mnot\u001b[39;00m \u001b[38;5;28;01mNone\u001b[39;00m \u001b[38;5;129;01mand\u001b[39;00m\n\u001b[0;32m    531\u001b[0m         (\u001b[38;5;28mhasattr\u001b[39m(endog, \u001b[38;5;124m'\u001b[39m\u001b[38;5;124mindex\u001b[39m\u001b[38;5;124m'\u001b[39m) \u001b[38;5;129;01mand\u001b[39;00m \u001b[38;5;28mhasattr\u001b[39m(exog, \u001b[38;5;124m'\u001b[39m\u001b[38;5;124mindex\u001b[39m\u001b[38;5;124m'\u001b[39m)) \u001b[38;5;129;01mand\u001b[39;00m\n\u001b[0;32m    532\u001b[0m         \u001b[38;5;129;01mnot\u001b[39;00m \u001b[38;5;28mself\u001b[39m\u001b[38;5;241m.\u001b[39morig_endog\u001b[38;5;241m.\u001b[39mindex\u001b[38;5;241m.\u001b[39mequals(\u001b[38;5;28mself\u001b[39m\u001b[38;5;241m.\u001b[39morig_exog\u001b[38;5;241m.\u001b[39mindex)):\n\u001b[1;32m--> 533\u001b[0m     \u001b[38;5;28;01mraise\u001b[39;00m \u001b[38;5;167;01mValueError\u001b[39;00m(\u001b[38;5;124m\"\u001b[39m\u001b[38;5;124mThe indices for endog and exog are not aligned\u001b[39m\u001b[38;5;124m\"\u001b[39m)\n\u001b[0;32m    534\u001b[0m \u001b[38;5;28msuper\u001b[39m(PandasData, \u001b[38;5;28mself\u001b[39m)\u001b[38;5;241m.\u001b[39m_check_integrity()\n",
      "\u001b[1;31mValueError\u001b[0m: The indices for endog and exog are not aligned"
     ]
    }
   ],
   "source": [
    "#P-Value Using func\n",
    "def feature_selection_pvalue(X, y, significance_level=0.05):\n",
    "    X = sm.add_constant(X)\n",
    "    model = sm.OLS(y, X).fit()\n",
    "    p_values = model.pvalues[1:]  # Exclude the constant term\n",
    "    selected_features = X.columns[1:][p_values < significance_level]\n",
    "    return selected_features\n",
    "\n",
    "# Use case:\n",
    "selected_features_pvalue = feature_selection_pvalue(X_train, y_train)\n",
    "# Print or display the selected features\n",
    "print(\"Selected Features based on P-value:\")\n",
    "print(selected_features_pvalue)"
   ]
  },
  {
   "cell_type": "code",
   "execution_count": 156,
   "id": "f40b70be",
   "metadata": {},
   "outputs": [
    {
     "data": {
      "text/plain": [
       "Index(['customer_lifetime_value', 'income', 'monthly_premium_auto',\n",
       "       'months_since_last_claim', 'months_since_policy_inception',\n",
       "       'number_of_open_complaints', 'number_of_policies', 'month',\n",
       "       'state_Arizona', 'state_California', 'state_Nevada', 'state_Oregon',\n",
       "       'state_Washington', 'response_No', 'response_Yes',\n",
       "       'employmentstatus_Disabled', 'employmentstatus_Employed',\n",
       "       'employmentstatus_Medical Leave', 'employmentstatus_Retired',\n",
       "       'employmentstatus_Unemployed', 'gender_F', 'gender_M',\n",
       "       'location_code_Rural', 'location_code_Suburban', 'location_code_Urban',\n",
       "       'marital_status_Divorced', 'marital_status_Married',\n",
       "       'marital_status_Single', 'policy_Corporate L1', 'policy_Corporate L2',\n",
       "       'policy_Corporate L3', 'policy_Personal L1', 'policy_Personal L2',\n",
       "       'policy_Personal L3', 'policy_Special L1', 'policy_Special L2',\n",
       "       'policy_Special L3', 'renew_offer_type_Offer1',\n",
       "       'renew_offer_type_Offer2', 'renew_offer_type_Offer3',\n",
       "       'renew_offer_type_Offer4', 'sales_channel_Agent',\n",
       "       'sales_channel_Branch', 'sales_channel_Call Center',\n",
       "       'sales_channel_Web', 'vehicle_class_Four-Door Car',\n",
       "       'vehicle_class_Luxury Car', 'vehicle_class_Luxury SUV',\n",
       "       'vehicle_class_SUV', 'vehicle_class_Sports Car',\n",
       "       'vehicle_class_Two-Door Car', 'vehicle_type_A', 'coverage', 'education',\n",
       "       'vehicle_size'],\n",
       "      dtype='object')"
      ]
     },
     "execution_count": 156,
     "metadata": {},
     "output_type": "execute_result"
    }
   ],
   "source": [
    "Columns_new"
   ]
  },
  {
   "cell_type": "code",
   "execution_count": null,
   "id": "56bf25ba",
   "metadata": {},
   "outputs": [],
   "source": []
  }
 ],
 "metadata": {
  "kernelspec": {
   "display_name": "Python 3 (ipykernel)",
   "language": "python",
   "name": "python3"
  },
  "language_info": {
   "codemirror_mode": {
    "name": "ipython",
    "version": 3
   },
   "file_extension": ".py",
   "mimetype": "text/x-python",
   "name": "python",
   "nbconvert_exporter": "python",
   "pygments_lexer": "ipython3",
   "version": "3.11.5"
  }
 },
 "nbformat": 4,
 "nbformat_minor": 5
}
