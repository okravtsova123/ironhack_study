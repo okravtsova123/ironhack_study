{
 "cells": [
  {
   "cell_type": "markdown",
   "id": "bd326ae3",
   "metadata": {},
   "source": [
    "## All the old data, everything we've done before copied :)"
   ]
  },
  {
   "cell_type": "code",
   "execution_count": 1,
   "id": "b071c7fb",
   "metadata": {},
   "outputs": [],
   "source": [
    "import pandas as pd\n",
    "import seaborn as sn\n",
    "from sklearn.preprocessing import MinMaxScaler\n",
    "from sklearn.preprocessing import StandardScaler\n",
    "from sklearn.preprocessing import PowerTransformer"
   ]
  },
  {
   "cell_type": "code",
   "execution_count": 64,
   "id": "1cbcb43c",
   "metadata": {},
   "outputs": [],
   "source": [
    "df=pd.read_csv('https://raw.githubusercontent.com/okravtsova123/ironhack_study/main/labs/python_lab_2901/marketing_customer_analysis_clean.csv')\n",
    "#separating numericals from the original dataset\n",
    "df_numerical=df.select_dtypes(include='number')\n",
    "df_numerical=df_numerical.drop(\"unnamed:_0\", axis=1)\n",
    "df_numerical\n",
    "X=df_numerical[[\"customer_lifetime_value\",\"income\",\"monthly_premium_auto\",\"months_since_last_claim\",\"months_since_policy_inception\",\"number_of_open_complaints\", \"number_of_policies\", \"month\"]]\n",
    "y=df_numerical[[\"total_claim_amount\"]]\n",
    "from sklearn.model_selection import train_test_split\n",
    "X_train, X_test, y_train, y_test=train_test_split(X,y, random_state=42)\n",
    "\n",
    "from sklearn.preprocessing import MinMaxScaler\n",
    "from sklearn.preprocessing import StandardScaler\n",
    "from sklearn.preprocessing import PowerTransformer\n",
    "\n",
    "pt=PowerTransformer()\n",
    "pt.fit(X_train)\n",
    "\n",
    "X_train=pd.DataFrame(pt.transform(X_train))\n",
    "\n",
    "df_numerical.columns\n",
    "\n",
    "X_train=X_train.rename(columns={0:\"customer_lifetime_value\", 1:\"income\",2:\"monthly_premium_auto\", 3:\"months_since_last_claim\", 4:\"months_since_policy_inception\", 5:\"number_of_open_complaints\", 6:\"number_of_policies\", 7:\"total_claim_amount\", 8:\"month\"})\n",
    "\n",
    "X_test=pd.DataFrame(pt.transform(X_test))\n",
    "\n",
    "X_test=X_test.rename(columns={0:\"customer_lifetime_value\", 1:\"income\",2:\"monthly_premium_auto\", 3:\"months_since_last_claim\", 4:\"months_since_policy_inception\", 5:\"number_of_open_complaints\", 6:\"number_of_policies\", 7:\"total_claim_amount\", 8:\"month\"})\n",
    "\n",
    "from sklearn.linear_model import LinearRegression\n",
    "from sklearn.linear_model import LinearRegression\n",
    "lr=LinearRegression()\n",
    "model=lr.fit(X_train,y_train)\n",
    "\n",
    "y_pred=pd.DataFrame(model.predict(X_test))\n",
    "y_test=y_test.reset_index(drop=True)\n",
    "from sklearn.metrics import mean_squared_error as mse, mean_absolute_error as mae\n",
    "MSE=mse(y_test, y_pred)\n",
    "MAE=mae(y_test, y_pred)\n",
    "RMSE=mse(y_test, y_pred, squared=False)"
   ]
  },
  {
   "cell_type": "markdown",
   "id": "648f5dc6",
   "metadata": {},
   "source": [
    "## Calculating R2_score for the model based only on numericals"
   ]
  },
  {
   "cell_type": "code",
   "execution_count": 7,
   "id": "53178f5c",
   "metadata": {},
   "outputs": [],
   "source": [
    "from sklearn.metrics import r2_score"
   ]
  },
  {
   "cell_type": "code",
   "execution_count": 9,
   "id": "f7f0cc33",
   "metadata": {},
   "outputs": [
    {
     "data": {
      "text/plain": [
       "0.4496112658742951"
      ]
     },
     "execution_count": 9,
     "metadata": {},
     "output_type": "execute_result"
    }
   ],
   "source": [
    "#calculating r2_score for test set\n",
    "r2_score(y_test,y_pred)"
   ]
  },
  {
   "cell_type": "code",
   "execution_count": 65,
   "id": "87051f37",
   "metadata": {},
   "outputs": [
    {
     "data": {
      "text/plain": [
       "0.42061844452491715"
      ]
     },
     "execution_count": 65,
     "metadata": {},
     "output_type": "execute_result"
    }
   ],
   "source": [
    "#calculating r2_score for train set\n",
    "y_train_pred=pd.DataFrame(lr.predict(X_train))\n",
    "r2_score(y_train,y_train_pred)"
   ]
  },
  {
   "cell_type": "markdown",
   "id": "1c8b9f63",
   "metadata": {},
   "source": [
    "## CREATING MODEL FOR ALL VARIABLES"
   ]
  },
  {
   "cell_type": "markdown",
   "id": "8fe19e4a",
   "metadata": {},
   "source": [
    "## Combining numericals and categoricals"
   ]
  },
  {
   "cell_type": "markdown",
   "id": "a58ec8f0",
   "metadata": {},
   "source": [
    "### old code from prev lab to get all encoded"
   ]
  },
  {
   "cell_type": "code",
   "execution_count": 29,
   "id": "df67b6d8",
   "metadata": {
    "scrolled": true
   },
   "outputs": [
    {
     "name": "stderr",
     "output_type": "stream",
     "text": [
      "C:\\Users\\user\\AppData\\Local\\Temp\\ipykernel_20148\\729644646.py:15: SettingWithCopyWarning: \n",
      "A value is trying to be set on a copy of a slice from a DataFrame.\n",
      "Try using .loc[row_indexer,col_indexer] = value instead\n",
      "\n",
      "See the caveats in the documentation: https://pandas.pydata.org/pandas-docs/stable/user_guide/indexing.html#returning-a-view-versus-a-copy\n",
      "  df_category_ordinals['education']=df_category_ordinals['education'].map({\"High School or Below\": 1, \"College\": 2, \"Bachelor\": 3, \"Master\": 4, \"Doctor\": 5})\n",
      "C:\\Users\\user\\AppData\\Local\\Temp\\ipykernel_20148\\729644646.py:18: SettingWithCopyWarning: \n",
      "A value is trying to be set on a copy of a slice from a DataFrame.\n",
      "Try using .loc[row_indexer,col_indexer] = value instead\n",
      "\n",
      "See the caveats in the documentation: https://pandas.pydata.org/pandas-docs/stable/user_guide/indexing.html#returning-a-view-versus-a-copy\n",
      "  df_category_ordinals['vehicle_size']=df_category_ordinals['vehicle_size'].map({'Small': 1, 'Medsize': 2, 'Large': 3})\n",
      "C:\\Users\\user\\AppData\\Local\\Temp\\ipykernel_20148\\729644646.py:21: SettingWithCopyWarning: \n",
      "A value is trying to be set on a copy of a slice from a DataFrame.\n",
      "Try using .loc[row_indexer,col_indexer] = value instead\n",
      "\n",
      "See the caveats in the documentation: https://pandas.pydata.org/pandas-docs/stable/user_guide/indexing.html#returning-a-view-versus-a-copy\n",
      "  df_category_ordinals['coverage']=df_category_ordinals['coverage'].map({'Basic': 1, 'Extended': 2, 'Premium': 3})\n"
     ]
    }
   ],
   "source": [
    "#getting the object columns into categorical df to devide them into the nominals and ordinals\n",
    "df_category=df.select_dtypes(include='object')\n",
    "\n",
    "#deviding df_category; separating nominals\n",
    "df_category_nominals=df_category[['state','response', 'employmentstatus','gender', 'location_code', 'marital_status', 'policy', 'renew_offer_type', 'sales_channel',\"vehicle_class\", \"vehicle_type\"]]\n",
    "\n",
    "#transforming nominals for ML\n",
    "df_category_nominals=pd.get_dummies(df_category_nominals, dtype=int)\n",
    "\n",
    "#deviding df_category; separating ordinals\n",
    "df_category_ordinals=df_category[['coverage', 'education',\"vehicle_size\"]]\n",
    "\n",
    "#maping ordinals\n",
    "df_category_ordinals['education'].unique()\n",
    "df_category_ordinals['education']=df_category_ordinals['education'].map({\"High School or Below\": 1, \"College\": 2, \"Bachelor\": 3, \"Master\": 4, \"Doctor\": 5})\n",
    "\n",
    "df_category_ordinals['vehicle_size'].unique()\n",
    "df_category_ordinals['vehicle_size']=df_category_ordinals['vehicle_size'].map({'Small': 1, 'Medsize': 2, 'Large': 3})\n",
    "\n",
    "df_category_ordinals['coverage'].unique()\n",
    "df_category_ordinals['coverage']=df_category_ordinals['coverage'].map({'Basic': 1, 'Extended': 2, 'Premium': 3})\n",
    "\n",
    "df_category=pd.concat([df_category_nominals, df_category_ordinals], axis=1)\n",
    "df_category\n",
    "\n",
    "df_numerical=df.select_dtypes(include='number')\n",
    "df_numerical=df_numerical.drop(\"unnamed:_0\", axis=1)\n"
   ]
  },
  {
   "cell_type": "code",
   "execution_count": 30,
   "id": "524332d3",
   "metadata": {
    "scrolled": true
   },
   "outputs": [
    {
     "data": {
      "text/html": [
       "<div>\n",
       "<style scoped>\n",
       "    .dataframe tbody tr th:only-of-type {\n",
       "        vertical-align: middle;\n",
       "    }\n",
       "\n",
       "    .dataframe tbody tr th {\n",
       "        vertical-align: top;\n",
       "    }\n",
       "\n",
       "    .dataframe thead th {\n",
       "        text-align: right;\n",
       "    }\n",
       "</style>\n",
       "<table border=\"1\" class=\"dataframe\">\n",
       "  <thead>\n",
       "    <tr style=\"text-align: right;\">\n",
       "      <th></th>\n",
       "      <th>customer_lifetime_value</th>\n",
       "      <th>income</th>\n",
       "      <th>monthly_premium_auto</th>\n",
       "      <th>months_since_last_claim</th>\n",
       "      <th>months_since_policy_inception</th>\n",
       "      <th>number_of_open_complaints</th>\n",
       "      <th>number_of_policies</th>\n",
       "      <th>total_claim_amount</th>\n",
       "      <th>month</th>\n",
       "      <th>state_Arizona</th>\n",
       "      <th>...</th>\n",
       "      <th>vehicle_class_Four-Door Car</th>\n",
       "      <th>vehicle_class_Luxury Car</th>\n",
       "      <th>vehicle_class_Luxury SUV</th>\n",
       "      <th>vehicle_class_SUV</th>\n",
       "      <th>vehicle_class_Sports Car</th>\n",
       "      <th>vehicle_class_Two-Door Car</th>\n",
       "      <th>vehicle_type_A</th>\n",
       "      <th>coverage</th>\n",
       "      <th>education</th>\n",
       "      <th>vehicle_size</th>\n",
       "    </tr>\n",
       "  </thead>\n",
       "  <tbody>\n",
       "    <tr>\n",
       "      <th>0</th>\n",
       "      <td>4809.216960</td>\n",
       "      <td>48029</td>\n",
       "      <td>61</td>\n",
       "      <td>7.000000</td>\n",
       "      <td>52</td>\n",
       "      <td>0.000000</td>\n",
       "      <td>9</td>\n",
       "      <td>292.800000</td>\n",
       "      <td>2</td>\n",
       "      <td>1</td>\n",
       "      <td>...</td>\n",
       "      <td>1</td>\n",
       "      <td>0</td>\n",
       "      <td>0</td>\n",
       "      <td>0</td>\n",
       "      <td>0</td>\n",
       "      <td>0</td>\n",
       "      <td>1</td>\n",
       "      <td>1</td>\n",
       "      <td>2</td>\n",
       "      <td>2</td>\n",
       "    </tr>\n",
       "    <tr>\n",
       "      <th>1</th>\n",
       "      <td>2228.525238</td>\n",
       "      <td>0</td>\n",
       "      <td>64</td>\n",
       "      <td>3.000000</td>\n",
       "      <td>26</td>\n",
       "      <td>0.000000</td>\n",
       "      <td>1</td>\n",
       "      <td>744.924331</td>\n",
       "      <td>1</td>\n",
       "      <td>0</td>\n",
       "      <td>...</td>\n",
       "      <td>1</td>\n",
       "      <td>0</td>\n",
       "      <td>0</td>\n",
       "      <td>0</td>\n",
       "      <td>0</td>\n",
       "      <td>0</td>\n",
       "      <td>1</td>\n",
       "      <td>1</td>\n",
       "      <td>2</td>\n",
       "      <td>2</td>\n",
       "    </tr>\n",
       "    <tr>\n",
       "      <th>2</th>\n",
       "      <td>14947.917300</td>\n",
       "      <td>22139</td>\n",
       "      <td>100</td>\n",
       "      <td>34.000000</td>\n",
       "      <td>31</td>\n",
       "      <td>0.000000</td>\n",
       "      <td>2</td>\n",
       "      <td>480.000000</td>\n",
       "      <td>2</td>\n",
       "      <td>0</td>\n",
       "      <td>...</td>\n",
       "      <td>0</td>\n",
       "      <td>0</td>\n",
       "      <td>0</td>\n",
       "      <td>1</td>\n",
       "      <td>0</td>\n",
       "      <td>0</td>\n",
       "      <td>1</td>\n",
       "      <td>1</td>\n",
       "      <td>3</td>\n",
       "      <td>2</td>\n",
       "    </tr>\n",
       "    <tr>\n",
       "      <th>3</th>\n",
       "      <td>22332.439460</td>\n",
       "      <td>49078</td>\n",
       "      <td>97</td>\n",
       "      <td>10.000000</td>\n",
       "      <td>3</td>\n",
       "      <td>0.000000</td>\n",
       "      <td>2</td>\n",
       "      <td>484.013411</td>\n",
       "      <td>1</td>\n",
       "      <td>0</td>\n",
       "      <td>...</td>\n",
       "      <td>1</td>\n",
       "      <td>0</td>\n",
       "      <td>0</td>\n",
       "      <td>0</td>\n",
       "      <td>0</td>\n",
       "      <td>0</td>\n",
       "      <td>1</td>\n",
       "      <td>2</td>\n",
       "      <td>2</td>\n",
       "      <td>2</td>\n",
       "    </tr>\n",
       "    <tr>\n",
       "      <th>4</th>\n",
       "      <td>9025.067525</td>\n",
       "      <td>23675</td>\n",
       "      <td>117</td>\n",
       "      <td>15.149071</td>\n",
       "      <td>31</td>\n",
       "      <td>0.384256</td>\n",
       "      <td>7</td>\n",
       "      <td>707.925645</td>\n",
       "      <td>1</td>\n",
       "      <td>0</td>\n",
       "      <td>...</td>\n",
       "      <td>1</td>\n",
       "      <td>0</td>\n",
       "      <td>0</td>\n",
       "      <td>0</td>\n",
       "      <td>0</td>\n",
       "      <td>0</td>\n",
       "      <td>1</td>\n",
       "      <td>3</td>\n",
       "      <td>3</td>\n",
       "      <td>2</td>\n",
       "    </tr>\n",
       "    <tr>\n",
       "      <th>...</th>\n",
       "      <td>...</td>\n",
       "      <td>...</td>\n",
       "      <td>...</td>\n",
       "      <td>...</td>\n",
       "      <td>...</td>\n",
       "      <td>...</td>\n",
       "      <td>...</td>\n",
       "      <td>...</td>\n",
       "      <td>...</td>\n",
       "      <td>...</td>\n",
       "      <td>...</td>\n",
       "      <td>...</td>\n",
       "      <td>...</td>\n",
       "      <td>...</td>\n",
       "      <td>...</td>\n",
       "      <td>...</td>\n",
       "      <td>...</td>\n",
       "      <td>...</td>\n",
       "      <td>...</td>\n",
       "      <td>...</td>\n",
       "      <td>...</td>\n",
       "    </tr>\n",
       "    <tr>\n",
       "      <th>10905</th>\n",
       "      <td>15563.369440</td>\n",
       "      <td>0</td>\n",
       "      <td>253</td>\n",
       "      <td>15.149071</td>\n",
       "      <td>40</td>\n",
       "      <td>0.384256</td>\n",
       "      <td>7</td>\n",
       "      <td>1214.400000</td>\n",
       "      <td>1</td>\n",
       "      <td>0</td>\n",
       "      <td>...</td>\n",
       "      <td>0</td>\n",
       "      <td>1</td>\n",
       "      <td>0</td>\n",
       "      <td>0</td>\n",
       "      <td>0</td>\n",
       "      <td>0</td>\n",
       "      <td>1</td>\n",
       "      <td>3</td>\n",
       "      <td>3</td>\n",
       "      <td>2</td>\n",
       "    </tr>\n",
       "    <tr>\n",
       "      <th>10906</th>\n",
       "      <td>5259.444853</td>\n",
       "      <td>61146</td>\n",
       "      <td>65</td>\n",
       "      <td>7.000000</td>\n",
       "      <td>68</td>\n",
       "      <td>0.000000</td>\n",
       "      <td>6</td>\n",
       "      <td>273.018929</td>\n",
       "      <td>1</td>\n",
       "      <td>0</td>\n",
       "      <td>...</td>\n",
       "      <td>1</td>\n",
       "      <td>0</td>\n",
       "      <td>0</td>\n",
       "      <td>0</td>\n",
       "      <td>0</td>\n",
       "      <td>0</td>\n",
       "      <td>1</td>\n",
       "      <td>1</td>\n",
       "      <td>2</td>\n",
       "      <td>2</td>\n",
       "    </tr>\n",
       "    <tr>\n",
       "      <th>10907</th>\n",
       "      <td>23893.304100</td>\n",
       "      <td>39837</td>\n",
       "      <td>201</td>\n",
       "      <td>11.000000</td>\n",
       "      <td>63</td>\n",
       "      <td>0.000000</td>\n",
       "      <td>2</td>\n",
       "      <td>381.306996</td>\n",
       "      <td>2</td>\n",
       "      <td>1</td>\n",
       "      <td>...</td>\n",
       "      <td>0</td>\n",
       "      <td>0</td>\n",
       "      <td>1</td>\n",
       "      <td>0</td>\n",
       "      <td>0</td>\n",
       "      <td>0</td>\n",
       "      <td>1</td>\n",
       "      <td>2</td>\n",
       "      <td>3</td>\n",
       "      <td>2</td>\n",
       "    </tr>\n",
       "    <tr>\n",
       "      <th>10908</th>\n",
       "      <td>11971.977650</td>\n",
       "      <td>64195</td>\n",
       "      <td>158</td>\n",
       "      <td>0.000000</td>\n",
       "      <td>27</td>\n",
       "      <td>4.000000</td>\n",
       "      <td>6</td>\n",
       "      <td>618.288849</td>\n",
       "      <td>2</td>\n",
       "      <td>0</td>\n",
       "      <td>...</td>\n",
       "      <td>0</td>\n",
       "      <td>0</td>\n",
       "      <td>0</td>\n",
       "      <td>1</td>\n",
       "      <td>0</td>\n",
       "      <td>0</td>\n",
       "      <td>1</td>\n",
       "      <td>3</td>\n",
       "      <td>2</td>\n",
       "      <td>2</td>\n",
       "    </tr>\n",
       "    <tr>\n",
       "      <th>10909</th>\n",
       "      <td>6857.519928</td>\n",
       "      <td>0</td>\n",
       "      <td>101</td>\n",
       "      <td>31.000000</td>\n",
       "      <td>1</td>\n",
       "      <td>0.000000</td>\n",
       "      <td>3</td>\n",
       "      <td>1021.719397</td>\n",
       "      <td>1</td>\n",
       "      <td>0</td>\n",
       "      <td>...</td>\n",
       "      <td>0</td>\n",
       "      <td>0</td>\n",
       "      <td>0</td>\n",
       "      <td>1</td>\n",
       "      <td>0</td>\n",
       "      <td>0</td>\n",
       "      <td>1</td>\n",
       "      <td>1</td>\n",
       "      <td>3</td>\n",
       "      <td>2</td>\n",
       "    </tr>\n",
       "  </tbody>\n",
       "</table>\n",
       "<p>10910 rows × 56 columns</p>\n",
       "</div>"
      ],
      "text/plain": [
       "       customer_lifetime_value  income  monthly_premium_auto  \\\n",
       "0                  4809.216960   48029                    61   \n",
       "1                  2228.525238       0                    64   \n",
       "2                 14947.917300   22139                   100   \n",
       "3                 22332.439460   49078                    97   \n",
       "4                  9025.067525   23675                   117   \n",
       "...                        ...     ...                   ...   \n",
       "10905             15563.369440       0                   253   \n",
       "10906              5259.444853   61146                    65   \n",
       "10907             23893.304100   39837                   201   \n",
       "10908             11971.977650   64195                   158   \n",
       "10909              6857.519928       0                   101   \n",
       "\n",
       "       months_since_last_claim  months_since_policy_inception  \\\n",
       "0                     7.000000                             52   \n",
       "1                     3.000000                             26   \n",
       "2                    34.000000                             31   \n",
       "3                    10.000000                              3   \n",
       "4                    15.149071                             31   \n",
       "...                        ...                            ...   \n",
       "10905                15.149071                             40   \n",
       "10906                 7.000000                             68   \n",
       "10907                11.000000                             63   \n",
       "10908                 0.000000                             27   \n",
       "10909                31.000000                              1   \n",
       "\n",
       "       number_of_open_complaints  number_of_policies  total_claim_amount  \\\n",
       "0                       0.000000                   9          292.800000   \n",
       "1                       0.000000                   1          744.924331   \n",
       "2                       0.000000                   2          480.000000   \n",
       "3                       0.000000                   2          484.013411   \n",
       "4                       0.384256                   7          707.925645   \n",
       "...                          ...                 ...                 ...   \n",
       "10905                   0.384256                   7         1214.400000   \n",
       "10906                   0.000000                   6          273.018929   \n",
       "10907                   0.000000                   2          381.306996   \n",
       "10908                   4.000000                   6          618.288849   \n",
       "10909                   0.000000                   3         1021.719397   \n",
       "\n",
       "       month  state_Arizona  ...  vehicle_class_Four-Door Car  \\\n",
       "0          2              1  ...                            1   \n",
       "1          1              0  ...                            1   \n",
       "2          2              0  ...                            0   \n",
       "3          1              0  ...                            1   \n",
       "4          1              0  ...                            1   \n",
       "...      ...            ...  ...                          ...   \n",
       "10905      1              0  ...                            0   \n",
       "10906      1              0  ...                            1   \n",
       "10907      2              1  ...                            0   \n",
       "10908      2              0  ...                            0   \n",
       "10909      1              0  ...                            0   \n",
       "\n",
       "       vehicle_class_Luxury Car  vehicle_class_Luxury SUV  vehicle_class_SUV  \\\n",
       "0                             0                         0                  0   \n",
       "1                             0                         0                  0   \n",
       "2                             0                         0                  1   \n",
       "3                             0                         0                  0   \n",
       "4                             0                         0                  0   \n",
       "...                         ...                       ...                ...   \n",
       "10905                         1                         0                  0   \n",
       "10906                         0                         0                  0   \n",
       "10907                         0                         1                  0   \n",
       "10908                         0                         0                  1   \n",
       "10909                         0                         0                  1   \n",
       "\n",
       "       vehicle_class_Sports Car  vehicle_class_Two-Door Car  vehicle_type_A  \\\n",
       "0                             0                           0               1   \n",
       "1                             0                           0               1   \n",
       "2                             0                           0               1   \n",
       "3                             0                           0               1   \n",
       "4                             0                           0               1   \n",
       "...                         ...                         ...             ...   \n",
       "10905                         0                           0               1   \n",
       "10906                         0                           0               1   \n",
       "10907                         0                           0               1   \n",
       "10908                         0                           0               1   \n",
       "10909                         0                           0               1   \n",
       "\n",
       "       coverage  education  vehicle_size  \n",
       "0             1          2             2  \n",
       "1             1          2             2  \n",
       "2             1          3             2  \n",
       "3             2          2             2  \n",
       "4             3          3             2  \n",
       "...         ...        ...           ...  \n",
       "10905         3          3             2  \n",
       "10906         1          2             2  \n",
       "10907         2          3             2  \n",
       "10908         3          2             2  \n",
       "10909         1          3             2  \n",
       "\n",
       "[10910 rows x 56 columns]"
      ]
     },
     "execution_count": 30,
     "metadata": {},
     "output_type": "execute_result"
    }
   ],
   "source": [
    "df_full=pd.concat([df_numerical, df_category], axis=1)\n",
    "df_full"
   ]
  },
  {
   "cell_type": "markdown",
   "id": "fc6fc3c0",
   "metadata": {},
   "source": [
    "## X-Y split"
   ]
  },
  {
   "cell_type": "code",
   "execution_count": 31,
   "id": "675568da",
   "metadata": {},
   "outputs": [],
   "source": [
    "#defining X and y\n",
    "\n",
    "X=df_full.drop(\"total_claim_amount\", axis=1)\n",
    "y=df_full[[\"total_claim_amount\"]]"
   ]
  },
  {
   "cell_type": "code",
   "execution_count": 32,
   "id": "92d65211",
   "metadata": {},
   "outputs": [],
   "source": [
    "#spliting X and y\n",
    "X_train, X_test, y_train, y_test=train_test_split(X,y, random_state=42)"
   ]
  },
  {
   "cell_type": "markdown",
   "id": "4ea1eb08",
   "metadata": {},
   "source": [
    "## Scaling"
   ]
  },
  {
   "cell_type": "code",
   "execution_count": 35,
   "id": "c3703271",
   "metadata": {},
   "outputs": [],
   "source": [
    "#scaling everything with powertransformation for X_train\n",
    "pt=PowerTransformer()\n",
    "pt.fit(X_train)\n",
    "X_train=pt.transform(X_train)"
   ]
  },
  {
   "cell_type": "code",
   "execution_count": 36,
   "id": "3cc8f47d",
   "metadata": {},
   "outputs": [],
   "source": [
    "#scaling everything with powertransformation for X_test with fit from X_train\n",
    "X_test=pt.transform(X_test)"
   ]
  },
  {
   "cell_type": "code",
   "execution_count": 38,
   "id": "dee9e11c",
   "metadata": {},
   "outputs": [
    {
     "data": {
      "text/plain": [
       "array([[<Axes: title={'center': 'total_claim_amount'}>]], dtype=object)"
      ]
     },
     "execution_count": 38,
     "metadata": {},
     "output_type": "execute_result"
    },
    {
     "data": {
      "image/png": "[encoded data removed]",
      "text/plain": [
       "<Figure size 640x480 with 1 Axes>"
      ]
     },
     "metadata": {},
     "output_type": "display_data"
    },
    {
     "data": {
      "image/png": "[encoded data removed]",
      "text/plain": [
       "<Figure size 640x480 with 1 Axes>"
      ]
     },
     "metadata": {},
     "output_type": "display_data"
    }
   ],
   "source": [
    "#checking distribution of y\n",
    "y_train.hist()\n",
    "y_test.hist()\n",
    "\n",
    "#has ight scew but checking without transformation"
   ]
  },
  {
   "cell_type": "markdown",
   "id": "0dd040d5",
   "metadata": {},
   "source": [
    "## Model creating"
   ]
  },
  {
   "cell_type": "code",
   "execution_count": 40,
   "id": "a7c312cd",
   "metadata": {},
   "outputs": [],
   "source": [
    "lr=LinearRegression()"
   ]
  },
  {
   "cell_type": "code",
   "execution_count": 45,
   "id": "327d2f93",
   "metadata": {},
   "outputs": [
    {
     "name": "stdout",
     "output_type": "stream",
     "text": [
      "model_coefficients: [[ 6.12704415e+00 -1.88102507e+01  8.46582039e+01  4.28812789e+00\n",
      "   1.34895854e-01 -1.52584574e+00 -2.42299539e+00 -4.88919173e-02\n",
      "   5.12695113e+13  6.52814537e+13  3.85353801e+13  5.97033095e+13\n",
      "   3.73318359e+13 -3.77444075e+11 -3.77444075e+11  5.85264666e+13\n",
      "   1.34302386e+14  5.91741741e+13  4.69765497e+13  1.20626620e+14\n",
      "  -1.00959425e+14 -1.00959425e+14 -1.78003376e+14 -2.17823769e+14\n",
      "  -1.72328602e+14 -5.23978486e+13 -7.21546320e+13 -6.48188232e+13\n",
      "   1.61321730e+13  2.01015976e+13  2.63076319e+13  2.83903054e+13\n",
      "   3.48908193e+13  4.01634861e+13  7.24151625e+12  1.09674170e+13\n",
      "   9.83565033e+12 -2.44619396e+14 -2.31700683e+14 -1.82372107e+14\n",
      "  -1.54597509e+14  3.75687373e+13  3.46421254e+13  3.08924884e+13\n",
      "   2.75072340e+13 -2.65849243e+13 -6.90850516e+12 -7.39886716e+12\n",
      "  -2.06393954e+13 -1.17689556e+13 -2.11836864e+13  0.00000000e+00\n",
      "   2.09580078e+01 -4.34960938e+00 -6.72363281e-01]]\n",
      "model_intercept: [434.5978312]\n"
     ]
    }
   ],
   "source": [
    "#training the model\n",
    "model_full=lr.fit(X_train,y_train)\n",
    "print(\"model_coefficients:\", model_full.coef_)\n",
    "print(\"model_intercept:\",model_full.intercept_)"
   ]
  },
  {
   "cell_type": "code",
   "execution_count": 46,
   "id": "f4307325",
   "metadata": {},
   "outputs": [],
   "source": [
    "#testing model\n",
    "y_pred=pd.DataFrame(lr.predict(X_test))"
   ]
  },
  {
   "cell_type": "code",
   "execution_count": 53,
   "id": "b70933ad",
   "metadata": {},
   "outputs": [
    {
     "name": "stdout",
     "output_type": "stream",
     "text": [
      "mse_full:21538.71679060425\n",
      "mae_full: 100.96278689489496\n",
      "RMSE:146.760746763582\n"
     ]
    }
   ],
   "source": [
    "#calculating mean errors\n",
    "MSE_full=mse(y_pred,y_test)\n",
    "MAE_full=mae(y_pred,y_test)\n",
    "RMSE_full=mse(y_pred,y_test, squared=False)\n",
    "print(f\"mse_full:{MSE_full}\\nmae_full: {MAE_full}\\nRMSE:{RMSE_full}\")"
   ]
  },
  {
   "cell_type": "markdown",
   "id": "b7b64216",
   "metadata": {},
   "source": [
    "## R2 calculating"
   ]
  },
  {
   "cell_type": "code",
   "execution_count": 56,
   "id": "23e4add5",
   "metadata": {},
   "outputs": [
    {
     "data": {
      "text/plain": [
       "0.7408420741787296"
      ]
     },
     "execution_count": 56,
     "metadata": {},
     "output_type": "execute_result"
    }
   ],
   "source": [
    "#calculating R2 for predictions\n",
    "r2_test=r2_score(y_test,y_pred)\n",
    "r2_test"
   ]
  },
  {
   "cell_type": "code",
   "execution_count": 60,
   "id": "cd76d99b",
   "metadata": {},
   "outputs": [
    {
     "data": {
      "text/plain": [
       "0.7385177338649123"
      ]
     },
     "execution_count": 60,
     "metadata": {},
     "output_type": "execute_result"
    }
   ],
   "source": [
    "#calculating R2 for train set\n",
    "\n",
    "#creating predictions from the train set\n",
    "y_train_pred=pd.DataFrame(lr.predict(X_train))\n",
    "\n",
    "#calculating R2\n",
    "r2_train=r2_score(y_train,y_train_pred)\n",
    "r2_train"
   ]
  },
  {
   "cell_type": "code",
   "execution_count": 63,
   "id": "f6c4d2c5",
   "metadata": {},
   "outputs": [
    {
     "data": {
      "text/plain": [
       "100.31"
      ]
     },
     "execution_count": 63,
     "metadata": {},
     "output_type": "execute_result"
    }
   ],
   "source": [
    "diff_r2=round(r2_test/r2_train*100, 2)\n",
    "diff_r2"
   ]
  },
  {
   "cell_type": "markdown",
   "id": "13900be3",
   "metadata": {},
   "source": [
    "# USING A MODEL WHERE Y is transformed too"
   ]
  },
  {
   "cell_type": "code",
   "execution_count": 88,
   "id": "8f14af34",
   "metadata": {},
   "outputs": [],
   "source": [
    "X1=df_full.drop([\"total_claim_amount\"], axis=1)\n",
    "y1=df_full[[\"total_claim_amount\"]]"
   ]
  },
  {
   "cell_type": "code",
   "execution_count": 89,
   "id": "aa62d342",
   "metadata": {},
   "outputs": [],
   "source": [
    "X1_train, X1_test, y1_train, y1_test=train_test_split(X1,y1,random_state=42)"
   ]
  },
  {
   "cell_type": "code",
   "execution_count": 90,
   "id": "fd80ecc2",
   "metadata": {},
   "outputs": [],
   "source": [
    "pt.fit(X1_train)\n",
    "X1_train=pd.DataFrame(pt.transform(X1_train))"
   ]
  },
  {
   "cell_type": "code",
   "execution_count": 91,
   "id": "e0ed9a54",
   "metadata": {},
   "outputs": [],
   "source": [
    "X1_test=pd.DataFrame(pt.transform(X1_test))"
   ]
  },
  {
   "cell_type": "code",
   "execution_count": 93,
   "id": "c8ae36d3",
   "metadata": {},
   "outputs": [],
   "source": [
    "pt.fit(y1_train)\n",
    "y1_train=pd.DataFrame(pt.transform(y1_train))\n",
    "y1_test=pd.DataFrame(pt.transform(y1_test))"
   ]
  },
  {
   "cell_type": "code",
   "execution_count": 95,
   "id": "66c9dcdf",
   "metadata": {},
   "outputs": [],
   "source": [
    "model_last=lr.fit(X1_train, y1_train)"
   ]
  },
  {
   "cell_type": "code",
   "execution_count": 97,
   "id": "62bac614",
   "metadata": {},
   "outputs": [],
   "source": [
    "y1_pred=pd.DataFrame(lr.predict(X1_test))"
   ]
  },
  {
   "cell_type": "code",
   "execution_count": 98,
   "id": "3ad9b615",
   "metadata": {},
   "outputs": [
    {
     "data": {
      "text/plain": [
       "0.8214215840003907"
      ]
     },
     "execution_count": 98,
     "metadata": {},
     "output_type": "execute_result"
    }
   ],
   "source": [
    "r2_score(y1_test,y1_pred)"
   ]
  },
  {
   "cell_type": "code",
   "execution_count": 99,
   "id": "1151d7b8",
   "metadata": {},
   "outputs": [
    {
     "data": {
      "text/plain": [
       "0.820510951690175"
      ]
     },
     "execution_count": 99,
     "metadata": {},
     "output_type": "execute_result"
    }
   ],
   "source": [
    "y1_train_pred=pd.DataFrame(lr.predict(X1_train))\n",
    "r2_score(y1_train,y1_train_pred)"
   ]
  },
  {
   "cell_type": "code",
   "execution_count": 110,
   "id": "b8daa7d2",
   "metadata": {},
   "outputs": [
    {
     "data": {
      "text/html": [
       "<div>\n",
       "<style scoped>\n",
       "    .dataframe tbody tr th:only-of-type {\n",
       "        vertical-align: middle;\n",
       "    }\n",
       "\n",
       "    .dataframe tbody tr th {\n",
       "        vertical-align: top;\n",
       "    }\n",
       "\n",
       "    .dataframe thead th {\n",
       "        text-align: right;\n",
       "    }\n",
       "</style>\n",
       "<table border=\"1\" class=\"dataframe\">\n",
       "  <thead>\n",
       "    <tr style=\"text-align: right;\">\n",
       "      <th></th>\n",
       "      <th>0</th>\n",
       "    </tr>\n",
       "  </thead>\n",
       "  <tbody>\n",
       "    <tr>\n",
       "      <th>0</th>\n",
       "      <td>0.014388</td>\n",
       "    </tr>\n",
       "    <tr>\n",
       "      <th>1</th>\n",
       "      <td>0.120886</td>\n",
       "    </tr>\n",
       "    <tr>\n",
       "      <th>2</th>\n",
       "      <td>0.335107</td>\n",
       "    </tr>\n",
       "    <tr>\n",
       "      <th>3</th>\n",
       "      <td>0.666400</td>\n",
       "    </tr>\n",
       "    <tr>\n",
       "      <th>4</th>\n",
       "      <td>-0.186670</td>\n",
       "    </tr>\n",
       "    <tr>\n",
       "      <th>...</th>\n",
       "      <td>...</td>\n",
       "    </tr>\n",
       "    <tr>\n",
       "      <th>2723</th>\n",
       "      <td>0.371610</td>\n",
       "    </tr>\n",
       "    <tr>\n",
       "      <th>2724</th>\n",
       "      <td>0.016663</td>\n",
       "    </tr>\n",
       "    <tr>\n",
       "      <th>2725</th>\n",
       "      <td>-1.551885</td>\n",
       "    </tr>\n",
       "    <tr>\n",
       "      <th>2726</th>\n",
       "      <td>0.441847</td>\n",
       "    </tr>\n",
       "    <tr>\n",
       "      <th>2727</th>\n",
       "      <td>-1.997777</td>\n",
       "    </tr>\n",
       "  </tbody>\n",
       "</table>\n",
       "<p>2728 rows × 1 columns</p>\n",
       "</div>"
      ],
      "text/plain": [
       "             0\n",
       "0     0.014388\n",
       "1     0.120886\n",
       "2     0.335107\n",
       "3     0.666400\n",
       "4    -0.186670\n",
       "...        ...\n",
       "2723  0.371610\n",
       "2724  0.016663\n",
       "2725 -1.551885\n",
       "2726  0.441847\n",
       "2727 -1.997777\n",
       "\n",
       "[2728 rows x 1 columns]"
      ]
     },
     "execution_count": 110,
     "metadata": {},
     "output_type": "execute_result"
    }
   ],
   "source": [
    "y1_pred"
   ]
  },
  {
   "cell_type": "code",
   "execution_count": 111,
   "id": "1e7952f1",
   "metadata": {},
   "outputs": [
    {
     "name": "stderr",
     "output_type": "stream",
     "text": [
      "C:\\Users\\user\\anaconda3\\Lib\\site-packages\\sklearn\\base.py:464: UserWarning: X does not have valid feature names, but PowerTransformer was fitted with feature names\n",
      "  warnings.warn(\n"
     ]
    },
    {
     "data": {
      "text/html": [
       "<div>\n",
       "<style scoped>\n",
       "    .dataframe tbody tr th:only-of-type {\n",
       "        vertical-align: middle;\n",
       "    }\n",
       "\n",
       "    .dataframe tbody tr th {\n",
       "        vertical-align: top;\n",
       "    }\n",
       "\n",
       "    .dataframe thead th {\n",
       "        text-align: right;\n",
       "    }\n",
       "</style>\n",
       "<table border=\"1\" class=\"dataframe\">\n",
       "  <thead>\n",
       "    <tr style=\"text-align: right;\">\n",
       "      <th></th>\n",
       "      <th>0</th>\n",
       "    </tr>\n",
       "  </thead>\n",
       "  <tbody>\n",
       "    <tr>\n",
       "      <th>0</th>\n",
       "      <td>386.311901</td>\n",
       "    </tr>\n",
       "    <tr>\n",
       "      <th>1</th>\n",
       "      <td>416.046928</td>\n",
       "    </tr>\n",
       "    <tr>\n",
       "      <th>2</th>\n",
       "      <td>479.495887</td>\n",
       "    </tr>\n",
       "    <tr>\n",
       "      <th>3</th>\n",
       "      <td>587.304943</td>\n",
       "    </tr>\n",
       "    <tr>\n",
       "      <th>4</th>\n",
       "      <td>333.414936</td>\n",
       "    </tr>\n",
       "    <tr>\n",
       "      <th>...</th>\n",
       "      <td>...</td>\n",
       "    </tr>\n",
       "    <tr>\n",
       "      <th>2723</th>\n",
       "      <td>490.795195</td>\n",
       "    </tr>\n",
       "    <tr>\n",
       "      <th>2724</th>\n",
       "      <td>386.934701</td>\n",
       "    </tr>\n",
       "    <tr>\n",
       "      <th>2725</th>\n",
       "      <td>81.926672</td>\n",
       "    </tr>\n",
       "    <tr>\n",
       "      <th>2726</th>\n",
       "      <td>512.938979</td>\n",
       "    </tr>\n",
       "    <tr>\n",
       "      <th>2727</th>\n",
       "      <td>38.069081</td>\n",
       "    </tr>\n",
       "  </tbody>\n",
       "</table>\n",
       "<p>2728 rows × 1 columns</p>\n",
       "</div>"
      ],
      "text/plain": [
       "               0\n",
       "0     386.311901\n",
       "1     416.046928\n",
       "2     479.495887\n",
       "3     587.304943\n",
       "4     333.414936\n",
       "...          ...\n",
       "2723  490.795195\n",
       "2724  386.934701\n",
       "2725   81.926672\n",
       "2726  512.938979\n",
       "2727   38.069081\n",
       "\n",
       "[2728 rows x 1 columns]"
      ]
     },
     "execution_count": 111,
     "metadata": {},
     "output_type": "execute_result"
    }
   ],
   "source": [
    "y_pred_original_scale=pd.DataFrame(pt.inverse_transform(y1_pred))\n",
    "y_pred_original_scale"
   ]
  },
  {
   "cell_type": "code",
   "execution_count": null,
   "id": "00f76d7b",
   "metadata": {},
   "outputs": [],
   "source": []
  }
 ],
 "metadata": {
  "kernelspec": {
   "display_name": "Python 3 (ipykernel)",
   "language": "python",
   "name": "python3"
  },
  "language_info": {
   "codemirror_mode": {
    "name": "ipython",
    "version": 3
   },
   "file_extension": ".py",
   "mimetype": "text/x-python",
   "name": "python",
   "nbconvert_exporter": "python",
   "pygments_lexer": "ipython3",
   "version": "3.11.5"
  }
 },
 "nbformat": 4,
 "nbformat_minor": 5
}
