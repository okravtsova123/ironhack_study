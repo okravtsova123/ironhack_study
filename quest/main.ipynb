{
 "cells": [
  {
   "cell_type": "markdown",
   "metadata": {
    "colab_type": "text",
    "id": "view-in-github"
   },
   "source": [
    "<a href=\"https://colab.research.google.com/github/okravtsova123/ironhack_study/blob/main/main.ipynb\" target=\"_parent\"><img src=\"https://colab.research.google.com/assets/colab-badge.svg\" alt=\"Open In Colab\"/></a>"
   ]
  },
  {
   "cell_type": "code",
   "execution_count": null,
   "metadata": {
    "colab": {
     "base_uri": "https://localhost:8080/"
    },
    "id": "H2RSFA-o5sNd",
    "outputId": "7b004a92-94e3-4723-a7bb-fd53526403df"
   },
   "outputs": [
    {
     "name": "stdout",
     "output_type": "stream",
     "text": [
      "You wake up on a couch and find yourself in a strange house with no windows which you have never been to before. You don't remember why you are here and what had happened before. You feel some unknown danger is approaching and you must get out of the house, NOW!\n",
      "You are now in game room\n",
      "What would you like to do? Type 'explore' or 'examine'?explore\n",
      "You explore the room. This is game room. You find couch, piano, door a\n",
      "You are now in game room\n",
      "What would you like to do? Type 'explore' or 'examine'?examine\n",
      "What would you like to examine?piano\n",
      "You examine piano. You find key for door a.\n",
      "You are now in game room\n",
      "What would you like to do? Type 'explore' or 'examine'?examine\n",
      "What would you like to examine?door a\n",
      "You examine door a. You unlock it with a key you have.\n",
      "Do you want to go to the next room? Ener 'yes' or 'no'yes\n",
      "Congrats! You escaped the room! You are now in Bedroom 1! Here you need to find another key\n",
      "You are now in bedroom1\n"
     ]
    }
   ],
   "source": [
    "import functions_dict as f\n",
    "\n",
    "f.game_state = INIT_GAME_STATE.copy()\n",
    "\n",
    "f.start_game()"
   ]
  }
 ],
 "metadata": {
  "colab": {
   "include_colab_link": true,
   "provenance": []
  },
  "kernelspec": {
   "display_name": "Python 3 (ipykernel)",
   "language": "python",
   "name": "python3"
  },
  "language_info": {
   "codemirror_mode": {
    "name": "ipython",
    "version": 3
   },
   "file_extension": ".py",
   "mimetype": "text/x-python",
   "name": "python",
   "nbconvert_exporter": "python",
   "pygments_lexer": "ipython3",
   "version": "3.11.5"
  }
 },
 "nbformat": 4,
 "nbformat_minor": 1
}
